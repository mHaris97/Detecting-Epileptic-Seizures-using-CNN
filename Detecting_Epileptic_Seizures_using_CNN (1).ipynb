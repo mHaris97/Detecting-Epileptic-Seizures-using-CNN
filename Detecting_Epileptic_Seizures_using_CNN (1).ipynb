{
  "nbformat": 4,
  "nbformat_minor": 0,
  "metadata": {
    "colab": {
      "name": "Detecting Epileptic Seizures using CNN.ipynb",
      "provenance": [],
      "collapsed_sections": [],
      "toc_visible": true
    },
    "kernelspec": {
      "name": "python3",
      "display_name": "Python 3"
    },
    "accelerator": "TPU"
  },
  "cells": [
    {
      "cell_type": "markdown",
      "metadata": {
        "id": "24Lseco7C3ES"
      },
      "source": [
        "# Implementation"
      ]
    },
    {
      "cell_type": "markdown",
      "metadata": {
        "id": "-2zlps5gB-V1"
      },
      "source": [
        "## Setting up Tensorflow\n",
        "Restart runtime, set it to GPU and then run this chunk. The default is tf2.x which has slightly different functions. I prefer working with tf1.x"
      ]
    },
    {
      "cell_type": "code",
      "metadata": {
        "id": "9Rdi5jiOCWmY",
        "outputId": "d5b20070-0284-4da3-ef55-2bf1030bf7a7",
        "colab": {
          "base_uri": "https://localhost:8080/",
          "height": 52
        }
      },
      "source": [
        "%tensorflow_version 1.x\n",
        "import tensorflow as tf\n",
        "print(tf.__version__)"
      ],
      "execution_count": 1,
      "outputs": [
        {
          "output_type": "stream",
          "text": [
            "TensorFlow 1.x selected.\n",
            "1.15.2\n"
          ],
          "name": "stdout"
        }
      ]
    },
    {
      "cell_type": "markdown",
      "metadata": {
        "id": "KKermRpjCq5J"
      },
      "source": [
        "## Loading Dataset\n",
        "Loading the EEG dataset from physionet databases [1]. Physionet allows us to load dataset directly from cloud. "
      ]
    },
    {
      "cell_type": "code",
      "metadata": {
        "id": "_ZggaaYKDMtM",
        "outputId": "023f3fb4-e1af-44ec-b90d-d37d02ef9f81",
        "colab": {
          "base_uri": "https://localhost:8080/",
          "height": 1000
        }
      },
      "source": [
        "# !wget -r -N -c -np https://physionet.org/files/chbmit/1.0.0/\n",
        "!gsutil -m cp -r gs://chbmit-1.0.0.physionet.org DESTINATION"
      ],
      "execution_count": null,
      "outputs": [
        {
          "output_type": "stream",
          "text": [
            "Copying gs://chbmit-1.0.0.physionet.org/RECORDS...\n",
            "Copying gs://chbmit-1.0.0.physionet.org/SHA256SUMS.txt...\n",
            "Copying gs://chbmit-1.0.0.physionet.org/RECORDS-WITH-SEIZURES...\n",
            "/ [0 files][    0.0 B/ 71.6 KiB]                                                \rCopying gs://chbmit-1.0.0.physionet.org/ANNOTATORS...\n",
            "/ [0 files][    0.0 B/ 74.2 KiB]                                                \r/ [0 files][    0.0 B/ 87.0 KiB]                                                \r/ [0 files][    0.0 B/ 87.0 KiB]                                                \rCopying gs://chbmit-1.0.0.physionet.org/chb-mit-scalp-eeg-database-1.0.0.zip...\n",
            "/ [0 files][    0.0 B/ 42.6 GiB]                                                \rCopying gs://chbmit-1.0.0.physionet.org/SUBJECT-INFO...\n",
            "/ [0 files][    0.0 B/ 42.6 GiB]                                                \rCopying gs://chbmit-1.0.0.physionet.org/shoeb-icml-2010.pdf...\n",
            "/ [0 files][    0.0 B/ 42.6 GiB]                                                \rCopying gs://chbmit-1.0.0.physionet.org/chb01/chb01-summary.txt...\n",
            "/ [0 files][    0.0 B/ 42.6 GiB]                                                \rCopying gs://chbmit-1.0.0.physionet.org/chb01/chb01_01.edf...\n",
            "/ [0 files][    0.0 B/ 42.7 GiB]                                                \rCopying gs://chbmit-1.0.0.physionet.org/chb01/chb01_02.edf...\n",
            "/ [0 files][    0.0 B/ 42.7 GiB]                                                \r/ [1 files][  2.6 KiB/ 42.7 GiB]                                                \rCopying gs://chbmit-1.0.0.physionet.org/chb01/chb01_03.edf...\n",
            "/ [1 files][  2.6 KiB/ 42.7 GiB]                                                \r/ [2 files][ 15.4 KiB/ 42.7 GiB]                                                \rCopying gs://chbmit-1.0.0.physionet.org/chb01/chb01_03.edf.seizures...\n",
            "/ [2 files][ 15.4 KiB/ 42.7 GiB]                                                \r/ [3 files][ 15.4 KiB/ 45.6 GiB]                                                \rCopying gs://chbmit-1.0.0.physionet.org/chb01/chb01_04.edf...\n",
            "Copying gs://chbmit-1.0.0.physionet.org/chb01/chb01_04.edf.seizures...\n",
            "Copying gs://chbmit-1.0.0.physionet.org/chb01/chb01_05.edf...\n",
            "Copying gs://chbmit-1.0.0.physionet.org/chb01/chb01_06.edf...\n",
            "Copying gs://chbmit-1.0.0.physionet.org/chb01/chb01_07.edf...\n",
            "Copying gs://chbmit-1.0.0.physionet.org/chb01/chb01_08.edf...\n",
            "Copying gs://chbmit-1.0.0.physionet.org/chb01/chb01_09.edf...\n",
            "Copying gs://chbmit-1.0.0.physionet.org/chb01/chb01_10.edf...\n",
            "Copying gs://chbmit-1.0.0.physionet.org/chb01/chb01_11.edf...\n",
            "Copying gs://chbmit-1.0.0.physionet.org/chb01/chb01_12.edf...\n",
            "Copying gs://chbmit-1.0.0.physionet.org/chb01/chb01_13.edf...\n",
            "Copying gs://chbmit-1.0.0.physionet.org/chb01/chb01_15.edf...\n",
            "Copying gs://chbmit-1.0.0.physionet.org/chb01/chb01_14.edf...\n",
            "Copying gs://chbmit-1.0.0.physionet.org/chb01/chb01_15.edf.seizures...\n",
            "Copying gs://chbmit-1.0.0.physionet.org/chb01/chb01_16.edf...\n",
            "Copying gs://chbmit-1.0.0.physionet.org/chb01/chb01_16.edf.seizures...\n",
            "Copying gs://chbmit-1.0.0.physionet.org/chb01/chb01_17.edf...\n",
            "Copying gs://chbmit-1.0.0.physionet.org/chb01/chb01_18.edf...\n",
            "Copying gs://chbmit-1.0.0.physionet.org/chb01/chb01_18.edf.seizures...\n",
            "Copying gs://chbmit-1.0.0.physionet.org/chb01/chb01_19.edf...\n",
            "Copying gs://chbmit-1.0.0.physionet.org/chb01/chb01_20.edf...\n",
            "Copying gs://chbmit-1.0.0.physionet.org/chb01/chb01_21.edf...\n",
            "Copying gs://chbmit-1.0.0.physionet.org/chb01/chb01_21.edf.seizures...\n",
            "Copying gs://chbmit-1.0.0.physionet.org/chb01/chb01_22.edf...\n",
            "Copying gs://chbmit-1.0.0.physionet.org/chb01/chb01_23.edf...\n",
            "Copying gs://chbmit-1.0.0.physionet.org/chb01/chb01_24.edf...\n",
            "Copying gs://chbmit-1.0.0.physionet.org/chb01/chb01_25.edf...\n",
            "Copying gs://chbmit-1.0.0.physionet.org/chb01/chb01_26.edf...\n",
            "Copying gs://chbmit-1.0.0.physionet.org/chb01/chb01_26.edf.seizures...\n",
            "Copying gs://chbmit-1.0.0.physionet.org/chb01/chb01_27.edf...\n",
            "Copying gs://chbmit-1.0.0.physionet.org/chb01/chb01_29.edf...\n",
            "Copying gs://chbmit-1.0.0.physionet.org/chb01/chb01_30.edf...\n",
            "Copying gs://chbmit-1.0.0.physionet.org/chb01/chb01_31.edf...\n",
            "Copying gs://chbmit-1.0.0.physionet.org/chb01/chb01_32.edf...\n",
            "Copying gs://chbmit-1.0.0.physionet.org/chb01/chb01_33.edf...\n",
            "Copying gs://chbmit-1.0.0.physionet.org/chb01/chb01_34.edf...\n",
            "Copying gs://chbmit-1.0.0.physionet.org/chb01/chb01_36.edf...\n",
            "Copying gs://chbmit-1.0.0.physionet.org/chb01/chb01_37.edf...\n",
            "Copying gs://chbmit-1.0.0.physionet.org/chb01/chb01_38.edf...\n",
            "Copying gs://chbmit-1.0.0.physionet.org/chb01/chb01_39.edf...\n",
            "Copying gs://chbmit-1.0.0.physionet.org/chb01/chb01_40.edf...\n",
            "Copying gs://chbmit-1.0.0.physionet.org/chb01/chb01_41.edf...\n",
            "Copying gs://chbmit-1.0.0.physionet.org/chb01/chb01_42.edf...\n",
            "Copying gs://chbmit-1.0.0.physionet.org/chb01/chb01_43.edf...\n",
            "Copying gs://chbmit-1.0.0.physionet.org/chb01/chb01_46.edf...\n",
            "Copying gs://chbmit-1.0.0.physionet.org/chb02/chb02-summary.txt...\n",
            "Copying gs://chbmit-1.0.0.physionet.org/chb02/chb02_01.edf...\n",
            "Copying gs://chbmit-1.0.0.physionet.org/chb02/chb02_02.edf...\n",
            "Copying gs://chbmit-1.0.0.physionet.org/chb02/chb02_03.edf...\n",
            "Copying gs://chbmit-1.0.0.physionet.org/chb02/chb02_04.edf...\n",
            "Copying gs://chbmit-1.0.0.physionet.org/chb02/chb02_05.edf...\n",
            "Copying gs://chbmit-1.0.0.physionet.org/chb02/chb02_06.edf...\n",
            "Copying gs://chbmit-1.0.0.physionet.org/chb02/chb02_07.edf...\n",
            "Copying gs://chbmit-1.0.0.physionet.org/chb02/chb02_08.edf...\n",
            "Copying gs://chbmit-1.0.0.physionet.org/chb02/chb02_09.edf...\n",
            "Copying gs://chbmit-1.0.0.physionet.org/chb02/chb02_10.edf...\n",
            "Copying gs://chbmit-1.0.0.physionet.org/chb02/chb02_11.edf...\n",
            "Copying gs://chbmit-1.0.0.physionet.org/chb02/chb02_12.edf...\n",
            "Copying gs://chbmit-1.0.0.physionet.org/chb02/chb02_13.edf...\n",
            "Copying gs://chbmit-1.0.0.physionet.org/chb02/chb02_14.edf...\n",
            "Copying gs://chbmit-1.0.0.physionet.org/chb02/chb02_16+.edf.seizures...\n",
            "Copying gs://chbmit-1.0.0.physionet.org/chb02/chb02_15.edf...\n",
            "Copying gs://chbmit-1.0.0.physionet.org/chb02/chb02_16+.edf...\n",
            "Copying gs://chbmit-1.0.0.physionet.org/chb02/chb02_16.edf...\n",
            "Copying gs://chbmit-1.0.0.physionet.org/chb02/chb02_16.edf.seizures...\n",
            "Copying gs://chbmit-1.0.0.physionet.org/chb02/chb02_18.edf...\n",
            "Copying gs://chbmit-1.0.0.physionet.org/chb02/chb02_17.edf...\n",
            "Copying gs://chbmit-1.0.0.physionet.org/chb02/chb02_19.edf...\n",
            "Copying gs://chbmit-1.0.0.physionet.org/chb02/chb02_19.edf.seizures...\n",
            "Copying gs://chbmit-1.0.0.physionet.org/chb02/chb02_20.edf...\n",
            "Copying gs://chbmit-1.0.0.physionet.org/chb02/chb02_21.edf...\n",
            "Copying gs://chbmit-1.0.0.physionet.org/chb02/chb02_22.edf...\n",
            "Copying gs://chbmit-1.0.0.physionet.org/chb02/chb02_23.edf...\n",
            "Copying gs://chbmit-1.0.0.physionet.org/chb02/chb02_24.edf...\n",
            "Copying gs://chbmit-1.0.0.physionet.org/chb02/chb02_26.edf...\n",
            "Copying gs://chbmit-1.0.0.physionet.org/chb02/chb02_25.edf...\n",
            "Copying gs://chbmit-1.0.0.physionet.org/chb02/chb02_27.edf...\n",
            "Copying gs://chbmit-1.0.0.physionet.org/chb02/chb02_28.edf...\n",
            "Copying gs://chbmit-1.0.0.physionet.org/chb02/chb02_29.edf...\n",
            "Copying gs://chbmit-1.0.0.physionet.org/chb02/chb02_30.edf...\n",
            "Copying gs://chbmit-1.0.0.physionet.org/chb02/chb02_31.edf...\n",
            "Copying gs://chbmit-1.0.0.physionet.org/chb02/chb02_32.edf...\n",
            "Copying gs://chbmit-1.0.0.physionet.org/chb02/chb02_33.edf...\n",
            "Copying gs://chbmit-1.0.0.physionet.org/chb02/chb02_34.edf...\n",
            "Copying gs://chbmit-1.0.0.physionet.org/chb02/chb02_35.edf...\n",
            "Copying gs://chbmit-1.0.0.physionet.org/chb03/chb03-summary.txt...\n",
            "Copying gs://chbmit-1.0.0.physionet.org/chb03/chb03_01.edf...\n",
            "Copying gs://chbmit-1.0.0.physionet.org/chb03/chb03_01.edf.seizures...\n",
            "Copying gs://chbmit-1.0.0.physionet.org/chb03/chb03_02.edf...\n",
            "Copying gs://chbmit-1.0.0.physionet.org/chb03/chb03_03.edf...\n",
            "Copying gs://chbmit-1.0.0.physionet.org/chb03/chb03_02.edf.seizures...\n",
            "Copying gs://chbmit-1.0.0.physionet.org/chb03/chb03_03.edf.seizures...\n",
            "Copying gs://chbmit-1.0.0.physionet.org/chb03/chb03_04.edf...\n",
            "Copying gs://chbmit-1.0.0.physionet.org/chb03/chb03_04.edf.seizures...\n",
            "Copying gs://chbmit-1.0.0.physionet.org/chb03/chb03_05.edf...\n",
            "Copying gs://chbmit-1.0.0.physionet.org/chb03/chb03_06.edf...\n",
            "Copying gs://chbmit-1.0.0.physionet.org/chb03/chb03_07.edf...\n",
            "Copying gs://chbmit-1.0.0.physionet.org/chb03/chb03_08.edf...\n",
            "Copying gs://chbmit-1.0.0.physionet.org/chb03/chb03_09.edf...\n",
            "Copying gs://chbmit-1.0.0.physionet.org/chb03/chb03_10.edf...\n",
            "Copying gs://chbmit-1.0.0.physionet.org/chb03/chb03_11.edf...\n",
            "Copying gs://chbmit-1.0.0.physionet.org/chb03/chb03_12.edf...\n",
            "Copying gs://chbmit-1.0.0.physionet.org/chb03/chb03_13.edf...\n",
            "Copying gs://chbmit-1.0.0.physionet.org/chb03/chb03_17.edf...\n",
            "Copying gs://chbmit-1.0.0.physionet.org/chb03/chb03_14.edf...\n",
            "Copying gs://chbmit-1.0.0.physionet.org/chb03/chb03_18.edf...\n",
            "Copying gs://chbmit-1.0.0.physionet.org/chb03/chb03_19.edf...\n",
            "Copying gs://chbmit-1.0.0.physionet.org/chb03/chb03_15.edf...\n",
            "Copying gs://chbmit-1.0.0.physionet.org/chb03/chb03_16.edf...\n",
            "Copying gs://chbmit-1.0.0.physionet.org/chb03/chb03_20.edf...\n",
            "Copying gs://chbmit-1.0.0.physionet.org/chb03/chb03_21.edf...\n",
            "Copying gs://chbmit-1.0.0.physionet.org/chb03/chb03_22.edf...\n"
          ],
          "name": "stdout"
        }
      ]
    },
    {
      "cell_type": "code",
      "metadata": {
        "id": "hSJ75ZLTXKoY"
      },
      "source": [
        "# from google.colab import drive\n",
        "# drive.mount('/content/drive')"
      ],
      "execution_count": null,
      "outputs": []
    },
    {
      "cell_type": "markdown",
      "metadata": {
        "id": "O3NCs89XrurD"
      },
      "source": [
        "Checking some files content."
      ]
    },
    {
      "cell_type": "code",
      "metadata": {
        "id": "rWetP4mbrIUt",
        "outputId": "080d3d8f-997e-44ac-dcd4-947c13143a63",
        "colab": {
          "base_uri": "https://localhost:8080/",
          "height": 1000
        }
      },
      "source": [
        "file = '/content/DESTINATION/chbmit-1.0.0.physionet.org/chb01/chb01-summary.txt'\n",
        "f = open(file, 'r')\n",
        "file_contents = f.read()\n",
        "print(file_contents)"
      ],
      "execution_count": 2,
      "outputs": [
        {
          "output_type": "stream",
          "text": [
            "Data Sampling Rate: 256 Hz\n",
            "*************************\n",
            "\n",
            "Channels in EDF Files:\n",
            "**********************\n",
            "Channel 1: FP1-F7\n",
            "Channel 2: F7-T7\n",
            "Channel 3: T7-P7\n",
            "Channel 4: P7-O1\n",
            "Channel 5: FP1-F3\n",
            "Channel 6: F3-C3\n",
            "Channel 7: C3-P3\n",
            "Channel 8: P3-O1\n",
            "Channel 9: FP2-F4\n",
            "Channel 10: F4-C4\n",
            "Channel 11: C4-P4\n",
            "Channel 12: P4-O2\n",
            "Channel 13: FP2-F8\n",
            "Channel 14: F8-T8\n",
            "Channel 15: T8-P8\n",
            "Channel 16: P8-O2\n",
            "Channel 17: FZ-CZ\n",
            "Channel 18: CZ-PZ\n",
            "Channel 19: P7-T7\n",
            "Channel 20: T7-FT9\n",
            "Channel 21: FT9-FT10\n",
            "Channel 22: FT10-T8\n",
            "Channel 23: T8-P8\n",
            "\n",
            "File Name: chb01_01.edf\n",
            "File Start Time: 11:42:54\n",
            "File End Time: 12:42:54\n",
            "Number of Seizures in File: 0\n",
            "\n",
            "File Name: chb01_02.edf\n",
            "File Start Time: 12:42:57\n",
            "File End Time: 13:42:57\n",
            "Number of Seizures in File: 0\n",
            "\n",
            "File Name: chb01_03.edf\n",
            "File Start Time: 13:43:04\n",
            "File End Time: 14:43:04\n",
            "Number of Seizures in File: 1\n",
            "Seizure Start Time: 2996 seconds\n",
            "Seizure End Time: 3036 seconds\n",
            "\n",
            "File Name: chb01_04.edf\n",
            "File Start Time: 14:43:12\n",
            "File End Time: 15:43:12\n",
            "Number of Seizures in File: 1\n",
            "Seizure Start Time: 1467 seconds\n",
            "Seizure End Time: 1494 seconds\n",
            "\n",
            "File Name: chb01_05.edf\n",
            "File Start Time: 15:43:19\n",
            "File End Time: 16:43:19\n",
            "Number of Seizures in File: 0\n",
            "\n",
            "File Name: chb01_06.edf\n",
            "File Start Time: 16:43:26\n",
            "File End Time: 17:43:26\n",
            "Number of Seizures in File: 0\n",
            "\n",
            "File Name: chb01_07.edf\n",
            "File Start Time: 17:43:33\n",
            "File End Time: 18:43:33\n",
            "Number of Seizures in File: 0\n",
            "\n",
            "File Name: chb01_08.edf\n",
            "File Start Time: 18:43:40\n",
            "File End Time: 19:43:40\n",
            "Number of Seizures in File: 0\n",
            "\n",
            "File Name: chb01_09.edf\n",
            "File Start Time: 19:43:56\n",
            "File End Time: 20:43:56\n",
            "Number of Seizures in File: 0\n",
            "\n",
            "File Name: chb01_10.edf\n",
            "File Start Time: 20:44:07\n",
            "File End Time: 21:44:07\n",
            "Number of Seizures in File: 0\n",
            "\n",
            "File Name: chb01_11.edf\n",
            "File Start Time: 21:44:14\n",
            "File End Time: 22:44:14\n",
            "Number of Seizures in File: 0\n",
            "\n",
            "File Name: chb01_12.edf\n",
            "File Start Time: 22:44:22\n",
            "File End Time: 23:44:22\n",
            "Number of Seizures in File: 0\n",
            "\n",
            "File Name: chb01_13.edf\n",
            "File Start Time: 23:44:29\n",
            "File End Time: 24:44:29\n",
            "Number of Seizures in File: 0\n",
            "\n",
            "File Name: chb01_14.edf\n",
            "File Start Time: 00:44:37\n",
            "File End Time: 1:44:37\n",
            "Number of Seizures in File: 0\n",
            "\n",
            "File Name: chb01_15.edf\n",
            "File Start Time: 01:44:44\n",
            "File End Time: 2:44:44\n",
            "Number of Seizures in File: 1\n",
            "Seizure Start Time: 1732 seconds\n",
            "Seizure End Time: 1772 seconds\n",
            "\n",
            "File Name: chb01_16.edf\n",
            "File Start Time: 02:44:51\n",
            "File End Time: 3:44:51\n",
            "Number of Seizures in File: 1\n",
            "Seizure Start Time: 1015 seconds\n",
            "Seizure End Time: 1066 seconds\n",
            "\n",
            "File Name: chb01_17.edf\n",
            "File Start Time: 03:44:59\n",
            "File End Time: 4:44:59\n",
            "Number of Seizures in File: 0\n",
            "\n",
            "File Name: chb01_18.edf\n",
            "File Start Time: 04:45:06\n",
            "File End Time: 5:45:06\n",
            "Number of Seizures in File: 1\n",
            "Seizure Start Time: 1720 seconds\n",
            "Seizure End Time: 1810 seconds\n",
            "\n",
            "File Name: chb01_19.edf\n",
            "File Start Time: 05:45:13\n",
            "File End Time: 6:45:13\n",
            "Number of Seizures in File: 0\n",
            "\n",
            "File Name: chb01_20.edf\n",
            "File Start Time: 06:45:20\n",
            "File End Time: 7:29:43\n",
            "Number of Seizures in File: 0\n",
            "\n",
            "File Name: chb01_21.edf\n",
            "File Start Time: 07:33:46\n",
            "File End Time: 8:33:46\n",
            "Number of Seizures in File: 1\n",
            "Seizure Start Time: 327 seconds\n",
            "Seizure End Time: 420 seconds\n",
            "\n",
            "File Name: chb01_22.edf\n",
            "File Start Time: 08:33:49\n",
            "File End Time: 9:33:49\n",
            "Number of Seizures in File: 0\n",
            "\n",
            "File Name: chb01_23.edf\n",
            "File Start Time: 09:33:58\n",
            "File End Time: 10:33:58\n",
            "Number of Seizures in File: 0\n",
            "\n",
            "File Name: chb01_24.edf\n",
            "File Start Time: 10:34:06\n",
            "File End Time: 11:34:06\n",
            "Number of Seizures in File: 0\n",
            "\n",
            "File Name: chb01_25.edf\n",
            "File Start Time: 11:34:14\n",
            "File End Time: 12:34:14\n",
            "Number of Seizures in File: 0\n",
            "\n",
            "File Name: chb01_26.edf\n",
            "File Start Time: 12:34:22\n",
            "File End Time: 13:13:07\n",
            "Number of Seizures in File: 1\n",
            "Seizure Start Time: 1862 seconds\n",
            "Seizure End Time: 1963 seconds\n",
            "\n",
            "File Name: chb01_27.edf\n",
            "File Start Time: 13:13:21\n",
            "File End Time: 13:23:21\n",
            "Number of Seizures in File: 0\n",
            "\n",
            "File Name: chb01_29.edf\n",
            "File Start Time: 13:24:08\n",
            "File End Time: 14:24:08\n",
            "Number of Seizures in File: 0\n",
            "\n",
            "File Name: chb01_30.edf\n",
            "File Start Time: 14:24:15\n",
            "File End Time: 15:24:15\n",
            "Number of Seizures in File: 0\n",
            "\n",
            "File Name: chb01_31.edf\n",
            "File Start Time: 15:24:24\n",
            "File End Time: 16:24:24\n",
            "Number of Seizures in File: 0\n",
            "\n",
            "File Name: chb01_32.edf\n",
            "File Start Time: 16:24:32\n",
            "File End Time: 17:24:32\n",
            "Number of Seizures in File: 0\n",
            "\n",
            "File Name: chb01_33.edf\n",
            "File Start Time: 17:24:39\n",
            "File End Time: 18:24:39\n",
            "Number of Seizures in File: 0\n",
            "\n",
            "File Name: chb01_34.edf\n",
            "File Start Time: 18:24:46\n",
            "File End Time: 19:24:46\n",
            "Number of Seizures in File: 0\n",
            "\n",
            "File Name: chb01_36.edf\n",
            "File Start Time: 22:14:43\n",
            "File End Time: 23:14:43\n",
            "Number of Seizures in File: 0\n",
            "\n",
            "File Name: chb01_37.edf\n",
            "File Start Time: 23:14:46\n",
            "File End Time: 24:14:46\n",
            "Number of Seizures in File: 0\n",
            "\n",
            "File Name: chb01_38.edf\n",
            "File Start Time: 00:14:53\n",
            "File End Time: 1:14:53\n",
            "Number of Seizures in File: 0\n",
            "\n",
            "File Name: chb01_39.edf\n",
            "File Start Time: 01:15:01\n",
            "File End Time: 2:15:01\n",
            "Number of Seizures in File: 0\n",
            "\n",
            "File Name: chb01_40.edf\n",
            "File Start Time: 02:15:08\n",
            "File End Time: 3:15:08\n",
            "Number of Seizures in File: 0\n",
            "\n",
            "File Name: chb01_41.edf\n",
            "File Start Time: 03:15:15\n",
            "File End Time: 4:15:15\n",
            "Number of Seizures in File: 0\n",
            "\n",
            "File Name: chb01_42.edf\n",
            "File Start Time: 04:15:22\n",
            "File End Time: 5:15:22\n",
            "Number of Seizures in File: 0\n",
            "\n",
            "File Name: chb01_43.edf\n",
            "File Start Time: 05:15:29\n",
            "File End Time: 6:15:29\n",
            "Number of Seizures in File: 0\n",
            "\n",
            "File Name: chb01_46.edf\n",
            "File Start Time: 08:15:51\n",
            "File End Time: 9:15:51\n",
            "Number of Seizures in File: 0\n",
            "\n"
          ],
          "name": "stdout"
        }
      ]
    },
    {
      "cell_type": "code",
      "metadata": {
        "id": "JT5Ih52msbCh",
        "outputId": "78c711a5-7f86-4973-f686-01a4d103dc7e",
        "colab": {
          "base_uri": "https://localhost:8080/",
          "height": 71
        }
      },
      "source": [
        "!pip install pyedflib"
      ],
      "execution_count": 4,
      "outputs": [
        {
          "output_type": "stream",
          "text": [
            "Requirement already satisfied: pyedflib in /usr/local/lib/python3.6/dist-packages (0.1.19)\n",
            "Requirement already satisfied: numpy>=1.9.1 in /usr/local/lib/python3.6/dist-packages (from pyedflib) (1.18.5)\n"
          ],
          "name": "stdout"
        }
      ]
    },
    {
      "cell_type": "code",
      "metadata": {
        "id": "fnXYN6yIr0md",
        "outputId": "49243b5b-2471-4220-9df1-ab9d54548e9e",
        "colab": {
          "base_uri": "https://localhost:8080/",
          "height": 352
        }
      },
      "source": [
        "from pyedflib import highlevel\n",
        "import numpy as np\n",
        "import matplotlib.pyplot as plt\n",
        "\n",
        "# read an edf file\n",
        "file2 = '/content/DESTINATION/chbmit-1.0.0.physionet.org/chb02/chb02_16+.edf'\n",
        "signals, signal_headers, header = highlevel.read_edf(file2)\n",
        "\n",
        "dft = np.fft.fft(signals, axis=1)\n",
        "\n",
        "plt.subplot(1,2,1)\n",
        "plt.plot(np.transpose(signals[0:3,:1000]))\n",
        "plt.title('Raw signals')\n",
        "plt.subplot(1,2,2)\n",
        "plt.plot(np.transpose(dft[0:3,:1000]))\n",
        "plt.title('Fourier transform')\n",
        "plt.show()"
      ],
      "execution_count": 3,
      "outputs": [
        {
          "output_type": "stream",
          "text": [
            "Reading Channels: 100%|██████████| 23/23 [00:04<00:00,  4.88it/s]\n",
            "/usr/local/lib/python3.6/dist-packages/numpy/core/_asarray.py:85: ComplexWarning: Casting complex values to real discards the imaginary part\n",
            "  return array(a, dtype, copy=False, order=order)\n"
          ],
          "name": "stderr"
        },
        {
          "output_type": "display_data",
          "data": {
            "image/png": "[encoded data removed]",
            "text/plain": [
              "<Figure size 432x288 with 2 Axes>"
            ]
          },
          "metadata": {
            "tags": [],
            "needs_background": "light"
          }
        }
      ]
    },
    {
      "cell_type": "markdown",
      "metadata": {
        "id": "VOXRJRMUDhZs"
      },
      "source": [
        "## Preproccessing\n",
        "Some basic data preprocessing includes obtaining signals in frequency domain usinf fft and shaping the data to arrange as labels and training+test data."
      ]
    },
    {
      "cell_type": "markdown",
      "metadata": {
        "id": "WQZLzVtIfNqr"
      },
      "source": [
        "### First we will read all the \".edf\" and \".txt\" files in the directory and stack them."
      ]
    },
    {
      "cell_type": "code",
      "metadata": {
        "id": "hHS0g7cSD1w3",
        "outputId": "62813610-ee2a-44ea-a2dd-5849eb9042f1",
        "colab": {
          "base_uri": "https://localhost:8080/",
          "height": 1000
        }
      },
      "source": [
        "import os\n",
        "\n",
        "path = '/content/DESTINATION'\n",
        "\n",
        "edfFiles = []\n",
        "txtFiles = []\n",
        "# r=root, d=directories, f = files\n",
        "for r, d, f in os.walk(path):\n",
        "    for file in f:\n",
        "        if file[-4:] == '.edf':\n",
        "            edfFiles.append(os.path.join(r, file))\n",
        "        elif file[-4:] == '.txt':\n",
        "            txtFiles.append(os.path.join(r, file))\n",
        "\n",
        "edfFiles = sorted(edfFiles)\n",
        "txtFiles = sorted(txtFiles)\n",
        "\n",
        "for f in edfFiles:\n",
        "    print(f)\n",
        "\n",
        "for f in txtFiles:\n",
        "    print(f)"
      ],
      "execution_count": 2,
      "outputs": [
        {
          "output_type": "stream",
          "text": [
            "/content/DESTINATION/chbmit-1.0.0.physionet.org/chb01/chb01_01.edf\n",
            "/content/DESTINATION/chbmit-1.0.0.physionet.org/chb01/chb01_02.edf\n",
            "/content/DESTINATION/chbmit-1.0.0.physionet.org/chb01/chb01_03.edf\n",
            "/content/DESTINATION/chbmit-1.0.0.physionet.org/chb01/chb01_04.edf\n",
            "/content/DESTINATION/chbmit-1.0.0.physionet.org/chb01/chb01_05.edf\n",
            "/content/DESTINATION/chbmit-1.0.0.physionet.org/chb01/chb01_06.edf\n",
            "/content/DESTINATION/chbmit-1.0.0.physionet.org/chb01/chb01_07.edf\n",
            "/content/DESTINATION/chbmit-1.0.0.physionet.org/chb01/chb01_08.edf\n",
            "/content/DESTINATION/chbmit-1.0.0.physionet.org/chb01/chb01_09.edf\n",
            "/content/DESTINATION/chbmit-1.0.0.physionet.org/chb01/chb01_10.edf\n",
            "/content/DESTINATION/chbmit-1.0.0.physionet.org/chb01/chb01_11.edf\n",
            "/content/DESTINATION/chbmit-1.0.0.physionet.org/chb01/chb01_12.edf\n",
            "/content/DESTINATION/chbmit-1.0.0.physionet.org/chb01/chb01_13.edf\n",
            "/content/DESTINATION/chbmit-1.0.0.physionet.org/chb01/chb01_14.edf\n",
            "/content/DESTINATION/chbmit-1.0.0.physionet.org/chb01/chb01_15.edf\n",
            "/content/DESTINATION/chbmit-1.0.0.physionet.org/chb01/chb01_16.edf\n",
            "/content/DESTINATION/chbmit-1.0.0.physionet.org/chb01/chb01_17.edf\n",
            "/content/DESTINATION/chbmit-1.0.0.physionet.org/chb01/chb01_18.edf\n",
            "/content/DESTINATION/chbmit-1.0.0.physionet.org/chb01/chb01_19.edf\n",
            "/content/DESTINATION/chbmit-1.0.0.physionet.org/chb01/chb01_20.edf\n",
            "/content/DESTINATION/chbmit-1.0.0.physionet.org/chb01/chb01_21.edf\n",
            "/content/DESTINATION/chbmit-1.0.0.physionet.org/chb01/chb01_22.edf\n",
            "/content/DESTINATION/chbmit-1.0.0.physionet.org/chb01/chb01_23.edf\n",
            "/content/DESTINATION/chbmit-1.0.0.physionet.org/chb01/chb01_24.edf\n",
            "/content/DESTINATION/chbmit-1.0.0.physionet.org/chb01/chb01_25.edf\n",
            "/content/DESTINATION/chbmit-1.0.0.physionet.org/chb01/chb01_26.edf\n",
            "/content/DESTINATION/chbmit-1.0.0.physionet.org/chb01/chb01_27.edf\n",
            "/content/DESTINATION/chbmit-1.0.0.physionet.org/chb01/chb01_29.edf\n",
            "/content/DESTINATION/chbmit-1.0.0.physionet.org/chb01/chb01_30.edf\n",
            "/content/DESTINATION/chbmit-1.0.0.physionet.org/chb01/chb01_31.edf\n",
            "/content/DESTINATION/chbmit-1.0.0.physionet.org/chb01/chb01_32.edf\n",
            "/content/DESTINATION/chbmit-1.0.0.physionet.org/chb01/chb01_33.edf\n",
            "/content/DESTINATION/chbmit-1.0.0.physionet.org/chb01/chb01_34.edf\n",
            "/content/DESTINATION/chbmit-1.0.0.physionet.org/chb01/chb01_36.edf\n",
            "/content/DESTINATION/chbmit-1.0.0.physionet.org/chb01/chb01_37.edf\n",
            "/content/DESTINATION/chbmit-1.0.0.physionet.org/chb01/chb01_38.edf\n",
            "/content/DESTINATION/chbmit-1.0.0.physionet.org/chb01/chb01_39.edf\n",
            "/content/DESTINATION/chbmit-1.0.0.physionet.org/chb01/chb01_40.edf\n",
            "/content/DESTINATION/chbmit-1.0.0.physionet.org/chb01/chb01_41.edf\n",
            "/content/DESTINATION/chbmit-1.0.0.physionet.org/chb01/chb01_42.edf\n",
            "/content/DESTINATION/chbmit-1.0.0.physionet.org/chb01/chb01_43.edf\n",
            "/content/DESTINATION/chbmit-1.0.0.physionet.org/chb01/chb01_46.edf\n",
            "/content/DESTINATION/chbmit-1.0.0.physionet.org/chb02/chb02_01.edf\n",
            "/content/DESTINATION/chbmit-1.0.0.physionet.org/chb02/chb02_02.edf\n",
            "/content/DESTINATION/chbmit-1.0.0.physionet.org/chb02/chb02_03.edf\n",
            "/content/DESTINATION/chbmit-1.0.0.physionet.org/chb02/chb02_04.edf\n",
            "/content/DESTINATION/chbmit-1.0.0.physionet.org/chb02/chb02_05.edf\n",
            "/content/DESTINATION/chbmit-1.0.0.physionet.org/chb02/chb02_06.edf\n",
            "/content/DESTINATION/chbmit-1.0.0.physionet.org/chb02/chb02_07.edf\n",
            "/content/DESTINATION/chbmit-1.0.0.physionet.org/chb02/chb02_08.edf\n",
            "/content/DESTINATION/chbmit-1.0.0.physionet.org/chb02/chb02_09.edf\n",
            "/content/DESTINATION/chbmit-1.0.0.physionet.org/chb02/chb02_10.edf\n",
            "/content/DESTINATION/chbmit-1.0.0.physionet.org/chb02/chb02_11.edf\n",
            "/content/DESTINATION/chbmit-1.0.0.physionet.org/chb02/chb02_12.edf\n",
            "/content/DESTINATION/chbmit-1.0.0.physionet.org/chb02/chb02_13.edf\n",
            "/content/DESTINATION/chbmit-1.0.0.physionet.org/chb02/chb02_14.edf\n",
            "/content/DESTINATION/chbmit-1.0.0.physionet.org/chb02/chb02_15.edf\n",
            "/content/DESTINATION/chbmit-1.0.0.physionet.org/chb02/chb02_16+.edf\n",
            "/content/DESTINATION/chbmit-1.0.0.physionet.org/chb02/chb02_16.edf\n",
            "/content/DESTINATION/chbmit-1.0.0.physionet.org/chb02/chb02_17.edf\n",
            "/content/DESTINATION/chbmit-1.0.0.physionet.org/chb02/chb02_18.edf\n",
            "/content/DESTINATION/chbmit-1.0.0.physionet.org/chb02/chb02_19.edf\n",
            "/content/DESTINATION/chbmit-1.0.0.physionet.org/chb02/chb02_20.edf\n",
            "/content/DESTINATION/chbmit-1.0.0.physionet.org/chb02/chb02_21.edf\n",
            "/content/DESTINATION/chbmit-1.0.0.physionet.org/chb02/chb02_22.edf\n",
            "/content/DESTINATION/chbmit-1.0.0.physionet.org/chb02/chb02_23.edf\n",
            "/content/DESTINATION/chbmit-1.0.0.physionet.org/chb02/chb02_24.edf\n",
            "/content/DESTINATION/chbmit-1.0.0.physionet.org/chb02/chb02_25.edf\n",
            "/content/DESTINATION/chbmit-1.0.0.physionet.org/chb02/chb02_26.edf\n",
            "/content/DESTINATION/chbmit-1.0.0.physionet.org/chb02/chb02_27.edf\n",
            "/content/DESTINATION/chbmit-1.0.0.physionet.org/chb02/chb02_28.edf\n",
            "/content/DESTINATION/chbmit-1.0.0.physionet.org/chb02/chb02_29.edf\n",
            "/content/DESTINATION/chbmit-1.0.0.physionet.org/chb02/chb02_30.edf\n",
            "/content/DESTINATION/chbmit-1.0.0.physionet.org/chb02/chb02_31.edf\n",
            "/content/DESTINATION/chbmit-1.0.0.physionet.org/chb02/chb02_32.edf\n",
            "/content/DESTINATION/chbmit-1.0.0.physionet.org/chb02/chb02_33.edf\n",
            "/content/DESTINATION/chbmit-1.0.0.physionet.org/chb02/chb02_34.edf\n",
            "/content/DESTINATION/chbmit-1.0.0.physionet.org/chb02/chb02_35.edf\n",
            "/content/DESTINATION/chbmit-1.0.0.physionet.org/chb03/chb03_01.edf\n",
            "/content/DESTINATION/chbmit-1.0.0.physionet.org/chb03/chb03_02.edf\n",
            "/content/DESTINATION/chbmit-1.0.0.physionet.org/chb03/chb03_03.edf\n",
            "/content/DESTINATION/chbmit-1.0.0.physionet.org/chb03/chb03_04.edf\n",
            "/content/DESTINATION/chbmit-1.0.0.physionet.org/chb03/chb03_05.edf\n",
            "/content/DESTINATION/chbmit-1.0.0.physionet.org/chb03/chb03_06.edf\n",
            "/content/DESTINATION/chbmit-1.0.0.physionet.org/chb03/chb03_07.edf\n",
            "/content/DESTINATION/chbmit-1.0.0.physionet.org/chb03/chb03_08.edf\n",
            "/content/DESTINATION/chbmit-1.0.0.physionet.org/chb03/chb03_09.edf\n",
            "/content/DESTINATION/chbmit-1.0.0.physionet.org/chb03/chb03_10.edf\n",
            "/content/DESTINATION/chbmit-1.0.0.physionet.org/chb03/chb03_11.edf\n",
            "/content/DESTINATION/chbmit-1.0.0.physionet.org/chb03/chb03_12.edf\n",
            "/content/DESTINATION/chbmit-1.0.0.physionet.org/chb03/chb03_13.edf\n",
            "/content/DESTINATION/chbmit-1.0.0.physionet.org/SHA256SUMS.txt\n",
            "/content/DESTINATION/chbmit-1.0.0.physionet.org/chb01/chb01-summary.txt\n",
            "/content/DESTINATION/chbmit-1.0.0.physionet.org/chb02/chb02-summary.txt\n",
            "/content/DESTINATION/chbmit-1.0.0.physionet.org/chb03/chb03-summary.txt\n"
          ],
          "name": "stdout"
        }
      ]
    },
    {
      "cell_type": "markdown",
      "metadata": {
        "id": "BruhxyL2hYMH"
      },
      "source": [
        "### Reading EDF files and stacking them in batches. "
      ]
    },
    {
      "cell_type": "code",
      "metadata": {
        "id": "wdLCEu3fhaEK",
        "outputId": "cb4b84c1-1146-439a-caf0-fdd4e1a23bf6",
        "colab": {
          "base_uri": "https://localhost:8080/",
          "height": 1000
        }
      },
      "source": [
        "from pyedflib import highlevel\n",
        "import numpy as np\n",
        "import matplotlib.pyplot as plt\n",
        "\n",
        "\n",
        "def stacker(nbatch = 15, para):\n",
        "  count = 0\n",
        "\n",
        "  if para == 'time':\n",
        "    stackedEEG = np.zeros((23, 921600))\n",
        "  elif para == 'freq':\n",
        "    dft        = np.zeros((23, 921600))\n",
        "  else:\n",
        "    labels     = np.zeros((23, 921600))\n",
        "\n",
        "  rejected   = []\n",
        "\n",
        "  for f in edfFiles:\n",
        "    # print(f[54:-4])\n",
        "    count += 1\n",
        "    if para == 'time' or para == 'freq':\n",
        "      signals, signal_headers, header = highlevel.read_edf(f)\n",
        "    \n",
        "    if signals.shape == (23, 921600):\n",
        "      if para == 'time':\n",
        "        stackedEEG = np.dstack((stackedEEG, signals))\n",
        "      elif para == 'freq':\n",
        "        dft        = np.dstack((dft, np.fft.fft(signals, axis=1)))\n",
        "      else:\n",
        "        continue\n",
        "    else:\n",
        "      rejected.append(f[54:-4])\n",
        "    \n",
        "    if count % nbatch == 0:\n",
        "      if para == 'time':\n",
        "        yield stackedEEG\n",
        "        stackedEEG = np.zeros((23, 921600))\n",
        "      elif para == 'freq':\n",
        "        yield dft\n",
        "        dft        = np.zeros((23, 921600)) \n",
        "      else:\n",
        "        yield labels\n",
        "        labels     = np.zeros((23, 921600))   \n",
        "      \n",
        "\n",
        "      # labels     = np.zeros((23, 921600))\n",
        "      # \n",
        "\n",
        "for i in stackTime():\n",
        "  print(i.shape)"
      ],
      "execution_count": 3,
      "outputs": [
        {
          "output_type": "stream",
          "text": [
            "Reading Channels: 100%|██████████| 23/23 [00:04<00:00,  4.87it/s]\n",
            "Reading Channels: 100%|██████████| 23/23 [00:03<00:00,  6.39it/s]\n",
            "Reading Channels: 100%|██████████| 23/23 [00:04<00:00,  5.45it/s]\n",
            "Reading Channels: 100%|██████████| 23/23 [00:04<00:00,  5.02it/s]\n",
            "Reading Channels: 100%|██████████| 23/23 [00:03<00:00,  6.23it/s]\n",
            "Reading Channels: 100%|██████████| 23/23 [00:04<00:00,  5.45it/s]\n",
            "Reading Channels: 100%|██████████| 23/23 [00:03<00:00,  6.42it/s]\n",
            "Reading Channels: 100%|██████████| 23/23 [00:03<00:00,  6.42it/s]\n",
            "Reading Channels: 100%|██████████| 23/23 [00:03<00:00,  6.19it/s]\n",
            "Reading Channels: 100%|██████████| 23/23 [00:03<00:00,  6.41it/s]\n",
            "Reading Channels: 100%|██████████| 23/23 [00:04<00:00,  5.11it/s]\n",
            "Reading Channels: 100%|██████████| 23/23 [00:04<00:00,  4.76it/s]\n",
            "Reading Channels: 100%|██████████| 23/23 [00:04<00:00,  4.81it/s]\n",
            "Reading Channels: 100%|██████████| 23/23 [00:03<00:00,  6.28it/s]\n",
            "Reading Channels: 100%|██████████| 23/23 [00:04<00:00,  4.97it/s]\n",
            "Reading Channels:   0%|          | 0/23 [00:00<?, ?it/s]"
          ],
          "name": "stderr"
        },
        {
          "output_type": "stream",
          "text": [
            "(23, 921600, 16)\n"
          ],
          "name": "stdout"
        },
        {
          "output_type": "stream",
          "text": [
            "Reading Channels: 100%|██████████| 23/23 [00:04<00:00,  5.13it/s]\n",
            "Reading Channels: 100%|██████████| 23/23 [00:04<00:00,  5.34it/s]\n",
            "Reading Channels: 100%|██████████| 23/23 [00:04<00:00,  5.21it/s]\n",
            "Reading Channels: 100%|██████████| 23/23 [00:04<00:00,  5.35it/s]\n",
            "Reading Channels: 100%|██████████| 23/23 [00:03<00:00,  7.26it/s]\n",
            "Reading Channels: 100%|██████████| 23/23 [00:04<00:00,  5.21it/s]\n",
            "Reading Channels: 100%|██████████| 23/23 [00:04<00:00,  5.11it/s]\n",
            "Reading Channels: 100%|██████████| 23/23 [00:04<00:00,  5.10it/s]\n",
            "Reading Channels: 100%|██████████| 23/23 [00:04<00:00,  5.09it/s]\n",
            "Reading Channels: 100%|██████████| 23/23 [00:04<00:00,  5.05it/s]\n",
            "Reading Channels: 100%|██████████| 23/23 [00:02<00:00,  8.21it/s]\n",
            "Reading Channels: 100%|██████████| 23/23 [00:00<00:00, 37.36it/s]\n",
            "Reading Channels: 100%|██████████| 23/23 [00:04<00:00,  4.67it/s]\n",
            "Reading Channels: 100%|██████████| 23/23 [00:05<00:00,  4.41it/s]\n",
            "Reading Channels: 100%|██████████| 23/23 [00:05<00:00,  4.18it/s]\n",
            "Reading Channels:   0%|          | 0/23 [00:00<?, ?it/s]"
          ],
          "name": "stderr"
        },
        {
          "output_type": "stream",
          "text": [
            "(23, 921600, 13)\n"
          ],
          "name": "stdout"
        },
        {
          "output_type": "stream",
          "text": [
            "Reading Channels: 100%|██████████| 23/23 [00:06<00:00,  3.45it/s]\n",
            "Reading Channels: 100%|██████████| 23/23 [00:04<00:00,  4.81it/s]\n",
            "Reading Channels: 100%|██████████| 23/23 [00:05<00:00,  3.86it/s]\n",
            "Reading Channels: 100%|██████████| 23/23 [00:04<00:00,  5.23it/s]\n",
            "Reading Channels: 100%|██████████| 23/23 [00:04<00:00,  5.11it/s]\n",
            "Reading Channels: 100%|██████████| 23/23 [00:04<00:00,  4.99it/s]\n",
            "Reading Channels: 100%|██████████| 23/23 [00:04<00:00,  4.89it/s]\n",
            "Reading Channels: 100%|██████████| 23/23 [00:04<00:00,  5.28it/s]\n",
            "Reading Channels: 100%|██████████| 23/23 [00:04<00:00,  5.09it/s]\n",
            "Reading Channels: 100%|██████████| 23/23 [00:04<00:00,  5.21it/s]\n",
            "Reading Channels: 100%|██████████| 23/23 [00:04<00:00,  5.36it/s]\n",
            "Reading Channels: 100%|██████████| 23/23 [00:04<00:00,  5.12it/s]\n",
            "Reading Channels: 100%|██████████| 23/23 [00:04<00:00,  5.25it/s]\n",
            "Reading Channels: 100%|██████████| 23/23 [00:04<00:00,  4.81it/s]\n",
            "Reading Channels: 100%|██████████| 23/23 [00:05<00:00,  4.24it/s]\n",
            "Reading Channels:   0%|          | 0/23 [00:00<?, ?it/s]"
          ],
          "name": "stderr"
        },
        {
          "output_type": "stream",
          "text": [
            "(23, 921600, 16)\n"
          ],
          "name": "stdout"
        },
        {
          "output_type": "stream",
          "text": [
            "Reading Channels: 100%|██████████| 23/23 [00:04<00:00,  4.91it/s]\n",
            "Reading Channels: 100%|██████████| 23/23 [00:05<00:00,  4.52it/s]\n",
            "Reading Channels: 100%|██████████| 23/23 [00:06<00:00,  3.51it/s]\n",
            "Reading Channels: 100%|██████████| 23/23 [00:04<00:00,  5.18it/s]\n",
            "Reading Channels: 100%|██████████| 23/23 [00:04<00:00,  5.15it/s]\n",
            "Reading Channels: 100%|██████████| 23/23 [00:04<00:00,  4.97it/s]\n",
            "Reading Channels: 100%|██████████| 23/23 [00:04<00:00,  5.46it/s]\n",
            "Reading Channels: 100%|██████████| 23/23 [00:04<00:00,  5.24it/s]\n",
            "Reading Channels: 100%|██████████| 23/23 [00:04<00:00,  5.24it/s]\n",
            "Reading Channels: 100%|██████████| 23/23 [00:04<00:00,  5.49it/s]\n",
            "Reading Channels: 100%|██████████| 23/23 [00:04<00:00,  5.61it/s]\n",
            "Reading Channels: 100%|██████████| 23/23 [00:04<00:00,  4.88it/s]\n",
            "Reading Channels: 100%|██████████| 23/23 [00:04<00:00,  5.04it/s]\n",
            "Reading Channels: 100%|██████████| 23/23 [00:01<00:00, 18.02it/s]\n",
            "Reading Channels: 100%|██████████| 23/23 [00:04<00:00,  4.79it/s]\n",
            "Reading Channels:   0%|          | 0/23 [00:00<?, ?it/s]"
          ],
          "name": "stderr"
        },
        {
          "output_type": "stream",
          "text": [
            "(23, 921600, 15)\n"
          ],
          "name": "stdout"
        },
        {
          "output_type": "stream",
          "text": [
            "Reading Channels: 100%|██████████| 23/23 [00:04<00:00,  5.15it/s]\n",
            "Reading Channels: 100%|██████████| 23/23 [00:04<00:00,  5.04it/s]\n",
            "Reading Channels: 100%|██████████| 23/23 [00:04<00:00,  4.96it/s]\n",
            "Reading Channels: 100%|██████████| 23/23 [00:05<00:00,  4.10it/s]\n",
            "Reading Channels: 100%|██████████| 23/23 [00:04<00:00,  4.99it/s]\n",
            "Reading Channels: 100%|██████████| 23/23 [00:04<00:00,  5.20it/s]\n",
            "Reading Channels: 100%|██████████| 23/23 [00:04<00:00,  5.30it/s]\n",
            "Reading Channels: 100%|██████████| 23/23 [00:04<00:00,  5.35it/s]\n",
            "Reading Channels: 100%|██████████| 23/23 [00:04<00:00,  5.08it/s]\n",
            "Reading Channels: 100%|██████████| 23/23 [00:04<00:00,  5.24it/s]\n",
            "Reading Channels: 100%|██████████| 23/23 [00:04<00:00,  5.13it/s]\n",
            "Reading Channels: 100%|██████████| 23/23 [00:04<00:00,  5.09it/s]\n",
            "Reading Channels: 100%|██████████| 23/23 [00:04<00:00,  5.40it/s]\n",
            "Reading Channels: 100%|██████████| 23/23 [00:04<00:00,  5.47it/s]\n",
            "Reading Channels: 100%|██████████| 23/23 [00:04<00:00,  5.20it/s]\n",
            "Reading Channels:   0%|          | 0/23 [00:00<?, ?it/s]"
          ],
          "name": "stderr"
        },
        {
          "output_type": "stream",
          "text": [
            "(23, 921600, 16)\n"
          ],
          "name": "stdout"
        },
        {
          "output_type": "stream",
          "text": [
            "Reading Channels: 100%|██████████| 23/23 [00:04<00:00,  5.14it/s]\n",
            "Reading Channels: 100%|██████████| 23/23 [00:04<00:00,  4.94it/s]\n",
            "Reading Channels: 100%|██████████| 23/23 [00:04<00:00,  4.97it/s]\n",
            "Reading Channels: 100%|██████████| 23/23 [00:04<00:00,  5.18it/s]\n",
            "Reading Channels: 100%|██████████| 23/23 [00:04<00:00,  5.35it/s]\n",
            "Reading Channels: 100%|██████████| 23/23 [00:04<00:00,  4.98it/s]\n",
            "Reading Channels: 100%|██████████| 23/23 [00:04<00:00,  5.32it/s]\n",
            "Reading Channels: 100%|██████████| 23/23 [00:04<00:00,  5.25it/s]\n",
            "Reading Channels: 100%|██████████| 23/23 [00:04<00:00,  4.97it/s]\n",
            "Reading Channels: 100%|██████████| 23/23 [00:04<00:00,  5.23it/s]\n",
            "Reading Channels: 100%|██████████| 23/23 [00:04<00:00,  5.36it/s]\n",
            "Reading Channels: 100%|██████████| 23/23 [00:04<00:00,  4.73it/s]\n",
            "Reading Channels: 100%|██████████| 23/23 [00:07<00:00,  2.93it/s]\n",
            "Reading Channels: 100%|██████████| 23/23 [00:06<00:00,  3.40it/s]\n",
            "Reading Channels: 100%|██████████| 23/23 [00:05<00:00,  4.54it/s]\n",
            "Reading Channels:   0%|          | 0/23 [00:00<?, ?it/s]"
          ],
          "name": "stderr"
        },
        {
          "output_type": "stream",
          "text": [
            "(23, 921600, 16)\n"
          ],
          "name": "stdout"
        },
        {
          "output_type": "stream",
          "text": [
            "Reading Channels: 100%|██████████| 23/23 [00:04<00:00,  4.74it/s]\n"
          ],
          "name": "stderr"
        }
      ]
    },
    {
      "cell_type": "code",
      "metadata": {
        "id": "tyYy5-_O3-aB",
        "outputId": "93e88295-dca4-4e74-8336-adb1abe4fcb6",
        "colab": {
          "base_uri": "https://localhost:8080/",
          "height": 34
        }
      },
      "source": [
        "# rejected # Those samples which were of different size\n",
        "i."
      ],
      "execution_count": 5,
      "outputs": [
        {
          "output_type": "execute_result",
          "data": {
            "text/plain": [
              "(23, 921600, 16)"
            ]
          },
          "metadata": {
            "tags": []
          },
          "execution_count": 5
        }
      ]
    },
    {
      "cell_type": "code",
      "metadata": {
        "id": "lIW6kMFuvDcY",
        "outputId": "ec34a71d-11cc-4a06-c143-1c6aa6c98518",
        "colab": {
          "base_uri": "https://localhost:8080/",
          "height": 85
        }
      },
      "source": [
        "print(len(stackedEEG))\n",
        "# for eeg in stackedEEG:\n",
        "#   print(eeg.shape)\n",
        "i = 89\n",
        "print(edfFiles[i])\n",
        "signals, signal_headers, header = highlevel.read_edf(edfFiles[i])\n",
        "print(signals.shape)"
      ],
      "execution_count": 15,
      "outputs": [
        {
          "output_type": "stream",
          "text": [
            "\rReading Channels:   0%|          | 0/23 [00:00<?, ?it/s]"
          ],
          "name": "stderr"
        },
        {
          "output_type": "stream",
          "text": [
            "34\n",
            "/content/DESTINATION/chbmit-1.0.0.physionet.org/chb03/chb03_12.edf\n"
          ],
          "name": "stdout"
        },
        {
          "output_type": "stream",
          "text": [
            "Reading Channels: 100%|██████████| 23/23 [00:04<00:00,  4.94it/s]\n"
          ],
          "name": "stderr"
        },
        {
          "output_type": "stream",
          "text": [
            "(23, 921600)\n"
          ],
          "name": "stdout"
        }
      ]
    },
    {
      "cell_type": "code",
      "metadata": {
        "id": "3IdwxGPJx09D",
        "outputId": "ee07fb2e-ef38-482f-84c5-34fd41600837",
        "colab": {
          "base_uri": "https://localhost:8080/",
          "height": 34
        }
      },
      "source": [
        "921600/(1*60*60)"
      ],
      "execution_count": 18,
      "outputs": [
        {
          "output_type": "execute_result",
          "data": {
            "text/plain": [
              "256.0"
            ]
          },
          "metadata": {
            "tags": []
          },
          "execution_count": 18
        }
      ]
    },
    {
      "cell_type": "markdown",
      "metadata": {
        "id": "OwOnh6gHD2Wg"
      },
      "source": [
        "## Building a CNN\n"
      ]
    },
    {
      "cell_type": "markdown",
      "metadata": {
        "id": "3kuWlEWcE579"
      },
      "source": [
        "Here we just import some libraries and use them to buid an architecture. "
      ]
    },
    {
      "cell_type": "code",
      "metadata": {
        "id": "cYhHULJ0EHm1"
      },
      "source": [
        "from keras.models import Model\n",
        "from keras.layers import Input, Dense, Conv2D, MaxPooling2D, Flatten, Dropout\n",
        "from keras.utils import to_categorical\n",
        "\n",
        "# x_train = trainX.reshape(trainX.shape)\n",
        "# x_test = testX.reshape(testX.shape)\n",
        "\n",
        "# x_train = (x_train - 255)/255\n",
        "# x_test = (x_test - 255)/255\n",
        "\n",
        "# y_train = to_categorical(trainy)\n",
        "# y_test = to_categorical(testy)\n",
        "\n",
        "in1 = Input(shape=x_train[0].shape)\n",
        "c1 = Conv2D(256, (5,5), activation='relu')(in1)\n",
        "m1 = MaxPooling2D()(c1)\n",
        "# c2 = Conv2D(128, (5,5), activation='relu')(m1)\n",
        "# # m2 = MaxPooling2D()(c2)\n",
        "# d1 = Dropout(0.7)(c2)\n",
        "# c3 = Conv2D(256, (5,5), activation='relu')(d1)\n",
        "# # m3 = MaxPooling2D()(c3)\n",
        "# d2 = Dropout(0.8)(c3)\n",
        "# # c4 = Conv2D(64, (3,3), activation='relu')(d2)\n",
        "# # m4 = MaxPooling2D()(c4)\n",
        "# fl = Flatten()(d2)\n",
        "# d1 = Dense(64, activation='relu')(fl)\n",
        "# d2 = Dense(16, activation='relu')(d1)\n",
        "o = Dense(len(y_train[0]), activation='softmax')(d2)\n",
        "\n",
        "model = Model(inputs=in1, outputs=o)\n",
        "print(model.summary())"
      ],
      "execution_count": null,
      "outputs": []
    },
    {
      "cell_type": "markdown",
      "metadata": {
        "id": "7yOu7xspFav5"
      },
      "source": [
        "Now after we have constructed our model let's train it. "
      ]
    },
    {
      "cell_type": "code",
      "metadata": {
        "id": "ae6_YvbpFiRj"
      },
      "source": [
        "model = Model(inputs = in1, outputs = o)\n",
        "model.compile(optimizer = 'sgd', loss = 'categorical_crossentropy', metrics=['acc'])\n",
        "history_cnn = model.fit(x_train, y_train, epochs = 60, batch_size = 32, validation_data = (x_test, y_test))"
      ],
      "execution_count": null,
      "outputs": []
    },
    {
      "cell_type": "markdown",
      "metadata": {
        "id": "KapMK5FJEOml"
      },
      "source": [
        "## Results"
      ]
    },
    {
      "cell_type": "code",
      "metadata": {
        "id": "Y6W3Omw4EI2F"
      },
      "source": [
        "loss = history_cnn.history['loss']\n",
        "val_loss = history_cnn.history['val_loss']\n",
        "epochs = range(1, len(loss) + 1)\n",
        "pyplot.grid()\n",
        "pyplot.plot(epochs, loss, 'y', label='Training loss')\n",
        "pyplot.plot(epochs, val_loss, 'r', label='Validation loss')\n",
        "pyplot.title('Training and validation loss')\n",
        "pyplot.xlabel('Epochs')\n",
        "pyplot.ylabel('Loss')\n",
        "pyplot.legend()\n",
        "pyplot.show()\n",
        "\n",
        "pyplot.grid()\n",
        "acc = history_cnn.history['acc']\n",
        "val_acc = history_cnn.history['val_acc']\n",
        "epochs = range(1, len(loss) + 1)\n",
        "pyplot.plot(epochs, acc, 'y', label='Training Accuracy')\n",
        "pyplot.plot(epochs, val_acc, 'r', label='Validation Accuracy')\n",
        "pyplot.title('Training and validation Accuracies')\n",
        "pyplot.xlabel('Epochs')\n",
        "pyplot.ylabel('Loss')\n",
        "pyplot.legend()\n",
        "pyplot.show()"
      ],
      "execution_count": null,
      "outputs": []
    },
    {
      "cell_type": "markdown",
      "metadata": {
        "id": "GQ5yepK3ER9v"
      },
      "source": [
        "## Discussion and Conclusion"
      ]
    },
    {
      "cell_type": "markdown",
      "metadata": {
        "id": "KIXnhzJdEaJ5"
      },
      "source": [
        "Yay our implementation is successful..."
      ]
    },
    {
      "cell_type": "markdown",
      "metadata": {
        "id": "CKCAOecTCyuv"
      },
      "source": [
        "# Bibliography\n",
        "[1] CHB-MIT Scalp EEG Database, Retrieved from: https://physionet.org/content/chbmit/1.0.0/\n"
      ]
    }
  ]
}