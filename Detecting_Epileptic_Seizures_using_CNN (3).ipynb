{
  "nbformat": 4,
  "nbformat_minor": 0,
  "metadata": {
    "colab": {
      "name": "Detecting Epileptic Seizures using CNN.ipynb",
      "provenance": [],
      "collapsed_sections": [
        "-2zlps5gB-V1",
        "KKermRpjCq5J",
        "WQZLzVtIfNqr",
        "vLvdAQ-lHsQQ"
      ]
    },
    "kernelspec": {
      "name": "python3",
      "display_name": "Python 3"
    },
    "accelerator": "TPU"
  },
  "cells": [
    {
      "cell_type": "markdown",
      "metadata": {
        "id": "24Lseco7C3ES"
      },
      "source": [
        "# Implementation"
      ]
    },
    {
      "cell_type": "markdown",
      "metadata": {
        "id": "-2zlps5gB-V1"
      },
      "source": [
        "## Setting up Tensorflow\n",
        "Restart runtime, set it to GPU and then run this chunk. The default is tf2.x which has slightly different functions. I prefer working with tf1.x"
      ]
    },
    {
      "cell_type": "code",
      "metadata": {
        "id": "9Rdi5jiOCWmY",
        "outputId": "91b790ed-8449-42f9-a078-b4d055670f8c",
        "colab": {
          "base_uri": "https://localhost:8080/",
          "height": 0
        }
      },
      "source": [
        "%tensorflow_version 1.x\n",
        "import tensorflow as tf\n",
        "print(tf.__version__)"
      ],
      "execution_count": 1,
      "outputs": [
        {
          "output_type": "stream",
          "text": [
            "TensorFlow 1.x selected.\n",
            "1.15.2\n"
          ],
          "name": "stdout"
        }
      ]
    },
    {
      "cell_type": "markdown",
      "metadata": {
        "id": "KKermRpjCq5J"
      },
      "source": [
        "## Loading Dataset\n",
        "Loading the EEG dataset from physionet databases [1]. Physionet allows us to load dataset directly from cloud. "
      ]
    },
    {
      "cell_type": "code",
      "metadata": {
        "id": "_ZggaaYKDMtM",
        "outputId": "60bf233c-b470-4a59-fc09-a118c3a6c0f0",
        "colab": {
          "base_uri": "https://localhost:8080/",
          "height": 1000
        }
      },
      "source": [
        "# !wget -r -N -c -np https://physionet.org/files/chbmit/1.0.0/\n",
        "!gsutil -m cp -r gs://chbmit-1.0.0.physionet.org DESTINATION"
      ],
      "execution_count": 3,
      "outputs": [
        {
          "output_type": "stream",
          "text": [
            "Copying gs://chbmit-1.0.0.physionet.org/ANNOTATORS...\n",
            "Copying gs://chbmit-1.0.0.physionet.org/RECORDS...\n",
            "/ [0 files][    0.0 B/   43.0 B]                                                \rCopying gs://chbmit-1.0.0.physionet.org/RECORDS-WITH-SEIZURES...\n",
            "/ [0 files][    0.0 B/ 12.8 KiB]                                                \r/ [0 files][    0.0 B/ 15.4 KiB]                                                \rCopying gs://chbmit-1.0.0.physionet.org/SHA256SUMS.txt...\n",
            "/ [0 files][    0.0 B/ 87.0 KiB]                                                \rCopying gs://chbmit-1.0.0.physionet.org/SUBJECT-INFO...\n",
            "/ [0 files][    0.0 B/ 87.3 KiB]                                                \rCopying gs://chbmit-1.0.0.physionet.org/shoeb-icml-2010.pdf...\n",
            "/ [0 files][    0.0 B/  2.0 MiB]                                                \rCopying gs://chbmit-1.0.0.physionet.org/chb-mit-scalp-eeg-database-1.0.0.zip...\n",
            "/ [0 files][    0.0 B/ 42.6 GiB]                                                \rCopying gs://chbmit-1.0.0.physionet.org/chb01/chb01-summary.txt...\n",
            "/ [0 files][    0.0 B/ 42.6 GiB]                                                \rCopying gs://chbmit-1.0.0.physionet.org/chb01/chb01_01.edf...\n",
            "/ [0 files][    0.0 B/ 42.7 GiB]                                                \rCopying gs://chbmit-1.0.0.physionet.org/chb01/chb01_02.edf...\n",
            "/ [0 files][    0.0 B/ 42.7 GiB]                                                \r/ [1 files][ 71.6 KiB/ 42.7 GiB]                                                \rCopying gs://chbmit-1.0.0.physionet.org/chb01/chb01_03.edf...\n",
            "/ [2 files][ 84.4 KiB/ 42.7 GiB]                                                \r/ [3 files][ 84.4 KiB/ 42.7 GiB]                                                \r/ [3 files][ 84.4 KiB/ 42.7 GiB]                                                \rCopying gs://chbmit-1.0.0.physionet.org/chb01/chb01_03.edf.seizures...\n",
            "Copying gs://chbmit-1.0.0.physionet.org/chb01/chb01_04.edf...\n",
            "/ [3 files][ 84.6 KiB/ 42.7 GiB]                                                \r/ [3 files][ 84.6 KiB/ 42.8 GiB]                                                \r/ [4 files][ 87.3 KiB/ 42.8 GiB]                                                \r/ [5 files][ 87.3 KiB/ 42.8 GiB]                                                \rCopying gs://chbmit-1.0.0.physionet.org/chb01/chb01_04.edf.seizures...\n",
            "Copying gs://chbmit-1.0.0.physionet.org/chb01/chb01_05.edf...\n",
            "Copying gs://chbmit-1.0.0.physionet.org/chb01/chb01_06.edf...\n",
            "Copying gs://chbmit-1.0.0.physionet.org/chb01/chb01_08.edf...\n",
            "Copying gs://chbmit-1.0.0.physionet.org/chb01/chb01_07.edf...\n",
            "Copying gs://chbmit-1.0.0.physionet.org/chb01/chb01_09.edf...\n",
            "Copying gs://chbmit-1.0.0.physionet.org/chb01/chb01_10.edf...\n",
            "Copying gs://chbmit-1.0.0.physionet.org/chb01/chb01_11.edf...\n",
            "Copying gs://chbmit-1.0.0.physionet.org/chb01/chb01_12.edf...\n",
            "Copying gs://chbmit-1.0.0.physionet.org/chb01/chb01_13.edf...\n",
            "Copying gs://chbmit-1.0.0.physionet.org/chb01/chb01_14.edf...\n",
            "Copying gs://chbmit-1.0.0.physionet.org/chb01/chb01_15.edf...\n",
            "Copying gs://chbmit-1.0.0.physionet.org/chb01/chb01_15.edf.seizures...\n",
            "Copying gs://chbmit-1.0.0.physionet.org/chb01/chb01_16.edf...\n",
            "Copying gs://chbmit-1.0.0.physionet.org/chb01/chb01_16.edf.seizures...\n",
            "Copying gs://chbmit-1.0.0.physionet.org/chb01/chb01_17.edf...\n",
            "Copying gs://chbmit-1.0.0.physionet.org/chb01/chb01_18.edf...\n",
            "Copying gs://chbmit-1.0.0.physionet.org/chb01/chb01_18.edf.seizures...\n",
            "Copying gs://chbmit-1.0.0.physionet.org/chb01/chb01_19.edf...\n",
            "Copying gs://chbmit-1.0.0.physionet.org/chb01/chb01_20.edf...\n",
            "Copying gs://chbmit-1.0.0.physionet.org/chb01/chb01_21.edf...\n",
            "Copying gs://chbmit-1.0.0.physionet.org/chb01/chb01_21.edf.seizures...\n",
            "Copying gs://chbmit-1.0.0.physionet.org/chb01/chb01_22.edf...\n",
            "Copying gs://chbmit-1.0.0.physionet.org/chb01/chb01_23.edf...\n",
            "Copying gs://chbmit-1.0.0.physionet.org/chb01/chb01_24.edf...\n",
            "Copying gs://chbmit-1.0.0.physionet.org/chb01/chb01_25.edf...\n",
            "Copying gs://chbmit-1.0.0.physionet.org/chb01/chb01_26.edf...\n",
            "Copying gs://chbmit-1.0.0.physionet.org/chb01/chb01_26.edf.seizures...\n",
            "Copying gs://chbmit-1.0.0.physionet.org/chb01/chb01_27.edf...\n",
            "Copying gs://chbmit-1.0.0.physionet.org/chb01/chb01_29.edf...\n",
            "Copying gs://chbmit-1.0.0.physionet.org/chb01/chb01_30.edf...\n",
            "Copying gs://chbmit-1.0.0.physionet.org/chb01/chb01_31.edf...\n",
            "Copying gs://chbmit-1.0.0.physionet.org/chb01/chb01_32.edf...\n",
            "Copying gs://chbmit-1.0.0.physionet.org/chb01/chb01_33.edf...\n",
            "Copying gs://chbmit-1.0.0.physionet.org/chb01/chb01_34.edf...\n",
            "Copying gs://chbmit-1.0.0.physionet.org/chb01/chb01_36.edf...\n",
            "Copying gs://chbmit-1.0.0.physionet.org/chb01/chb01_37.edf...\n",
            "Copying gs://chbmit-1.0.0.physionet.org/chb01/chb01_38.edf...\n",
            "Copying gs://chbmit-1.0.0.physionet.org/chb01/chb01_39.edf...\n",
            "Copying gs://chbmit-1.0.0.physionet.org/chb01/chb01_40.edf...\n",
            "Copying gs://chbmit-1.0.0.physionet.org/chb01/chb01_41.edf...\n",
            "Copying gs://chbmit-1.0.0.physionet.org/chb01/chb01_42.edf...\n",
            "Copying gs://chbmit-1.0.0.physionet.org/chb01/chb01_43.edf...\n",
            "Copying gs://chbmit-1.0.0.physionet.org/chb01/chb01_46.edf...\n",
            "Copying gs://chbmit-1.0.0.physionet.org/chb02/chb02-summary.txt...\n",
            "Copying gs://chbmit-1.0.0.physionet.org/chb02/chb02_01.edf...\n",
            "Copying gs://chbmit-1.0.0.physionet.org/chb02/chb02_02.edf...\n",
            "Copying gs://chbmit-1.0.0.physionet.org/chb02/chb02_03.edf...\n",
            "Copying gs://chbmit-1.0.0.physionet.org/chb02/chb02_04.edf...\n",
            "Copying gs://chbmit-1.0.0.physionet.org/chb02/chb02_05.edf...\n",
            "Copying gs://chbmit-1.0.0.physionet.org/chb02/chb02_06.edf...\n",
            "Copying gs://chbmit-1.0.0.physionet.org/chb02/chb02_08.edf...\n",
            "Copying gs://chbmit-1.0.0.physionet.org/chb02/chb02_07.edf...\n",
            "Copying gs://chbmit-1.0.0.physionet.org/chb02/chb02_09.edf...\n",
            "Copying gs://chbmit-1.0.0.physionet.org/chb02/chb02_10.edf...\n",
            "Copying gs://chbmit-1.0.0.physionet.org/chb02/chb02_11.edf...\n",
            "Copying gs://chbmit-1.0.0.physionet.org/chb02/chb02_12.edf...\n",
            "Copying gs://chbmit-1.0.0.physionet.org/chb02/chb02_13.edf...\n",
            "Copying gs://chbmit-1.0.0.physionet.org/chb02/chb02_14.edf...\n",
            "Copying gs://chbmit-1.0.0.physionet.org/chb02/chb02_15.edf...\n",
            "Copying gs://chbmit-1.0.0.physionet.org/chb02/chb02_16+.edf...\n",
            "Copying gs://chbmit-1.0.0.physionet.org/chb02/chb02_16+.edf.seizures...\n",
            "Copying gs://chbmit-1.0.0.physionet.org/chb02/chb02_16.edf...\n",
            "Copying gs://chbmit-1.0.0.physionet.org/chb02/chb02_16.edf.seizures...\n",
            "Copying gs://chbmit-1.0.0.physionet.org/chb02/chb02_17.edf...\n",
            "Copying gs://chbmit-1.0.0.physionet.org/chb02/chb02_18.edf...\n",
            "Copying gs://chbmit-1.0.0.physionet.org/chb02/chb02_19.edf...\n",
            "Copying gs://chbmit-1.0.0.physionet.org/chb02/chb02_19.edf.seizures...\n",
            "Copying gs://chbmit-1.0.0.physionet.org/chb02/chb02_20.edf...\n",
            "Copying gs://chbmit-1.0.0.physionet.org/chb02/chb02_21.edf...\n",
            "Copying gs://chbmit-1.0.0.physionet.org/chb02/chb02_22.edf...\n",
            "Copying gs://chbmit-1.0.0.physionet.org/chb02/chb02_23.edf...\n",
            "Copying gs://chbmit-1.0.0.physionet.org/chb02/chb02_24.edf...\n",
            "Copying gs://chbmit-1.0.0.physionet.org/chb02/chb02_25.edf...\n",
            "Copying gs://chbmit-1.0.0.physionet.org/chb02/chb02_26.edf...\n",
            "Copying gs://chbmit-1.0.0.physionet.org/chb02/chb02_27.edf...\n",
            "Copying gs://chbmit-1.0.0.physionet.org/chb02/chb02_28.edf...\n",
            "Copying gs://chbmit-1.0.0.physionet.org/chb02/chb02_29.edf...\n",
            "Copying gs://chbmit-1.0.0.physionet.org/chb02/chb02_30.edf...\n",
            "Copying gs://chbmit-1.0.0.physionet.org/chb02/chb02_31.edf...\n",
            "Copying gs://chbmit-1.0.0.physionet.org/chb02/chb02_32.edf...\n",
            "Copying gs://chbmit-1.0.0.physionet.org/chb02/chb02_33.edf...\n",
            "Copying gs://chbmit-1.0.0.physionet.org/chb02/chb02_34.edf...\n",
            "Copying gs://chbmit-1.0.0.physionet.org/chb02/chb02_35.edf...\n",
            "Copying gs://chbmit-1.0.0.physionet.org/chb03/chb03-summary.txt...\n",
            "Copying gs://chbmit-1.0.0.physionet.org/chb03/chb03_01.edf...\n",
            "Copying gs://chbmit-1.0.0.physionet.org/chb03/chb03_01.edf.seizures...\n",
            "Copying gs://chbmit-1.0.0.physionet.org/chb03/chb03_02.edf...\n",
            "Copying gs://chbmit-1.0.0.physionet.org/chb03/chb03_02.edf.seizures...\n",
            "Copying gs://chbmit-1.0.0.physionet.org/chb03/chb03_03.edf...\n",
            "Copying gs://chbmit-1.0.0.physionet.org/chb03/chb03_03.edf.seizures...\n",
            "Copying gs://chbmit-1.0.0.physionet.org/chb03/chb03_04.edf...\n",
            "Copying gs://chbmit-1.0.0.physionet.org/chb03/chb03_04.edf.seizures...\n",
            "Copying gs://chbmit-1.0.0.physionet.org/chb03/chb03_05.edf...\n",
            "Copying gs://chbmit-1.0.0.physionet.org/chb03/chb03_06.edf...\n",
            "Copying gs://chbmit-1.0.0.physionet.org/chb03/chb03_07.edf...\n",
            "Copying gs://chbmit-1.0.0.physionet.org/chb03/chb03_08.edf...\n",
            "Copying gs://chbmit-1.0.0.physionet.org/chb03/chb03_09.edf...\n",
            "Copying gs://chbmit-1.0.0.physionet.org/chb03/chb03_10.edf...\n",
            "Copying gs://chbmit-1.0.0.physionet.org/chb03/chb03_11.edf...\n",
            "Copying gs://chbmit-1.0.0.physionet.org/chb03/chb03_12.edf...\n",
            "Copying gs://chbmit-1.0.0.physionet.org/chb03/chb03_13.edf...\n",
            "Copying gs://chbmit-1.0.0.physionet.org/chb03/chb03_14.edf...\n",
            "Copying gs://chbmit-1.0.0.physionet.org/chb03/chb03_16.edf...\n",
            "Copying gs://chbmit-1.0.0.physionet.org/chb03/chb03_15.edf...\n",
            "Copying gs://chbmit-1.0.0.physionet.org/chb03/chb03_17.edf...\n",
            "Copying gs://chbmit-1.0.0.physionet.org/chb03/chb03_18.edf...\n",
            "Copying gs://chbmit-1.0.0.physionet.org/chb03/chb03_19.edf...\n",
            "Copying gs://chbmit-1.0.0.physionet.org/chb03/chb03_20.edf...\n",
            "Copying gs://chbmit-1.0.0.physionet.org/chb03/chb03_21.edf...\n",
            "Copying gs://chbmit-1.0.0.physionet.org/chb03/chb03_22.edf...\n",
            "Copying gs://chbmit-1.0.0.physionet.org/chb03/chb03_23.edf...\n",
            "Copying gs://chbmit-1.0.0.physionet.org/chb03/chb03_24.edf...\n",
            "Copying gs://chbmit-1.0.0.physionet.org/chb03/chb03_25.edf...\n",
            "Copying gs://chbmit-1.0.0.physionet.org/chb03/chb03_26.edf...\n",
            "Copying gs://chbmit-1.0.0.physionet.org/chb03/chb03_27.edf...\n",
            "Copying gs://chbmit-1.0.0.physionet.org/chb03/chb03_28.edf...\n",
            "Copying gs://chbmit-1.0.0.physionet.org/chb03/chb03_29.edf...\n",
            "Copying gs://chbmit-1.0.0.physionet.org/chb03/chb03_31.edf...\n",
            "Copying gs://chbmit-1.0.0.physionet.org/chb03/chb03_30.edf...\n",
            "Copying gs://chbmit-1.0.0.physionet.org/chb03/chb03_32.edf...\n",
            "Copying gs://chbmit-1.0.0.physionet.org/chb03/chb03_33.edf...\n",
            "Copying gs://chbmit-1.0.0.physionet.org/chb03/chb03_34.edf...\n",
            "Copying gs://chbmit-1.0.0.physionet.org/chb03/chb03_34.edf.seizures...\n",
            "Copying gs://chbmit-1.0.0.physionet.org/chb03/chb03_35.edf.seizures...\n",
            "Copying gs://chbmit-1.0.0.physionet.org/chb03/chb03_36.edf...\n",
            "Copying gs://chbmit-1.0.0.physionet.org/chb03/chb03_35.edf...\n",
            "Copying gs://chbmit-1.0.0.physionet.org/chb03/chb03_36.edf.seizures...\n",
            "Copying gs://chbmit-1.0.0.physionet.org/chb03/chb03_37.edf...\n",
            "Copying gs://chbmit-1.0.0.physionet.org/chb04/chb04-summary.txt...\n",
            "Copying gs://chbmit-1.0.0.physionet.org/chb03/chb03_38.edf...\n",
            "Copying gs://chbmit-1.0.0.physionet.org/chb04/chb04_01.edf...\n",
            "Copying gs://chbmit-1.0.0.physionet.org/chb04/chb04_05.edf...\n",
            "Copying gs://chbmit-1.0.0.physionet.org/chb04/chb04_02.edf...\n",
            "Copying gs://chbmit-1.0.0.physionet.org/chb04/chb04_03.edf...\n",
            "Copying gs://chbmit-1.0.0.physionet.org/chb04/chb04_04.edf...\n",
            "Copying gs://chbmit-1.0.0.physionet.org/chb04/chb04_05.edf.seizures...\n",
            "Copying gs://chbmit-1.0.0.physionet.org/chb04/chb04_06.edf...\n",
            "Copying gs://chbmit-1.0.0.physionet.org/chb04/chb04_07.edf...\n",
            "Copying gs://chbmit-1.0.0.physionet.org/chb04/chb04_08.edf...\n",
            "Copying gs://chbmit-1.0.0.physionet.org/chb04/chb04_08.edf.seizures...\n",
            "Copying gs://chbmit-1.0.0.physionet.org/chb04/chb04_09.edf...\n",
            "Copying gs://chbmit-1.0.0.physionet.org/chb04/chb04_10.edf...\n",
            "Copying gs://chbmit-1.0.0.physionet.org/chb04/chb04_11.edf...\n",
            "Copying gs://chbmit-1.0.0.physionet.org/chb04/chb04_12.edf...\n",
            "Copying gs://chbmit-1.0.0.physionet.org/chb04/chb04_13.edf...\n",
            "Copying gs://chbmit-1.0.0.physionet.org/chb04/chb04_14.edf...\n",
            "Copying gs://chbmit-1.0.0.physionet.org/chb04/chb04_15.edf...\n",
            "Copying gs://chbmit-1.0.0.physionet.org/chb04/chb04_16.edf...\n",
            "Copying gs://chbmit-1.0.0.physionet.org/chb04/chb04_17.edf...\n",
            "Copying gs://chbmit-1.0.0.physionet.org/chb04/chb04_18.edf...\n",
            "Copying gs://chbmit-1.0.0.physionet.org/chb04/chb04_19.edf...\n",
            "Copying gs://chbmit-1.0.0.physionet.org/chb04/chb04_21.edf...\n",
            "Copying gs://chbmit-1.0.0.physionet.org/chb04/chb04_22.edf...\n",
            "Copying gs://chbmit-1.0.0.physionet.org/chb04/chb04_23.edf...\n",
            "Copying gs://chbmit-1.0.0.physionet.org/chb04/chb04_24.edf...\n",
            "Copying gs://chbmit-1.0.0.physionet.org/chb04/chb04_25.edf...\n",
            "Copying gs://chbmit-1.0.0.physionet.org/chb04/chb04_26.edf...\n",
            "Copying gs://chbmit-1.0.0.physionet.org/chb04/chb04_27.edf...\n",
            "Copying gs://chbmit-1.0.0.physionet.org/chb04/chb04_28.edf...\n",
            "Copying gs://chbmit-1.0.0.physionet.org/chb04/chb04_28.edf.seizures...\n",
            "Copying gs://chbmit-1.0.0.physionet.org/chb04/chb04_29.edf...\n",
            "Copying gs://chbmit-1.0.0.physionet.org/chb04/chb04_30.edf...\n",
            "Copying gs://chbmit-1.0.0.physionet.org/chb04/chb04_31.edf...\n",
            "Copying gs://chbmit-1.0.0.physionet.org/chb04/chb04_32.edf...\n",
            "Copying gs://chbmit-1.0.0.physionet.org/chb04/chb04_33.edf...\n",
            "Copying gs://chbmit-1.0.0.physionet.org/chb04/chb04_34.edf...\n",
            "Copying gs://chbmit-1.0.0.physionet.org/chb04/chb04_35.edf...\n",
            "Copying gs://chbmit-1.0.0.physionet.org/chb04/chb04_36.edf...\n",
            "Copying gs://chbmit-1.0.0.physionet.org/chb04/chb04_37.edf...\n",
            "Copying gs://chbmit-1.0.0.physionet.org/chb04/chb04_38.edf...\n",
            "Copying gs://chbmit-1.0.0.physionet.org/chb04/chb04_39.edf...\n",
            "Copying gs://chbmit-1.0.0.physionet.org/chb04/chb04_40.edf...\n",
            "Copying gs://chbmit-1.0.0.physionet.org/chb04/chb04_41.edf...\n",
            "Copying gs://chbmit-1.0.0.physionet.org/chb04/chb04_42.edf...\n",
            "Copying gs://chbmit-1.0.0.physionet.org/chb04/chb04_43.edf...\n",
            "Copying gs://chbmit-1.0.0.physionet.org/chb05/chb05-summary.txt...\n",
            "Copying gs://chbmit-1.0.0.physionet.org/chb05/chb05_01.edf...\n",
            "Copying gs://chbmit-1.0.0.physionet.org/chb05/chb05_02.edf...\n",
            "Copying gs://chbmit-1.0.0.physionet.org/chb05/chb05_03.edf...\n",
            "Copying gs://chbmit-1.0.0.physionet.org/chb05/chb05_04.edf...\n",
            "Copying gs://chbmit-1.0.0.physionet.org/chb05/chb05_05.edf...\n",
            "Copying gs://chbmit-1.0.0.physionet.org/chb05/chb05_06.edf...\n",
            "Copying gs://chbmit-1.0.0.physionet.org/chb05/chb05_06.edf.seizures...\n",
            "Copying gs://chbmit-1.0.0.physionet.org/chb05/chb05_07.edf...\n",
            "Copying gs://chbmit-1.0.0.physionet.org/chb05/chb05_08.edf...\n",
            "Copying gs://chbmit-1.0.0.physionet.org/chb05/chb05_09.edf...\n",
            "Copying gs://chbmit-1.0.0.physionet.org/chb05/chb05_10.edf...\n",
            "Copying gs://chbmit-1.0.0.physionet.org/chb05/chb05_11.edf...\n",
            "Caught CTRL-C (signal 2) - exiting\n"
          ],
          "name": "stdout"
        },
        {
          "output_type": "error",
          "ename": "KeyboardInterrupt",
          "evalue": "ignored",
          "traceback": [
            "\u001b[0;31m---------------------------------------------------------------------------\u001b[0m",
            "\u001b[0;31mKeyboardInterrupt\u001b[0m                         Traceback (most recent call last)",
            "\u001b[0;32m<ipython-input-3-e06ca9f0da7e>\u001b[0m in \u001b[0;36m<module>\u001b[0;34m()\u001b[0m\n\u001b[1;32m      1\u001b[0m \u001b[0;31m# !wget -r -N -c -np https://physionet.org/files/chbmit/1.0.0/\u001b[0m\u001b[0;34m\u001b[0m\u001b[0;34m\u001b[0m\u001b[0;34m\u001b[0m\u001b[0m\n\u001b[0;32m----> 2\u001b[0;31m \u001b[0mget_ipython\u001b[0m\u001b[0;34m(\u001b[0m\u001b[0;34m)\u001b[0m\u001b[0;34m.\u001b[0m\u001b[0msystem\u001b[0m\u001b[0;34m(\u001b[0m\u001b[0;34m'gsutil -m cp -r gs://chbmit-1.0.0.physionet.org DESTINATION'\u001b[0m\u001b[0;34m)\u001b[0m\u001b[0;34m\u001b[0m\u001b[0;34m\u001b[0m\u001b[0m\n\u001b[0m",
            "\u001b[0;32m/usr/local/lib/python3.6/dist-packages/google/colab/_shell.py\u001b[0m in \u001b[0;36msystem\u001b[0;34m(self, *args, **kwargs)\u001b[0m\n\u001b[1;32m    100\u001b[0m       \u001b[0mkwargs\u001b[0m\u001b[0;34m.\u001b[0m\u001b[0mupdate\u001b[0m\u001b[0;34m(\u001b[0m\u001b[0;34m{\u001b[0m\u001b[0;34m'also_return_output'\u001b[0m\u001b[0;34m:\u001b[0m \u001b[0;32mTrue\u001b[0m\u001b[0;34m}\u001b[0m\u001b[0;34m)\u001b[0m\u001b[0;34m\u001b[0m\u001b[0;34m\u001b[0m\u001b[0m\n\u001b[1;32m    101\u001b[0m \u001b[0;34m\u001b[0m\u001b[0m\n\u001b[0;32m--> 102\u001b[0;31m     \u001b[0moutput\u001b[0m \u001b[0;34m=\u001b[0m \u001b[0m_system_commands\u001b[0m\u001b[0;34m.\u001b[0m\u001b[0m_system_compat\u001b[0m\u001b[0;34m(\u001b[0m\u001b[0mself\u001b[0m\u001b[0;34m,\u001b[0m \u001b[0;34m*\u001b[0m\u001b[0margs\u001b[0m\u001b[0;34m,\u001b[0m \u001b[0;34m**\u001b[0m\u001b[0mkwargs\u001b[0m\u001b[0;34m)\u001b[0m  \u001b[0;31m# pylint:disable=protected-access\u001b[0m\u001b[0;34m\u001b[0m\u001b[0;34m\u001b[0m\u001b[0m\n\u001b[0m\u001b[1;32m    103\u001b[0m \u001b[0;34m\u001b[0m\u001b[0m\n\u001b[1;32m    104\u001b[0m     \u001b[0;32mif\u001b[0m \u001b[0mpip_warn\u001b[0m\u001b[0;34m:\u001b[0m\u001b[0;34m\u001b[0m\u001b[0;34m\u001b[0m\u001b[0m\n",
            "\u001b[0;32m/usr/local/lib/python3.6/dist-packages/google/colab/_system_commands.py\u001b[0m in \u001b[0;36m_system_compat\u001b[0;34m(shell, cmd, also_return_output)\u001b[0m\n\u001b[1;32m    438\u001b[0m   \u001b[0;31m# stack.\u001b[0m\u001b[0;34m\u001b[0m\u001b[0;34m\u001b[0m\u001b[0;34m\u001b[0m\u001b[0m\n\u001b[1;32m    439\u001b[0m   result = _run_command(\n\u001b[0;32m--> 440\u001b[0;31m       shell.var_expand(cmd, depth=2), clear_streamed_output=False)\n\u001b[0m\u001b[1;32m    441\u001b[0m   \u001b[0mshell\u001b[0m\u001b[0;34m.\u001b[0m\u001b[0muser_ns\u001b[0m\u001b[0;34m[\u001b[0m\u001b[0;34m'_exit_code'\u001b[0m\u001b[0;34m]\u001b[0m \u001b[0;34m=\u001b[0m \u001b[0mresult\u001b[0m\u001b[0;34m.\u001b[0m\u001b[0mreturncode\u001b[0m\u001b[0;34m\u001b[0m\u001b[0;34m\u001b[0m\u001b[0m\n\u001b[1;32m    442\u001b[0m   \u001b[0;32mif\u001b[0m \u001b[0;34m-\u001b[0m\u001b[0mresult\u001b[0m\u001b[0;34m.\u001b[0m\u001b[0mreturncode\u001b[0m \u001b[0;32min\u001b[0m \u001b[0m_INTERRUPTED_SIGNALS\u001b[0m\u001b[0;34m:\u001b[0m\u001b[0;34m\u001b[0m\u001b[0;34m\u001b[0m\u001b[0m\n",
            "\u001b[0;32m/usr/local/lib/python3.6/dist-packages/google/colab/_system_commands.py\u001b[0m in \u001b[0;36m_run_command\u001b[0;34m(cmd, clear_streamed_output)\u001b[0m\n\u001b[1;32m    193\u001b[0m       \u001b[0mos\u001b[0m\u001b[0;34m.\u001b[0m\u001b[0mclose\u001b[0m\u001b[0;34m(\u001b[0m\u001b[0mchild_pty\u001b[0m\u001b[0;34m)\u001b[0m\u001b[0;34m\u001b[0m\u001b[0;34m\u001b[0m\u001b[0m\n\u001b[1;32m    194\u001b[0m \u001b[0;34m\u001b[0m\u001b[0m\n\u001b[0;32m--> 195\u001b[0;31m       \u001b[0;32mreturn\u001b[0m \u001b[0m_monitor_process\u001b[0m\u001b[0;34m(\u001b[0m\u001b[0mparent_pty\u001b[0m\u001b[0;34m,\u001b[0m \u001b[0mepoll\u001b[0m\u001b[0;34m,\u001b[0m \u001b[0mp\u001b[0m\u001b[0;34m,\u001b[0m \u001b[0mcmd\u001b[0m\u001b[0;34m,\u001b[0m \u001b[0mupdate_stdin_widget\u001b[0m\u001b[0;34m)\u001b[0m\u001b[0;34m\u001b[0m\u001b[0;34m\u001b[0m\u001b[0m\n\u001b[0m\u001b[1;32m    196\u001b[0m   \u001b[0;32mfinally\u001b[0m\u001b[0;34m:\u001b[0m\u001b[0;34m\u001b[0m\u001b[0;34m\u001b[0m\u001b[0m\n\u001b[1;32m    197\u001b[0m     \u001b[0mepoll\u001b[0m\u001b[0;34m.\u001b[0m\u001b[0mclose\u001b[0m\u001b[0;34m(\u001b[0m\u001b[0;34m)\u001b[0m\u001b[0;34m\u001b[0m\u001b[0;34m\u001b[0m\u001b[0m\n",
            "\u001b[0;32m/usr/local/lib/python3.6/dist-packages/google/colab/_system_commands.py\u001b[0m in \u001b[0;36m_monitor_process\u001b[0;34m(parent_pty, epoll, p, cmd, update_stdin_widget)\u001b[0m\n\u001b[1;32m    220\u001b[0m   \u001b[0;32mwhile\u001b[0m \u001b[0;32mTrue\u001b[0m\u001b[0;34m:\u001b[0m\u001b[0;34m\u001b[0m\u001b[0;34m\u001b[0m\u001b[0m\n\u001b[1;32m    221\u001b[0m     \u001b[0;32mtry\u001b[0m\u001b[0;34m:\u001b[0m\u001b[0;34m\u001b[0m\u001b[0;34m\u001b[0m\u001b[0m\n\u001b[0;32m--> 222\u001b[0;31m       \u001b[0mresult\u001b[0m \u001b[0;34m=\u001b[0m \u001b[0m_poll_process\u001b[0m\u001b[0;34m(\u001b[0m\u001b[0mparent_pty\u001b[0m\u001b[0;34m,\u001b[0m \u001b[0mepoll\u001b[0m\u001b[0;34m,\u001b[0m \u001b[0mp\u001b[0m\u001b[0;34m,\u001b[0m \u001b[0mcmd\u001b[0m\u001b[0;34m,\u001b[0m \u001b[0mdecoder\u001b[0m\u001b[0;34m,\u001b[0m \u001b[0mstate\u001b[0m\u001b[0;34m)\u001b[0m\u001b[0;34m\u001b[0m\u001b[0;34m\u001b[0m\u001b[0m\n\u001b[0m\u001b[1;32m    223\u001b[0m       \u001b[0;32mif\u001b[0m \u001b[0mresult\u001b[0m \u001b[0;32mis\u001b[0m \u001b[0;32mnot\u001b[0m \u001b[0;32mNone\u001b[0m\u001b[0;34m:\u001b[0m\u001b[0;34m\u001b[0m\u001b[0;34m\u001b[0m\u001b[0m\n\u001b[1;32m    224\u001b[0m         \u001b[0;32mreturn\u001b[0m \u001b[0mresult\u001b[0m\u001b[0;34m\u001b[0m\u001b[0;34m\u001b[0m\u001b[0m\n",
            "\u001b[0;32m/usr/local/lib/python3.6/dist-packages/google/colab/_system_commands.py\u001b[0m in \u001b[0;36m_poll_process\u001b[0;34m(parent_pty, epoll, p, cmd, decoder, state)\u001b[0m\n\u001b[1;32m    267\u001b[0m   \u001b[0moutput_available\u001b[0m \u001b[0;34m=\u001b[0m \u001b[0;32mFalse\u001b[0m\u001b[0;34m\u001b[0m\u001b[0;34m\u001b[0m\u001b[0m\n\u001b[1;32m    268\u001b[0m \u001b[0;34m\u001b[0m\u001b[0m\n\u001b[0;32m--> 269\u001b[0;31m   \u001b[0mevents\u001b[0m \u001b[0;34m=\u001b[0m \u001b[0mepoll\u001b[0m\u001b[0;34m.\u001b[0m\u001b[0mpoll\u001b[0m\u001b[0;34m(\u001b[0m\u001b[0;34m)\u001b[0m\u001b[0;34m\u001b[0m\u001b[0;34m\u001b[0m\u001b[0m\n\u001b[0m\u001b[1;32m    270\u001b[0m   \u001b[0minput_events\u001b[0m \u001b[0;34m=\u001b[0m \u001b[0;34m[\u001b[0m\u001b[0;34m]\u001b[0m\u001b[0;34m\u001b[0m\u001b[0;34m\u001b[0m\u001b[0m\n\u001b[1;32m    271\u001b[0m   \u001b[0;32mfor\u001b[0m \u001b[0m_\u001b[0m\u001b[0;34m,\u001b[0m \u001b[0mevent\u001b[0m \u001b[0;32min\u001b[0m \u001b[0mevents\u001b[0m\u001b[0;34m:\u001b[0m\u001b[0;34m\u001b[0m\u001b[0;34m\u001b[0m\u001b[0m\n",
            "\u001b[0;31mKeyboardInterrupt\u001b[0m: "
          ]
        }
      ]
    },
    {
      "cell_type": "markdown",
      "metadata": {
        "id": "O3NCs89XrurD"
      },
      "source": [
        "Checking some files content."
      ]
    },
    {
      "cell_type": "code",
      "metadata": {
        "id": "rWetP4mbrIUt",
        "outputId": "62a3a849-9f11-4204-a4d9-5d12b6e5b9f6",
        "colab": {
          "base_uri": "https://localhost:8080/",
          "height": 131
        }
      },
      "source": [
        "file = '/content/DESTINATION/chbmit-1.0.0.physionet.org/chb03/chb03-summary.txt'\n",
        "f = open(file, 'r')\n",
        "file_contents = f.read()ON\n",
        "print(file_contents)"
      ],
      "execution_count": 3,
      "outputs": [
        {
          "output_type": "error",
          "ename": "SyntaxError",
          "evalue": "ignored",
          "traceback": [
            "\u001b[0;36m  File \u001b[0;32m\"<ipython-input-3-55f38f3e5cad>\"\u001b[0;36m, line \u001b[0;32m3\u001b[0m\n\u001b[0;31m    file_contents = f.read()ON\u001b[0m\n\u001b[0m                             ^\u001b[0m\n\u001b[0;31mSyntaxError\u001b[0m\u001b[0;31m:\u001b[0m invalid syntax\n"
          ]
        }
      ]
    },
    {
      "cell_type": "code",
      "metadata": {
        "id": "JT5Ih52msbCh",
        "outputId": "13180a64-7fa3-4f82-9e74-8da247078199",
        "colab": {
          "base_uri": "https://localhost:8080/",
          "height": 280
        }
      },
      "source": [
        "!pip install pyedflib"
      ],
      "execution_count": 4,
      "outputs": [
        {
          "output_type": "stream",
          "text": [
            "Collecting pyedflib\n",
            "\u001b[?25l  Downloading https://files.pythonhosted.org/packages/68/1d/f10ea5017a47398fda885c3c313973cf032c19fd6eb773d8e5b816ac3efc/pyEDFlib-0.1.19.tar.gz (1.2MB)\n",
            "\u001b[K     |████████████████████████████████| 1.2MB 3.4MB/s \n",
            "\u001b[?25h  Installing build dependencies ... \u001b[?25l\u001b[?25hdone\n",
            "  Getting requirements to build wheel ... \u001b[?25l\u001b[?25hdone\n",
            "    Preparing wheel metadata ... \u001b[?25l\u001b[?25hdone\n",
            "Requirement already satisfied: numpy>=1.9.1 in /usr/local/lib/python3.6/dist-packages (from pyedflib) (1.18.5)\n",
            "Building wheels for collected packages: pyedflib\n",
            "  Building wheel for pyedflib (PEP 517) ... \u001b[?25l\u001b[?25hdone\n",
            "  Created wheel for pyedflib: filename=pyEDFlib-0.1.19-cp36-cp36m-linux_x86_64.whl size=925700 sha256=b640fc806fc6775fe2d940fde3239db4f23d372136bbeba2fc5dd1a1912a07c7\n",
            "  Stored in directory: /root/.cache/pip/wheels/1f/b7/24/a565e4f7471617165f1b040651b52d87ad1885aaf32e02d4f9\n",
            "Successfully built pyedflib\n",
            "Installing collected packages: pyedflib\n",
            "Successfully installed pyedflib-0.1.19\n"
          ],
          "name": "stdout"
        }
      ]
    },
    {
      "cell_type": "code",
      "metadata": {
        "id": "fnXYN6yIr0md",
        "outputId": "ebbc78be-7111-4169-fa23-e397cbf5bf48",
        "colab": {
          "base_uri": "https://localhost:8080/",
          "height": 353
        }
      },
      "source": [
        "from pyedflib import highlevel\n",
        "import numpy as np\n",
        "import matplotlib.pyplot as plt\n",
        "\n",
        "# read an edf file\n",
        "file2 = '/content/DESTINATION/chbmit-1.0.0.physionet.org/chb02/chb02_16+.edf'\n",
        "signals, signal_headers, header = highlevel.read_edf(file2)\n",
        "\n",
        "dft = np.fft.fft(signals, axis=1)\n",
        "\n",
        "plt.subplot(1,2,1)\n",
        "plt.plot(np.transpose(signals[0:3,:1000]))\n",
        "plt.title('Raw signals')\n",
        "plt.subplot(1,2,2)\n",
        "plt.plot(np.transpose(dft[0:3,:1000]))\n",
        "plt.title('Fourier transform')\n",
        "plt.show()"
      ],
      "execution_count": 15,
      "outputs": [
        {
          "output_type": "stream",
          "text": [
            "Reading Channels: 100%|██████████| 23/23 [00:05<00:00,  4.59it/s]\n",
            "/usr/local/lib/python3.6/dist-packages/numpy/core/_asarray.py:85: ComplexWarning: Casting complex values to real discards the imaginary part\n",
            "  return array(a, dtype, copy=False, order=order)\n"
          ],
          "name": "stderr"
        },
        {
          "output_type": "display_data",
          "data": {
            "image/png": "[encoded data removed]",
            "text/plain": [
              "<Figure size 432x288 with 2 Axes>"
            ]
          },
          "metadata": {
            "tags": [],
            "needs_background": "light"
          }
        }
      ]
    },
    {
      "cell_type": "markdown",
      "metadata": {
        "id": "VOXRJRMUDhZs"
      },
      "source": [
        "## Preproccessing\n",
        "Some basic data preprocessing includes obtaining signals in frequency domain usinf fft and shaping the data to arrange as labels and training+test data."
      ]
    },
    {
      "cell_type": "markdown",
      "metadata": {
        "id": "WQZLzVtIfNqr"
      },
      "source": [
        "### First we will read all the \".edf\" and \".txt\" files in the directory and stack them."
      ]
    },
    {
      "cell_type": "code",
      "metadata": {
        "id": "hHS0g7cSD1w3",
        "outputId": "5bfc6f9c-43ca-4de2-b940-9ce06b1de9f9",
        "colab": {
          "base_uri": "https://localhost:8080/",
          "height": 0
        }
      },
      "source": [
        "import os\n",
        "\n",
        "path = '/content/DESTINATION'\n",
        "\n",
        "edfFiles = []\n",
        "txtFiles = []\n",
        "# r=root, d=directories, f = files\n",
        "for r, d, f in os.walk(path):\n",
        "    for file in f:\n",
        "        if file[-4:] == '.edf':\n",
        "            edfFiles.append(os.path.join(r, file))\n",
        "        elif file[-4:] == '.txt':\n",
        "            txtFiles.append(os.path.join(r, file))\n",
        "\n",
        "edfFiles = sorted(edfFiles)\n",
        "txtFiles = sorted(txtFiles)\n",
        "\n",
        "for f in edfFiles:\n",
        "    print(f)\n",
        "\n",
        "for f in txtFiles:\n",
        "    print(f)"
      ],
      "execution_count": 1,
      "outputs": [
        {
          "output_type": "stream",
          "text": [
            "/content/DESTINATION/chbmit-1.0.0.physionet.org/chb01/chb01_01.edf\n",
            "/content/DESTINATION/chbmit-1.0.0.physionet.org/chb01/chb01_02.edf\n",
            "/content/DESTINATION/chbmit-1.0.0.physionet.org/chb01/chb01_03.edf\n",
            "/content/DESTINATION/chbmit-1.0.0.physionet.org/chb01/chb01_04.edf\n",
            "/content/DESTINATION/chbmit-1.0.0.physionet.org/chb01/chb01_05.edf\n",
            "/content/DESTINATION/chbmit-1.0.0.physionet.org/chb01/chb01_06.edf\n",
            "/content/DESTINATION/chbmit-1.0.0.physionet.org/chb01/chb01_07.edf\n",
            "/content/DESTINATION/chbmit-1.0.0.physionet.org/chb01/chb01_08.edf\n",
            "/content/DESTINATION/chbmit-1.0.0.physionet.org/chb01/chb01_09.edf\n",
            "/content/DESTINATION/chbmit-1.0.0.physionet.org/chb01/chb01_10.edf\n",
            "/content/DESTINATION/chbmit-1.0.0.physionet.org/chb01/chb01_11.edf\n",
            "/content/DESTINATION/chbmit-1.0.0.physionet.org/chb01/chb01_12.edf\n",
            "/content/DESTINATION/chbmit-1.0.0.physionet.org/chb01/chb01_13.edf\n",
            "/content/DESTINATION/chbmit-1.0.0.physionet.org/chb01/chb01_14.edf\n",
            "/content/DESTINATION/chbmit-1.0.0.physionet.org/chb01/chb01_15.edf\n",
            "/content/DESTINATION/chbmit-1.0.0.physionet.org/chb01/chb01_16.edf\n",
            "/content/DESTINATION/chbmit-1.0.0.physionet.org/chb01/chb01_17.edf\n",
            "/content/DESTINATION/chbmit-1.0.0.physionet.org/chb01/chb01_18.edf\n",
            "/content/DESTINATION/chbmit-1.0.0.physionet.org/chb01/chb01_19.edf\n",
            "/content/DESTINATION/chbmit-1.0.0.physionet.org/chb01/chb01_20.edf\n",
            "/content/DESTINATION/chbmit-1.0.0.physionet.org/chb01/chb01_21.edf\n",
            "/content/DESTINATION/chbmit-1.0.0.physionet.org/chb01/chb01_22.edf\n",
            "/content/DESTINATION/chbmit-1.0.0.physionet.org/chb01/chb01_23.edf\n",
            "/content/DESTINATION/chbmit-1.0.0.physionet.org/chb01/chb01_24.edf\n",
            "/content/DESTINATION/chbmit-1.0.0.physionet.org/chb01/chb01_25.edf\n",
            "/content/DESTINATION/chbmit-1.0.0.physionet.org/chb01/chb01_26.edf\n",
            "/content/DESTINATION/chbmit-1.0.0.physionet.org/chb01/chb01_27.edf\n",
            "/content/DESTINATION/chbmit-1.0.0.physionet.org/chb01/chb01_29.edf\n",
            "/content/DESTINATION/chbmit-1.0.0.physionet.org/chb01/chb01_30.edf\n",
            "/content/DESTINATION/chbmit-1.0.0.physionet.org/chb01/chb01_31.edf\n",
            "/content/DESTINATION/chbmit-1.0.0.physionet.org/chb01/chb01_32.edf\n",
            "/content/DESTINATION/chbmit-1.0.0.physionet.org/chb01/chb01_33.edf\n",
            "/content/DESTINATION/chbmit-1.0.0.physionet.org/chb01/chb01_34.edf\n",
            "/content/DESTINATION/chbmit-1.0.0.physionet.org/chb01/chb01_36.edf\n",
            "/content/DESTINATION/chbmit-1.0.0.physionet.org/chb01/chb01_37.edf\n",
            "/content/DESTINATION/chbmit-1.0.0.physionet.org/chb01/chb01_38.edf\n",
            "/content/DESTINATION/chbmit-1.0.0.physionet.org/chb01/chb01_39.edf\n",
            "/content/DESTINATION/chbmit-1.0.0.physionet.org/chb01/chb01_40.edf\n",
            "/content/DESTINATION/chbmit-1.0.0.physionet.org/chb01/chb01_41.edf\n",
            "/content/DESTINATION/chbmit-1.0.0.physionet.org/chb01/chb01_42.edf\n",
            "/content/DESTINATION/chbmit-1.0.0.physionet.org/chb01/chb01_43.edf\n",
            "/content/DESTINATION/chbmit-1.0.0.physionet.org/chb01/chb01_46.edf\n",
            "/content/DESTINATION/chbmit-1.0.0.physionet.org/chb02/chb02_01.edf\n",
            "/content/DESTINATION/chbmit-1.0.0.physionet.org/chb02/chb02_02.edf\n",
            "/content/DESTINATION/chbmit-1.0.0.physionet.org/chb02/chb02_03.edf\n",
            "/content/DESTINATION/chbmit-1.0.0.physionet.org/chb02/chb02_04.edf\n",
            "/content/DESTINATION/chbmit-1.0.0.physionet.org/chb02/chb02_05.edf\n",
            "/content/DESTINATION/chbmit-1.0.0.physionet.org/chb02/chb02_06.edf\n",
            "/content/DESTINATION/chbmit-1.0.0.physionet.org/chb02/chb02_07.edf\n",
            "/content/DESTINATION/chbmit-1.0.0.physionet.org/chb02/chb02_08.edf\n",
            "/content/DESTINATION/chbmit-1.0.0.physionet.org/chb02/chb02_09.edf\n",
            "/content/DESTINATION/chbmit-1.0.0.physionet.org/chb02/chb02_10.edf\n",
            "/content/DESTINATION/chbmit-1.0.0.physionet.org/chb02/chb02_11.edf\n",
            "/content/DESTINATION/chbmit-1.0.0.physionet.org/chb02/chb02_12.edf\n",
            "/content/DESTINATION/chbmit-1.0.0.physionet.org/chb02/chb02_13.edf\n",
            "/content/DESTINATION/chbmit-1.0.0.physionet.org/chb02/chb02_14.edf\n",
            "/content/DESTINATION/chbmit-1.0.0.physionet.org/chb02/chb02_15.edf\n",
            "/content/DESTINATION/chbmit-1.0.0.physionet.org/chb02/chb02_16+.edf\n",
            "/content/DESTINATION/chbmit-1.0.0.physionet.org/chb02/chb02_16.edf\n",
            "/content/DESTINATION/chbmit-1.0.0.physionet.org/chb02/chb02_17.edf\n",
            "/content/DESTINATION/chbmit-1.0.0.physionet.org/chb02/chb02_18.edf\n",
            "/content/DESTINATION/chbmit-1.0.0.physionet.org/chb02/chb02_19.edf\n",
            "/content/DESTINATION/chbmit-1.0.0.physionet.org/chb02/chb02_20.edf\n",
            "/content/DESTINATION/chbmit-1.0.0.physionet.org/chb02/chb02_21.edf\n",
            "/content/DESTINATION/chbmit-1.0.0.physionet.org/chb02/chb02_22.edf\n",
            "/content/DESTINATION/chbmit-1.0.0.physionet.org/chb02/chb02_23.edf\n",
            "/content/DESTINATION/chbmit-1.0.0.physionet.org/chb02/chb02_24.edf\n",
            "/content/DESTINATION/chbmit-1.0.0.physionet.org/chb02/chb02_25.edf\n",
            "/content/DESTINATION/chbmit-1.0.0.physionet.org/chb02/chb02_26.edf\n",
            "/content/DESTINATION/chbmit-1.0.0.physionet.org/chb02/chb02_27.edf\n",
            "/content/DESTINATION/chbmit-1.0.0.physionet.org/chb02/chb02_28.edf\n",
            "/content/DESTINATION/chbmit-1.0.0.physionet.org/chb02/chb02_29.edf\n",
            "/content/DESTINATION/chbmit-1.0.0.physionet.org/chb02/chb02_30.edf\n",
            "/content/DESTINATION/chbmit-1.0.0.physionet.org/chb02/chb02_31.edf\n",
            "/content/DESTINATION/chbmit-1.0.0.physionet.org/chb02/chb02_32.edf\n",
            "/content/DESTINATION/chbmit-1.0.0.physionet.org/chb02/chb02_33.edf\n",
            "/content/DESTINATION/chbmit-1.0.0.physionet.org/chb02/chb02_34.edf\n",
            "/content/DESTINATION/chbmit-1.0.0.physionet.org/chb02/chb02_35.edf\n",
            "/content/DESTINATION/chbmit-1.0.0.physionet.org/chb03/chb03_01.edf\n",
            "/content/DESTINATION/chbmit-1.0.0.physionet.org/chb03/chb03_02.edf\n",
            "/content/DESTINATION/chbmit-1.0.0.physionet.org/chb03/chb03_03.edf\n",
            "/content/DESTINATION/chbmit-1.0.0.physionet.org/chb03/chb03_04.edf\n",
            "/content/DESTINATION/chbmit-1.0.0.physionet.org/chb03/chb03_05.edf\n",
            "/content/DESTINATION/chbmit-1.0.0.physionet.org/chb03/chb03_06.edf\n",
            "/content/DESTINATION/chbmit-1.0.0.physionet.org/chb03/chb03_07.edf\n",
            "/content/DESTINATION/chbmit-1.0.0.physionet.org/chb03/chb03_08.edf\n",
            "/content/DESTINATION/chbmit-1.0.0.physionet.org/chb03/chb03_09.edf\n",
            "/content/DESTINATION/chbmit-1.0.0.physionet.org/chb03/chb03_10.edf\n",
            "/content/DESTINATION/chbmit-1.0.0.physionet.org/chb03/chb03_11.edf\n",
            "/content/DESTINATION/chbmit-1.0.0.physionet.org/chb03/chb03_12.edf\n",
            "/content/DESTINATION/chbmit-1.0.0.physionet.org/chb03/chb03_13.edf\n",
            "/content/DESTINATION/chbmit-1.0.0.physionet.org/chb03/chb03_14.edf\n",
            "/content/DESTINATION/chbmit-1.0.0.physionet.org/chb03/chb03_15.edf\n",
            "/content/DESTINATION/chbmit-1.0.0.physionet.org/chb03/chb03_16.edf\n",
            "/content/DESTINATION/chbmit-1.0.0.physionet.org/chb03/chb03_17.edf\n",
            "/content/DESTINATION/chbmit-1.0.0.physionet.org/chb03/chb03_18.edf\n",
            "/content/DESTINATION/chbmit-1.0.0.physionet.org/chb03/chb03_19.edf\n",
            "/content/DESTINATION/chbmit-1.0.0.physionet.org/chb03/chb03_20.edf\n",
            "/content/DESTINATION/chbmit-1.0.0.physionet.org/chb03/chb03_21.edf\n",
            "/content/DESTINATION/chbmit-1.0.0.physionet.org/chb03/chb03_22.edf\n",
            "/content/DESTINATION/chbmit-1.0.0.physionet.org/chb03/chb03_23.edf\n",
            "/content/DESTINATION/chbmit-1.0.0.physionet.org/chb03/chb03_24.edf\n",
            "/content/DESTINATION/chbmit-1.0.0.physionet.org/chb03/chb03_25.edf\n",
            "/content/DESTINATION/chbmit-1.0.0.physionet.org/chb03/chb03_26.edf\n",
            "/content/DESTINATION/chbmit-1.0.0.physionet.org/chb03/chb03_27.edf\n",
            "/content/DESTINATION/chbmit-1.0.0.physionet.org/chb03/chb03_28.edf\n",
            "/content/DESTINATION/chbmit-1.0.0.physionet.org/chb03/chb03_29.edf\n",
            "/content/DESTINATION/chbmit-1.0.0.physionet.org/chb03/chb03_30.edf\n",
            "/content/DESTINATION/chbmit-1.0.0.physionet.org/chb03/chb03_31.edf\n",
            "/content/DESTINATION/chbmit-1.0.0.physionet.org/chb03/chb03_32.edf\n",
            "/content/DESTINATION/chbmit-1.0.0.physionet.org/chb03/chb03_33.edf\n",
            "/content/DESTINATION/chbmit-1.0.0.physionet.org/chb03/chb03_34.edf\n",
            "/content/DESTINATION/chbmit-1.0.0.physionet.org/chb03/chb03_35.edf\n",
            "/content/DESTINATION/chbmit-1.0.0.physionet.org/chb03/chb03_36.edf\n",
            "/content/DESTINATION/chbmit-1.0.0.physionet.org/chb03/chb03_37.edf\n",
            "/content/DESTINATION/chbmit-1.0.0.physionet.org/chb03/chb03_38.edf\n",
            "/content/DESTINATION/chbmit-1.0.0.physionet.org/chb04/chb04_01.edf\n",
            "/content/DESTINATION/chbmit-1.0.0.physionet.org/chb04/chb04_02.edf\n",
            "/content/DESTINATION/chbmit-1.0.0.physionet.org/chb04/chb04_03.edf\n",
            "/content/DESTINATION/chbmit-1.0.0.physionet.org/chb04/chb04_04.edf\n",
            "/content/DESTINATION/chbmit-1.0.0.physionet.org/chb04/chb04_05.edf\n",
            "/content/DESTINATION/chbmit-1.0.0.physionet.org/chb04/chb04_06.edf\n",
            "/content/DESTINATION/chbmit-1.0.0.physionet.org/chb04/chb04_07.edf\n",
            "/content/DESTINATION/chbmit-1.0.0.physionet.org/chb04/chb04_08.edf\n",
            "/content/DESTINATION/chbmit-1.0.0.physionet.org/chb04/chb04_09.edf\n",
            "/content/DESTINATION/chbmit-1.0.0.physionet.org/chb04/chb04_10.edf\n",
            "/content/DESTINATION/chbmit-1.0.0.physionet.org/chb04/chb04_11.edf\n",
            "/content/DESTINATION/chbmit-1.0.0.physionet.org/chb04/chb04_12.edf\n",
            "/content/DESTINATION/chbmit-1.0.0.physionet.org/chb04/chb04_13.edf\n",
            "/content/DESTINATION/chbmit-1.0.0.physionet.org/chb04/chb04_14.edf\n",
            "/content/DESTINATION/chbmit-1.0.0.physionet.org/chb04/chb04_15.edf\n",
            "/content/DESTINATION/chbmit-1.0.0.physionet.org/chb04/chb04_16.edf\n",
            "/content/DESTINATION/chbmit-1.0.0.physionet.org/chb04/chb04_17.edf\n",
            "/content/DESTINATION/chbmit-1.0.0.physionet.org/chb04/chb04_18.edf\n",
            "/content/DESTINATION/chbmit-1.0.0.physionet.org/chb04/chb04_19.edf\n",
            "/content/DESTINATION/chbmit-1.0.0.physionet.org/chb04/chb04_21.edf\n",
            "/content/DESTINATION/chbmit-1.0.0.physionet.org/chb04/chb04_22.edf\n",
            "/content/DESTINATION/chbmit-1.0.0.physionet.org/chb04/chb04_23.edf\n",
            "/content/DESTINATION/chbmit-1.0.0.physionet.org/chb04/chb04_24.edf\n",
            "/content/DESTINATION/chbmit-1.0.0.physionet.org/chb04/chb04_25.edf\n",
            "/content/DESTINATION/chbmit-1.0.0.physionet.org/chb04/chb04_26.edf\n",
            "/content/DESTINATION/chbmit-1.0.0.physionet.org/chb04/chb04_27.edf\n",
            "/content/DESTINATION/chbmit-1.0.0.physionet.org/chb04/chb04_28.edf\n",
            "/content/DESTINATION/chbmit-1.0.0.physionet.org/chb04/chb04_29.edf\n",
            "/content/DESTINATION/chbmit-1.0.0.physionet.org/chb04/chb04_30.edf\n",
            "/content/DESTINATION/chbmit-1.0.0.physionet.org/chb04/chb04_31.edf\n",
            "/content/DESTINATION/chbmit-1.0.0.physionet.org/chb04/chb04_32.edf\n",
            "/content/DESTINATION/chbmit-1.0.0.physionet.org/chb04/chb04_33.edf\n",
            "/content/DESTINATION/chbmit-1.0.0.physionet.org/chb04/chb04_34.edf\n",
            "/content/DESTINATION/chbmit-1.0.0.physionet.org/chb04/chb04_35.edf\n",
            "/content/DESTINATION/chbmit-1.0.0.physionet.org/chb04/chb04_37.edf\n",
            "/content/DESTINATION/chbmit-1.0.0.physionet.org/chb04/chb04_42.edf\n",
            "/content/DESTINATION/chbmit-1.0.0.physionet.org/chb05/chb05_01.edf\n",
            "/content/DESTINATION/chbmit-1.0.0.physionet.org/chb05/chb05_02.edf\n",
            "/content/DESTINATION/chbmit-1.0.0.physionet.org/chb05/chb05_03.edf\n",
            "/content/DESTINATION/chbmit-1.0.0.physionet.org/chb05/chb05_04.edf\n",
            "/content/DESTINATION/chbmit-1.0.0.physionet.org/chb05/chb05_05.edf\n",
            "/content/DESTINATION/chbmit-1.0.0.physionet.org/chb05/chb05_06.edf\n",
            "/content/DESTINATION/chbmit-1.0.0.physionet.org/chb05/chb05_07.edf\n",
            "/content/DESTINATION/chbmit-1.0.0.physionet.org/chb05/chb05_08.edf\n",
            "/content/DESTINATION/chbmit-1.0.0.physionet.org/SHA256SUMS.txt\n",
            "/content/DESTINATION/chbmit-1.0.0.physionet.org/chb01/chb01-summary.txt\n",
            "/content/DESTINATION/chbmit-1.0.0.physionet.org/chb02/chb02-summary.txt\n",
            "/content/DESTINATION/chbmit-1.0.0.physionet.org/chb03/chb03-summary.txt\n",
            "/content/DESTINATION/chbmit-1.0.0.physionet.org/chb04/chb04-summary.txt\n",
            "/content/DESTINATION/chbmit-1.0.0.physionet.org/chb05/chb05-summary.txt\n"
          ],
          "name": "stdout"
        }
      ]
    },
    {
      "cell_type": "markdown",
      "metadata": {
        "id": "BruhxyL2hYMH"
      },
      "source": [
        "### Reading EDF & TXT files and stacking them in batches. "
      ]
    },
    {
      "cell_type": "code",
      "metadata": {
        "id": "wdLCEu3fhaEK"
      },
      "source": [
        "from pyedflib import highlevel\n",
        "import numpy as np\n",
        "import matplotlib.pyplot as plt\n",
        "import re\n",
        "import matplotlib.pyplot as plt\n",
        "\n",
        "def generateLabels(edfFileName):\n",
        "  sub = edfFileName[54:59]\n",
        "  filePath = '/content/DESTINATION/chbmit-1.0.0.physionet.org/' + sub + '/' + sub + '-summary.txt'\n",
        "  f = open(filePath, 'r')\n",
        "  file_contents = f.read()\n",
        "\n",
        "  file_list = file_contents.split('\\n')\n",
        "  sub = edfFileName[54:-4]\n",
        "  sub = 'File Name: ' + sub + '.edf'\n",
        "  ind = file_list.index(sub)\n",
        "\n",
        "  seizures = list(map(int, re.findall(r'\\d+', file_list[ind+3]) ))[0]\n",
        "  start = []\n",
        "  end   = []\n",
        "  for i in range(seizures):\n",
        "    start.append(list(map(int, re.findall(r'\\d+', file_list[ind+2*i+4])))[0])\n",
        "    end.append(list(map(int, re.findall(r'\\d+', file_list[ind+2*i+5])))[0])\n",
        "    # print(start, end)\n",
        "\n",
        "  if seizures == 0:\n",
        "    labels = np.zeros((3600))\n",
        "  else:\n",
        "    labels = np.ones((3600))\n",
        "    labels[end[-1]:] *= 0\n",
        "    for i in range(len(start)):\n",
        "      labels[start[i]:end[i]] *= 2\n",
        "  \n",
        "  return labels\n"
      ],
      "execution_count": 2,
      "outputs": []
    },
    {
      "cell_type": "markdown",
      "metadata": {
        "id": "XWDuOlnJ4y5L"
      },
      "source": [
        "Shuffling and partitioning list."
      ]
    },
    {
      "cell_type": "code",
      "metadata": {
        "id": "zzx0zzwaz6FR",
        "outputId": "1624b446-ce07-45bf-e4e0-f5984082c6bd",
        "colab": {
          "base_uri": "https://localhost:8080/",
          "height": 35
        }
      },
      "source": [
        "import random\n",
        "\n",
        "totalData       = len(edfFiles)\n",
        "random.shuffle(edfFiles)\n",
        "partition       = int(len(edfFiles) * 2/3)\n",
        "edfFilesVal     = edfFiles[partition:]\n",
        "edfFilesTrain   = edfFiles[:partition]\n",
        "trainData       = len(edfFilesTrain)\n",
        "valData         = len(edfFilesVal)\n",
        "\n",
        "print(totalData, trainData, valData)"
      ],
      "execution_count": 3,
      "outputs": [
        {
          "output_type": "stream",
          "text": [
            "160 106 54\n"
          ],
          "name": "stdout"
        }
      ]
    },
    {
      "cell_type": "markdown",
      "metadata": {
        "id": "umqviX-bK27k"
      },
      "source": [
        "Frequency Domain"
      ]
    },
    {
      "cell_type": "code",
      "metadata": {
        "id": "ng5d6ZdaK4j7"
      },
      "source": [
        "from keras.utils import to_categorical\n",
        "\n",
        "def stackDFTTrain(nbatch = 2):\n",
        "  count = 0\n",
        "\n",
        "  stackedDFT = np.zeros((1, 23, 256, 3))\n",
        "  stackedLabels = np.zeros((1))\n",
        "  rejected   = []\n",
        "\n",
        "  while True:\n",
        "    for f in edfFilesTrain:\n",
        "      # print(f[54:-4])\n",
        "      if stackedDFT.shape[0] >= nbatch*3600//3 + 1:\n",
        "        print(stackedLabels.shape)\n",
        "        if stackedDFT[1:nbatch*3600//3 + 1,:,:,:].shape == (3600*nbatch//3, 23, 256, 3) and to_categorical(stackedLabels[1:nbatch*3600//3 + 1], num_classes=3).shape == (3600*nbatch//3, 3):\n",
        "          yield (stackedDFT[1:nbatch*3600//3 + 1,:,:,:],\n",
        "                 to_categorical(stackedLabels[1:nbatch*3600//3 + 1], num_classes=3))\n",
        "        stackedDFT = stackedDFT[nbatch*3600//3:,:,:,:]\n",
        "        stackedLabels = stackedLabels[nbatch*3600:]\n",
        "        print('extra', stackedDFT.shape, stackedLabels.shape)\n",
        "\n",
        "      signals, signal_headers, header = highlevel.read_edf(f)\n",
        "      if signals.shape[-1] % 3600 != 0 or signals.shape[0] != 23:\n",
        "        rejected.append(f[54:59])\n",
        "        continue\n",
        "      \n",
        "      # if signals.shape != (23, 921600):\n",
        "      #   rejected.append(f[54:59])\n",
        "      #   continue\n",
        "\n",
        "      count += 1\n",
        "      print(f, signals.shape)\n",
        "      s = int(signals.shape[1]/256)\n",
        "      signals = np.reshape(signals, (23,256,3,s//3))\n",
        "      signals = signals.transpose(3,0,1,2)\n",
        "      stackedDFT = np.concatenate((stackedDFT, np.fft.fft(signals, axis=1)), axis=0)\n",
        "      genLabels = generateLabels(f)\n",
        "      stackedLabels = np.concatenate((stackedLabels, genLabels), axis=-1)\n",
        "    \n",
        "    \n",
        "\n",
        "def stackDFTVal(nbatch = 1):\n",
        "  count = 0\n",
        "\n",
        "  stackedDFT = np.zeros((1, 23, 256, 3))\n",
        "  stackedLabels = np.zeros((1))\n",
        "  rejected   = []\n",
        "  \n",
        "  while True:\n",
        "\n",
        "    for f in edfFilesVal:\n",
        "      # print(f[54:-4])\n",
        "      if stackedDFT.shape[0] >= nbatch*3600//3 + 1:\n",
        "        # stackedDFT = np.reshape(stackedDFT, (1,)+stackedDFT.shape)\n",
        "        # stackedDFT = np.reshape(stackedDFT, (1,23,256,3600\n",
        "        # yield (np.reshape(stackedDFT[1:nbatch*3600//3 + 1,:,:,:], \n",
        "        #                   (1,)+stackedDFT[1:nbatch*3600//3 + 1,:,:,:].shape),\n",
        "        #        to_categorical(stackedLabels[1:nbatch*3600//3 + 1], num_classes=3))\n",
        "        if stackedDFT[1:nbatch*3600//3 + 1,:,:,:].shape == (3600*nbatch//3, 23, 256, 3) and to_categorical(stackedLabels[1:nbatch*3600//3 + 1], num_classes=3).shape == (3600*nbatch//3, 3):\n",
        "          yield (stackedDFT[1:nbatch*3600//3 + 1,:,:,:],\n",
        "                 to_categorical(stackedLabels[1:nbatch*3600//3 + 1], num_classes=3))\n",
        "        stackedDFT = stackedDFT[nbatch*3600//3:,:,:,:]\n",
        "        stackedLabels = stackedLabels[nbatch*3600:]\n",
        "\n",
        "      signals, signal_headers, header = highlevel.read_edf(f)\n",
        "      if signals.shape[-1] % 3600 != 0 or signals.shape[0] != 23:\n",
        "        rejected.append(f[54:59])\n",
        "        continue\n",
        "\n",
        "      # if signals.shape != (23, 921600):\n",
        "      #   rejected.append(f[54:59])\n",
        "      #   continue\n",
        "      count += 1\n",
        "      print(f, signals.shape)\n",
        "      s = int(signals.shape[1]/256)\n",
        "      signals = np.reshape(signals, (23,256,3,s//3))\n",
        "      signals = signals.transpose(3,0,1,2)\n",
        "      stackedDFT = np.concatenate((stackedDFT, np.fft.fft(signals, axis=1)), axis=0)\n",
        "      genLabels = generateLabels(f)\n",
        "      stackedLabels = np.concatenate((stackedLabels, genLabels), axis=-1)\n",
        "\n",
        "\n",
        " \n",
        "\n",
        "# for h in stackDFTVal():\n",
        "#   print(len(h), h[0].shape, h[1].shape)\n",
        "#   break"
      ],
      "execution_count": 4,
      "outputs": []
    },
    {
      "cell_type": "code",
      "metadata": {
        "id": "0YVGVgTEDlNc",
        "outputId": "7b75feb7-5a7e-480c-caa6-3e76686abea2",
        "colab": {
          "base_uri": "https://localhost:8080/",
          "height": 416
        }
      },
      "source": [
        "for i in range(73):\n",
        "  for h in stackDFTTrain():\n",
        "    print(len(h), h[0].shape, h[1].shape)"
      ],
      "execution_count": null,
      "outputs": [
        {
          "output_type": "stream",
          "text": [
            "Reading Channels: 100%|██████████| 23/23 [00:01<00:00, 18.66it/s]\n"
          ],
          "name": "stderr"
        },
        {
          "output_type": "stream",
          "text": [
            "/content/DESTINATION/chbmit-1.0.0.physionet.org/chb05/chb05_10.edf (23, 921600)\n"
          ],
          "name": "stdout"
        },
        {
          "output_type": "stream",
          "text": [
            "Reading Channels: 100%|██████████| 23/23 [00:01<00:00, 18.83it/s]\n"
          ],
          "name": "stderr"
        },
        {
          "output_type": "stream",
          "text": [
            "/content/DESTINATION/chbmit-1.0.0.physionet.org/chb05/chb05_31.edf (23, 921600)\n"
          ],
          "name": "stdout"
        },
        {
          "output_type": "stream",
          "text": [
            "\rReading Channels:   0%|          | 0/24 [00:00<?, ?it/s]"
          ],
          "name": "stderr"
        },
        {
          "output_type": "stream",
          "text": [
            "(7201,)\n",
            "2 (2400, 23, 256, 3) (2400, 3)\n",
            "extra (1, 23, 256, 3) (1,)\n"
          ],
          "name": "stdout"
        },
        {
          "output_type": "stream",
          "text": [
            "Reading Channels: 100%|██████████| 24/24 [00:05<00:00,  4.76it/s]\n",
            "Reading Channels: 100%|██████████| 23/23 [00:01<00:00, 18.49it/s]\n"
          ],
          "name": "stderr"
        },
        {
          "output_type": "stream",
          "text": [
            "/content/DESTINATION/chbmit-1.0.0.physionet.org/chb08/chb08_10.edf (23, 921600)\n"
          ],
          "name": "stdout"
        },
        {
          "output_type": "stream",
          "text": [
            "Reading Channels: 100%|██████████| 23/23 [00:01<00:00, 18.60it/s]\n"
          ],
          "name": "stderr"
        },
        {
          "output_type": "stream",
          "text": [
            "/content/DESTINATION/chbmit-1.0.0.physionet.org/chb03/chb03_15.edf (23, 921600)\n"
          ],
          "name": "stdout"
        },
        {
          "output_type": "stream",
          "text": [
            "Reading Channels:   9%|▊         | 2/23 [00:00<00:01, 18.55it/s]"
          ],
          "name": "stderr"
        },
        {
          "output_type": "stream",
          "text": [
            "(7201,)\n",
            "2 (2400, 23, 256, 3) (2400, 3)\n",
            "extra (1, 23, 256, 3) (1,)\n"
          ],
          "name": "stdout"
        },
        {
          "output_type": "stream",
          "text": [
            "Reading Channels: 100%|██████████| 23/23 [00:01<00:00, 17.13it/s]\n"
          ],
          "name": "stderr"
        },
        {
          "output_type": "stream",
          "text": [
            "/content/DESTINATION/chbmit-1.0.0.physionet.org/chb01/chb01_17.edf (23, 921600)\n"
          ],
          "name": "stdout"
        },
        {
          "output_type": "stream",
          "text": [
            "Reading Channels: 100%|██████████| 23/23 [00:01<00:00, 19.51it/s]\n"
          ],
          "name": "stderr"
        },
        {
          "output_type": "stream",
          "text": [
            "/content/DESTINATION/chbmit-1.0.0.physionet.org/chb02/chb02_18.edf (23, 921600)\n"
          ],
          "name": "stdout"
        },
        {
          "output_type": "stream",
          "text": [
            "Reading Channels:   9%|▊         | 2/23 [00:00<00:01, 19.13it/s]"
          ],
          "name": "stderr"
        },
        {
          "output_type": "stream",
          "text": [
            "(7201,)\n",
            "2 (2400, 23, 256, 3) (2400, 3)\n",
            "extra (1, 23, 256, 3) (1,)\n"
          ],
          "name": "stdout"
        },
        {
          "output_type": "stream",
          "text": [
            "Reading Channels:  43%|████▎     | 10/23 [00:00<00:00, 18.81it/s]"
          ],
          "name": "stderr"
        }
      ]
    },
    {
      "cell_type": "markdown",
      "metadata": {
        "id": "uQotIf-3Kuso"
      },
      "source": [
        "Time domain"
      ]
    },
    {
      "cell_type": "code",
      "metadata": {
        "id": "bcP28kbiAIPq"
      },
      "source": [
        "from keras.utils import to_categorical\n",
        "\n",
        "def stackTimeTrain(nbatch = 2):\n",
        "  count = 0\n",
        "\n",
        "  stackedDFT = np.zeros((1, 23, 256, 3))\n",
        "  stackedLabels = np.zeros((1))\n",
        "  rejected   = []\n",
        "\n",
        "  while True:\n",
        "    for f in edfFilesTrain:\n",
        "      # print(f[54:-4])\n",
        "      if stackedDFT.shape[0] >= nbatch*3600//3 + 1:\n",
        "        print(stackedLabels.shape)\n",
        "        if stackedDFT[1:nbatch*3600//3 + 1,:,:,:].shape == (3600*nbatch//3, 23, 256, 3) and to_categorical(stackedLabels[1:nbatch*3600//3 + 1], num_classes=3).shape == (3600*nbatch//3, 3):\n",
        "          yield (stackedDFT[1:nbatch*3600//3 + 1,:,:,:],\n",
        "                 to_categorical(stackedLabels[1:nbatch*3600//3 + 1], num_classes=3))\n",
        "        stackedDFT = stackedDFT[nbatch*3600//3:,:,:,:]\n",
        "        stackedLabels = stackedLabels[nbatch*3600:]\n",
        "        print('extra', stackedDFT.shape, stackedLabels.shape)\n",
        "\n",
        "      signals, signal_headers, header = highlevel.read_edf(f)\n",
        "      if signals.shape[-1] % 3600 != 0 or signals.shape[0] != 23:\n",
        "        rejected.append(f[54:59])\n",
        "        continue\n",
        "      \n",
        "      # if signals.shape != (23, 921600):\n",
        "      #   rejected.append(f[54:59])\n",
        "      #   continue\n",
        "\n",
        "      count += 1\n",
        "      print(f, signals.shape)\n",
        "      s = int(signals.shape[1]/256)\n",
        "      signals = np.reshape(signals, (23,256,3,s//3))\n",
        "      signals = signals.transpose(3,0,1,2)\n",
        "      stackedDFT = np.concatenate((stackedDFT, signals), axis=0)\n",
        "      genLabels = generateLabels(f)\n",
        "      stackedLabels = np.concatenate((stackedLabels, genLabels), axis=-1)\n",
        "    \n",
        "    \n",
        "\n",
        "def stackTimeVal(nbatch = 1):\n",
        "  count = 0\n",
        "\n",
        "  stackedDFT = np.zeros((1, 23, 256, 3))\n",
        "  stackedLabels = np.zeros((1))\n",
        "  rejected   = []\n",
        "\n",
        "  while True:\n",
        "    for f in edfFilesTrain:\n",
        "      # print(f[54:-4])\n",
        "      if stackedDFT.shape[0] >= nbatch*3600//3 + 1:\n",
        "        print(stackedLabels.shape)\n",
        "        if stackedDFT[1:nbatch*3600//3 + 1,:,:,:].shape == (3600*nbatch//3, 23, 256, 3) and to_categorical(stackedLabels[1:nbatch*3600//3 + 1], num_classes=3).shape == (3600*nbatch//3, 3):\n",
        "          yield (stackedDFT[1:nbatch*3600//3 + 1,:,:,:],\n",
        "                 to_categorical(stackedLabels[1:nbatch*3600//3 + 1], num_classes=3))\n",
        "        stackedDFT = stackedDFT[nbatch*3600//3:,:,:,:]\n",
        "        stackedLabels = stackedLabels[nbatch*3600:]\n",
        "        print('extra', stackedDFT.shape, stackedLabels.shape)\n",
        "\n",
        "      signals, signal_headers, header = highlevel.read_edf(f)\n",
        "      if signals.shape[-1] % 3600 != 0 or signals.shape[0] != 23:\n",
        "        rejected.append(f[54:59])\n",
        "        continue\n",
        "      \n",
        "      # if signals.shape != (23, 921600):\n",
        "      #   rejected.append(f[54:59])\n",
        "      #   continue\n",
        "\n",
        "      count += 1\n",
        "      print(f, signals.shape)\n",
        "      s = int(signals.shape[1]/256)\n",
        "      signals = np.reshape(signals, (23,256,3,s//3))\n",
        "      signals = signals.transpose(3,0,1,2)\n",
        "      stackedDFT = np.concatenate((stackedDFT, signals), axis=0)\n",
        "      genLabels = generateLabels(f)\n",
        "      stackedLabels = np.concatenate((stackedLabels, genLabels), axis=-1)"
      ],
      "execution_count": 5,
      "outputs": []
    },
    {
      "cell_type": "markdown",
      "metadata": {
        "id": "vLvdAQ-lHsQQ"
      },
      "source": [
        "### Reading txt files and generating labels"
      ]
    },
    {
      "cell_type": "code",
      "metadata": {
        "id": "CPiGbq4sHwND"
      },
      "source": [
        "# import re\n",
        "# import os\n",
        "# import numpy as np\n",
        "# import matplotlib.pyplot as plt\n",
        "\n",
        "# def generateLabels(edfFileName):\n",
        "#   sub = edfFileName[54:-7]\n",
        "#   filePath = '/content/DESTINATION/chbmit-1.0.0.physionet.org/' + sub + '-summary.txt'\n",
        "#   f = open(file, 'r')\n",
        "#   file_contents = f.read()\n",
        "\n",
        "#   file_list = file_contents.split('\\n')\n",
        "#   sub = edfFileName[54:-4]\n",
        "#   sub = 'File Name: ' + sub + '.edf'\n",
        "#   ind = file_list.index(sub)\n",
        "\n",
        "#   seizures = list(map(int, re.findall(r'\\d+', file_list[ind+3]) ))[0]\n",
        "#   start = []\n",
        "#   end   = []\n",
        "#   for i in range(seizures):\n",
        "#     start.append(list(map(int, re.findall(r'\\d+', file_list[ind+2*i+4])))[0])\n",
        "#     end.append(list(map(int, re.findall(r'\\d+', file_list[ind+2*i+5])))[0])\n",
        "#     print(start, end)\n",
        "\n",
        "#   if seizures == 0:\n",
        "#     labels = np.zeros((23, 921600))\n",
        "#   else:\n",
        "#     labels = np.ones((23, 921600))\n",
        "#     labels[:, end[-1]*256:] *= 0\n",
        "#     for i in range(len(start)):\n",
        "#       labels[:, start[i]*256:end[i]*256] *= 2\n",
        "  \n",
        "#   return labels\n",
        "\n",
        "\n",
        "\n",
        "# def stackLabels(nbatch = 15, rejected = []):\n",
        "#   count = 0\n",
        "\n",
        "#   stackedLabels = np.zeros((23, 921600))\n",
        "\n",
        "#   for f in edfFiles:\n",
        "#     # print(f[54:-4])\n",
        "#     count += 1\n",
        "    \n",
        "#     if f not in rejected:\n",
        "#       stackedLabels = np.dstack((stackedLabels, generateLabels(f)))\n",
        "    \n",
        "#     if count % nbatch == 0:\n",
        "#       yield stackedLabels\n",
        "#       stackedLabels = np.zeros((23, 921600))\n",
        "\n"
      ],
      "execution_count": null,
      "outputs": []
    },
    {
      "cell_type": "code",
      "metadata": {
        "id": "tyYy5-_O3-aB",
        "outputId": "93e88295-dca4-4e74-8336-adb1abe4fcb6",
        "colab": {
          "base_uri": "https://localhost:8080/",
          "height": 35
        }
      },
      "source": [
        "# rejected # Those samples which were of different size\n",
        "i."
      ],
      "execution_count": 5,
      "outputs": [
        {
          "output_type": "execute_result",
          "data": {
            "text/plain": [
              "(23, 921600, 16)"
            ]
          },
          "metadata": {
            "tags": []
          },
          "execution_count": 5
        }
      ]
    },
    {
      "cell_type": "code",
      "metadata": {
        "id": "lIW6kMFuvDcY",
        "outputId": "ec34a71d-11cc-4a06-c143-1c6aa6c98518",
        "colab": {
          "base_uri": "https://localhost:8080/",
          "height": 87
        }
      },
      "source": [
        "print(len(stackedEEG))\n",
        "# for eeg in stackedEEG:\n",
        "#   print(eeg.shape)\n",
        "i = 89\n",
        "print(edfFiles[i])\n",
        "signals, signal_headers, header = highlevel.read_edf(edfFiles[i])\n",
        "print(signals.shape)"
      ],
      "execution_count": 15,
      "outputs": [
        {
          "output_type": "stream",
          "text": [
            "\rReading Channels:   0%|          | 0/23 [00:00<?, ?it/s]"
          ],
          "name": "stderr"
        },
        {
          "output_type": "stream",
          "text": [
            "34\n",
            "/content/DESTINATION/chbmit-1.0.0.physionet.org/chb03/chb03_12.edf\n"
          ],
          "name": "stdout"
        },
        {
          "output_type": "stream",
          "text": [
            "Reading Channels: 100%|██████████| 23/23 [00:04<00:00,  4.94it/s]\n"
          ],
          "name": "stderr"
        },
        {
          "output_type": "stream",
          "text": [
            "(23, 921600)\n"
          ],
          "name": "stdout"
        }
      ]
    },
    {
      "cell_type": "code",
      "metadata": {
        "id": "3IdwxGPJx09D",
        "outputId": "ee07fb2e-ef38-482f-84c5-34fd41600837",
        "colab": {
          "base_uri": "https://localhost:8080/",
          "height": 35
        }
      },
      "source": [
        "921600/(1*60*60)"
      ],
      "execution_count": 18,
      "outputs": [
        {
          "output_type": "execute_result",
          "data": {
            "text/plain": [
              "256.0"
            ]
          },
          "metadata": {
            "tags": []
          },
          "execution_count": 18
        }
      ]
    },
    {
      "cell_type": "markdown",
      "metadata": {
        "id": "9fr-O3J-RAGc"
      },
      "source": [
        "## Callback Class\n",
        "In order to stop the training at a given threshold."
      ]
    },
    {
      "cell_type": "code",
      "metadata": {
        "id": "clPdvxcld3XW"
      },
      "source": [
        "from keras.callbacks import Callback\n",
        "\n",
        "# when accuracy reaches ACCURACY_THRESHOLD\n",
        "ACCURACY_THRESHOLD = 0.95\n",
        "\n",
        "class myCallback(Callback):\n",
        "\tdef on_epoch_end(self, epoch, logs={}):\n",
        "\t\tif(logs.get('acc') > ACCURACY_THRESHOLD):\n",
        "\t\t\tprint(\"\\nReached %2.2f%% accuracy, so stopping training!!\" %(ACCURACY_THRESHOLD*100))\n",
        "\t\t\tself.model.stop_training = True\n",
        "\n",
        "# Instantiate a callback object\n",
        "callbacks = myCallback()"
      ],
      "execution_count": 6,
      "outputs": []
    },
    {
      "cell_type": "markdown",
      "metadata": {
        "id": "OwOnh6gHD2Wg"
      },
      "source": [
        "## Building a CNN for Frequency domain\n"
      ]
    },
    {
      "cell_type": "markdown",
      "metadata": {
        "id": "3kuWlEWcE579"
      },
      "source": [
        "Here we just import some libraries and use them to buid an architecture. "
      ]
    },
    {
      "cell_type": "code",
      "metadata": {
        "id": "cYhHULJ0EHm1",
        "outputId": "666ec5be-c6f9-4307-b174-f6a37cb01387",
        "colab": {
          "base_uri": "https://localhost:8080/",
          "height": 347
        }
      },
      "source": [
        "from keras.models import Model\n",
        "from keras.layers import Input, Dense, Conv2D, MaxPooling2D, Flatten, Dropout, AveragePooling2D\n",
        "from keras.utils import to_categorical\n",
        "\n",
        "nBatch = 2\n",
        "\n",
        "in1 = Input(shape=(23, 256, 3))\n",
        "c1 = Conv2D(16, (5,5), activation='relu')(in1)\n",
        "# m1 = MaxPooling2D()(c1)\n",
        "m1 = AveragePooling2D()(c1)\n",
        "# c2 = Conv2D(128, (5,5), activation='relu')(m1)\n",
        "# # m2 = MaxPooling2D()(c2)\n",
        "# d1 = Dropout(0.7)(c2)\n",
        "# c3 = Conv2D(256, (5,5), activation='relu')(d1)\n",
        "# # m3 = MaxPooling2D()(c3)\n",
        "# d2 = Dropout(0.8)(c3)\n",
        "# # c4 = Conv2D(64, (3,3), activation='relu')(d2)\n",
        "# # m4 = MaxPooling2D()(c4)\n",
        "# fl = Flatten()(d2)\n",
        "# d1 = Dense(64, activation='relu')(fl)\n",
        "# d2 = Dense(16, activation='relu')(d1)\n",
        "# o = Dense(921600*nBatch, activation='softmax')(m1)\n",
        "fl = Flatten()(m1)\n",
        "# d1 = Dense(4, activation='relu')(fl)\n",
        "o = Dense(3, activation='sigmoid')(fl)\n",
        "\n",
        "model = Model(inputs=in1, outputs=o)\n",
        "print(model.summary())"
      ],
      "execution_count": 12,
      "outputs": [
        {
          "output_type": "stream",
          "text": [
            "Model: \"functional_3\"\n",
            "_________________________________________________________________\n",
            "Layer (type)                 Output Shape              Param #   \n",
            "=================================================================\n",
            "input_2 (InputLayer)         [(None, 23, 256, 3)]      0         \n",
            "_________________________________________________________________\n",
            "conv2d_1 (Conv2D)            (None, 19, 252, 16)       1216      \n",
            "_________________________________________________________________\n",
            "average_pooling2d (AveragePo (None, 9, 126, 16)        0         \n",
            "_________________________________________________________________\n",
            "flatten_1 (Flatten)          (None, 18144)             0         \n",
            "_________________________________________________________________\n",
            "dense_1 (Dense)              (None, 3)                 54435     \n",
            "=================================================================\n",
            "Total params: 55,651\n",
            "Trainable params: 55,651\n",
            "Non-trainable params: 0\n",
            "_________________________________________________________________\n",
            "None\n"
          ],
          "name": "stdout"
        }
      ]
    },
    {
      "cell_type": "markdown",
      "metadata": {
        "id": "7yOu7xspFav5"
      },
      "source": [
        "Now after we have constructed our model let's train it. "
      ]
    },
    {
      "cell_type": "code",
      "metadata": {
        "id": "ae6_YvbpFiRj",
        "outputId": "2f68e50e-c7da-42ee-ec22-0fd6d6db8248",
        "colab": {
          "base_uri": "https://localhost:8080/",
          "height": 1000
        }
      },
      "source": [
        "model.compile(optimizer = 'sgd', loss = 'categorical_crossentropy', metrics=['acc'])\n",
        "# stepsTrain = int(len(edfFiles)/nBatch * 11/15)\n",
        "# stepsVal = int(len(edfFiles)/nBatch * 4/15)\n",
        "testSteps = int(trainData/16)\n",
        "valSteps = int(valData/4)\n",
        "history_cnn = model.fit_generator(generator = stackDFTTrain(), \n",
        "                                  steps_per_epoch = testSteps, \n",
        "                                  epochs = 4, \n",
        "                                  validation_data = stackDFTVal(), \n",
        "                                  validation_steps = valSteps)\n",
        "                                  # callbacks=[callbacks])"
      ],
      "execution_count": 13,
      "outputs": [
        {
          "output_type": "stream",
          "text": [
            "Reading Channels: 100%|██████████| 23/23 [00:04<00:00,  4.80it/s]\n"
          ],
          "name": "stderr"
        },
        {
          "output_type": "stream",
          "text": [
            "/content/DESTINATION/chbmit-1.0.0.physionet.org/chb04/chb04_03.edf (23, 3686400)\n",
            "(3601,)\n",
            "Epoch 1/4\n"
          ],
          "name": "stdout"
        },
        {
          "output_type": "stream",
          "text": [
            "Reading Channels:   4%|▍         | 1/23 [00:00<00:02,  8.45it/s]"
          ],
          "name": "stderr"
        },
        {
          "output_type": "stream",
          "text": [
            "extra (2401, 23, 256, 3) (0,)\n"
          ],
          "name": "stdout"
        },
        {
          "output_type": "stream",
          "text": [
            "Reading Channels: 100%|██████████| 23/23 [00:02<00:00,  9.14it/s]\n"
          ],
          "name": "stderr"
        },
        {
          "output_type": "stream",
          "text": [
            "/content/DESTINATION/chbmit-1.0.0.physionet.org/chb01/chb01_30.edf (23, 921600)\n",
            "(3600,)\n",
            "1/6 [====>.........................] - ETA: 0s - loss: 15.9424 - acc: 0.0000e+00"
          ],
          "name": "stdout"
        },
        {
          "output_type": "stream",
          "text": [
            "\rReading Channels:   0%|          | 0/23 [00:00<?, ?it/s]"
          ],
          "name": "stderr"
        },
        {
          "output_type": "stream",
          "text": [
            "extra (1201, 23, 256, 3) (0,)\n"
          ],
          "name": "stdout"
        },
        {
          "output_type": "stream",
          "text": [
            "Reading Channels: 100%|██████████| 23/23 [00:02<00:00,  7.92it/s]\n"
          ],
          "name": "stderr"
        },
        {
          "output_type": "stream",
          "text": [
            "/content/DESTINATION/chbmit-1.0.0.physionet.org/chb02/chb02_03.edf (23, 921600)\n",
            "(3600,)\n",
            "2/6 [=========>....................] - ETA: 16s - loss: 8.5172 - acc: 0.5000    "
          ],
          "name": "stdout"
        },
        {
          "output_type": "stream",
          "text": [
            "\rReading Channels:   0%|          | 0/24 [00:00<?, ?it/s]"
          ],
          "name": "stderr"
        },
        {
          "output_type": "stream",
          "text": [
            "extra (1, 23, 256, 3) (0,)\n"
          ],
          "name": "stdout"
        },
        {
          "output_type": "stream",
          "text": [
            "Reading Channels: 100%|██████████| 24/24 [00:09<00:00,  2.58it/s]\n",
            "Reading Channels:   9%|▊         | 2/23 [00:01<00:18,  1.16it/s]"
          ],
          "name": "stderr"
        },
        {
          "output_type": "stream",
          "text": [
            "\b\b\b\b\b\b\b\b\b\b\b\b\b\b\b\b\b\b\b\b\b\b\b\b\b\b\b\b\b\b\b\b\b\b\b\b\b\b\b\b\b\b\b\b\b\b\b\b\b\b\b\b\b\b\b\b\b\b\b\b\b\b\b\b\b\b\b\b\b\b\b\b\b\b\b\b"
          ],
          "name": "stdout"
        },
        {
          "output_type": "stream",
          "text": [
            "\rReading Channels:  13%|█▎        | 3/23 [00:01<00:13,  1.48it/s]"
          ],
          "name": "stderr"
        },
        {
          "output_type": "stream",
          "text": [
            "\r3/6 [==============>...............] - ETA: 19s - loss: 5.9231 - acc: 0.6667"
          ],
          "name": "stdout"
        },
        {
          "output_type": "stream",
          "text": [
            "Reading Channels: 100%|██████████| 23/23 [00:04<00:00,  5.22it/s]\n"
          ],
          "name": "stderr"
        },
        {
          "output_type": "stream",
          "text": [
            "/content/DESTINATION/chbmit-1.0.0.physionet.org/chb02/chb02_15.edf (23, 921600)\n"
          ],
          "name": "stdout"
        },
        {
          "output_type": "stream",
          "text": [
            "Reading Channels: 100%|██████████| 23/23 [00:04<00:00,  5.27it/s]\n"
          ],
          "name": "stderr"
        },
        {
          "output_type": "stream",
          "text": [
            "/content/DESTINATION/chbmit-1.0.0.physionet.org/chb02/chb02_32.edf (23, 921600)\n"
          ],
          "name": "stdout"
        },
        {
          "output_type": "stream",
          "text": [
            "\rReading Channels:   0%|          | 0/23 [00:00<?, ?it/s]"
          ],
          "name": "stderr"
        },
        {
          "output_type": "stream",
          "text": [
            "(7200,)\n",
            "extra (1, 23, 256, 3) (0,)\n"
          ],
          "name": "stdout"
        },
        {
          "output_type": "stream",
          "text": [
            "Reading Channels: 100%|██████████| 23/23 [00:04<00:00,  4.84it/s]\n"
          ],
          "name": "stderr"
        },
        {
          "output_type": "stream",
          "text": [
            "/content/DESTINATION/chbmit-1.0.0.physionet.org/chb02/chb02_26.edf (23, 921600)\n"
          ],
          "name": "stdout"
        },
        {
          "output_type": "stream",
          "text": [
            "\rReading Channels:   0%|          | 0/23 [00:00<?, ?it/s]"
          ],
          "name": "stderr"
        },
        {
          "output_type": "stream",
          "text": [
            "\b\b\b\b\b\b\b\b\b\b\b\b\b\b\b\b\b\b\b\b\b\b\b\b\b\b\b\b\b\b\b\b\b\b\b\b\b\b\b\b\b\b\b\b\b\b\b\b\b\b\b\b\b\b\b\b\b\b\b\b\b\b\b\b\b\b\b\b\b\b\b\b\b\b\b\b\r4/6 [===================>..........] - ETA: 19s - loss: 4.4423 - acc: 0.7500"
          ],
          "name": "stdout"
        },
        {
          "output_type": "stream",
          "text": [
            "Reading Channels: 100%|██████████| 23/23 [00:05<00:00,  4.42it/s]\n"
          ],
          "name": "stderr"
        },
        {
          "output_type": "stream",
          "text": [
            "/content/DESTINATION/chbmit-1.0.0.physionet.org/chb01/chb01_04.edf (23, 921600)\n"
          ],
          "name": "stdout"
        },
        {
          "output_type": "stream",
          "text": [
            "\rReading Channels:   0%|          | 0/23 [00:00<?, ?it/s]"
          ],
          "name": "stderr"
        },
        {
          "output_type": "stream",
          "text": [
            "(7200,)\n",
            "extra (1, 23, 256, 3) (0,)\n"
          ],
          "name": "stdout"
        },
        {
          "output_type": "stream",
          "text": [
            "Reading Channels: 100%|██████████| 23/23 [00:04<00:00,  4.60it/s]\n"
          ],
          "name": "stderr"
        },
        {
          "output_type": "stream",
          "text": [
            "/content/DESTINATION/chbmit-1.0.0.physionet.org/chb05/chb05_07.edf (23, 921600)\n"
          ],
          "name": "stdout"
        },
        {
          "output_type": "stream",
          "text": [
            "Reading Channels:   4%|▍         | 1/23 [00:01<00:24,  1.13s/it]"
          ],
          "name": "stderr"
        },
        {
          "output_type": "stream",
          "text": [
            "\b\b\b\b\b\b\b\b\b\b\b\b\b\b\b\b\b\b\b\b\b\b\b\b\b\b\b\b\b\b\b\b\b\b\b\b\b\b\b\b\b\b\b\b\b\b\b\b\b\b\b\b\b\b\b\b\b\b\b\b\b\b\b\b\b\b\b\b\b\b\b\b\b\b\b\b\r5/6 [========================>.....] - ETA: 10s - loss: 3.5539 - acc: 0.8000"
          ],
          "name": "stdout"
        },
        {
          "output_type": "stream",
          "text": [
            "Reading Channels: 100%|██████████| 23/23 [00:04<00:00,  4.99it/s]\n"
          ],
          "name": "stderr"
        },
        {
          "output_type": "stream",
          "text": [
            "/content/DESTINATION/chbmit-1.0.0.physionet.org/chb01/chb01_41.edf (23, 921600)\n"
          ],
          "name": "stdout"
        },
        {
          "output_type": "stream",
          "text": [
            "\rReading Channels:   0%|          | 0/23 [00:00<?, ?it/s]"
          ],
          "name": "stderr"
        },
        {
          "output_type": "stream",
          "text": [
            "(7200,)\n",
            "extra (1, 23, 256, 3) (0,)\n"
          ],
          "name": "stdout"
        },
        {
          "output_type": "stream",
          "text": [
            "Reading Channels: 100%|██████████| 23/23 [00:05<00:00,  4.34it/s]\n"
          ],
          "name": "stderr"
        },
        {
          "output_type": "stream",
          "text": [
            "/content/DESTINATION/chbmit-1.0.0.physionet.org/chb03/chb03_10.edf (23, 921600)\n"
          ],
          "name": "stdout"
        },
        {
          "output_type": "stream",
          "text": [
            "Reading Channels:   9%|▊         | 2/23 [00:01<00:17,  1.17it/s]"
          ],
          "name": "stderr"
        },
        {
          "output_type": "stream",
          "text": [
            "\b\b\b\b\b\b\b\b\b\b\b\b\b\b\b\b\b\b\b\b\b\b\b\b\b\b\b\b\b\b\b\b\b\b\b\b\b\b\b\b\b\b\b\b\b\b\b\b\b\b\b\b\b\b\b\b\b\b\b\b\b\b\b\b\b\b\b\b\b\b\b\b\b\b\b\b\r6/6 [==============================] - ETA: 0s - loss: 2.9616 - acc: 0.8333 "
          ],
          "name": "stdout"
        },
        {
          "output_type": "stream",
          "text": [
            "Reading Channels:  17%|█▋        | 4/23 [00:01<00:10,  1.79it/s]\n",
            "Reading Channels:   0%|          | 0/23 [00:00<?, ?it/s]\u001b[A\n",
            "Reading Channels:  22%|██▏       | 5/23 [00:03<00:15,  1.20it/s]\n",
            "Reading Channels:  26%|██▌       | 6/23 [00:03<00:12,  1.32it/s]\n",
            "Reading Channels:  30%|███       | 7/23 [00:04<00:11,  1.42it/s]\n",
            "Reading Channels:  17%|█▋        | 4/23 [00:02<00:16,  1.18it/s]\u001b[A\n",
            "Reading Channels:  39%|███▉      | 9/23 [00:06<00:09,  1.43it/s]\n",
            "Reading Channels:  43%|████▎     | 10/23 [00:06<00:08,  1.51it/s]\n",
            "Reading Channels:  30%|███       | 7/23 [00:04<00:10,  1.50it/s]\u001b[A\n",
            "Reading Channels:  48%|████▊     | 11/23 [00:06<00:06,  1.76it/s]\n",
            "Reading Channels:  57%|█████▋    | 13/23 [00:08<00:05,  1.84it/s]\n",
            "Reading Channels:  70%|██████▉   | 16/23 [00:08<00:02,  3.01it/s]\n",
            "Reading Channels:  48%|████▊     | 11/23 [00:06<00:05,  2.01it/s]\u001b[A\n",
            "Reading Channels:  83%|████████▎ | 19/23 [00:09<00:01,  3.84it/s]\n",
            "Reading Channels:  96%|█████████▌| 22/23 [00:09<00:00,  5.82it/s]\n",
            "Reading Channels:  61%|██████    | 14/23 [00:07<00:03,  2.91it/s]\u001b[A\n",
            "Reading Channels: 100%|██████████| 23/23 [00:09<00:00,  6.51it/s]\n",
            "Reading Channels: 100%|██████████| 23/23 [00:09<00:00,  2.45it/s]\n",
            "Reading Channels: 100%|██████████| 23/23 [00:07<00:00,  2.88it/s]\n"
          ],
          "name": "stderr"
        },
        {
          "output_type": "stream",
          "text": [
            "/content/DESTINATION/chbmit-1.0.0.physionet.org/chb01/chb01_15.edf (23, 921600)\n",
            "/content/DESTINATION/chbmit-1.0.0.physionet.org/chb05/chb05_03.edf (23, 921600)\n"
          ],
          "name": "stdout"
        },
        {
          "output_type": "stream",
          "text": [
            "\rReading Channels:   0%|          | 0/23 [00:00<?, ?it/s]"
          ],
          "name": "stderr"
        },
        {
          "output_type": "stream",
          "text": [
            "(7200,)\n"
          ],
          "name": "stdout"
        },
        {
          "output_type": "stream",
          "text": [
            "Reading Channels: 100%|██████████| 23/23 [00:20<00:00,  1.13it/s]\n"
          ],
          "name": "stderr"
        },
        {
          "output_type": "stream",
          "text": [
            "/content/DESTINATION/chbmit-1.0.0.physionet.org/chb04/chb04_04.edf (23, 3686400)\n"
          ],
          "name": "stdout"
        },
        {
          "output_type": "stream",
          "text": [
            "Reading Channels: 100%|██████████| 24/24 [00:16<00:00,  1.44it/s]\n",
            "Reading Channels: 100%|██████████| 23/23 [00:01<00:00, 21.75it/s]\n",
            "Reading Channels: 100%|██████████| 23/23 [00:04<00:00,  5.23it/s]\n"
          ],
          "name": "stderr"
        },
        {
          "output_type": "stream",
          "text": [
            "/content/DESTINATION/chbmit-1.0.0.physionet.org/chb03/chb03_28.edf (23, 921600)\n"
          ],
          "name": "stdout"
        },
        {
          "output_type": "stream",
          "text": [
            "Reading Channels: 100%|██████████| 23/23 [00:04<00:00,  5.06it/s]\n"
          ],
          "name": "stderr"
        },
        {
          "output_type": "stream",
          "text": [
            "/content/DESTINATION/chbmit-1.0.0.physionet.org/chb02/chb02_16+.edf (23, 921600)\n"
          ],
          "name": "stdout"
        },
        {
          "output_type": "stream",
          "text": [
            "Reading Channels: 100%|██████████| 24/24 [00:15<00:00,  1.51it/s]\n",
            "Reading Channels: 100%|██████████| 23/23 [00:04<00:00,  5.09it/s]\n"
          ],
          "name": "stderr"
        },
        {
          "output_type": "stream",
          "text": [
            "/content/DESTINATION/chbmit-1.0.0.physionet.org/chb03/chb03_36.edf (23, 921600)\n"
          ],
          "name": "stdout"
        },
        {
          "output_type": "stream",
          "text": [
            "Reading Channels: 100%|██████████| 23/23 [00:04<00:00,  5.02it/s]\n"
          ],
          "name": "stderr"
        },
        {
          "output_type": "stream",
          "text": [
            "/content/DESTINATION/chbmit-1.0.0.physionet.org/chb05/chb05_08.edf (23, 921600)\n"
          ],
          "name": "stdout"
        },
        {
          "output_type": "stream",
          "text": [
            "Reading Channels: 100%|██████████| 24/24 [00:06<00:00,  3.95it/s]\n",
            "Reading Channels: 100%|██████████| 24/24 [00:15<00:00,  1.53it/s]\n",
            "Reading Channels: 100%|██████████| 23/23 [00:04<00:00,  5.03it/s]\n"
          ],
          "name": "stderr"
        },
        {
          "output_type": "stream",
          "text": [
            "/content/DESTINATION/chbmit-1.0.0.physionet.org/chb03/chb03_37.edf (23, 921600)\n"
          ],
          "name": "stdout"
        },
        {
          "output_type": "stream",
          "text": [
            "Reading Channels: 100%|██████████| 24/24 [00:15<00:00,  1.54it/s]\n",
            "Reading Channels: 100%|██████████| 23/23 [00:04<00:00,  4.93it/s]\n"
          ],
          "name": "stderr"
        },
        {
          "output_type": "stream",
          "text": [
            "/content/DESTINATION/chbmit-1.0.0.physionet.org/chb03/chb03_21.edf (23, 921600)\n"
          ],
          "name": "stdout"
        },
        {
          "output_type": "stream",
          "text": [
            "Reading Channels: 100%|██████████| 23/23 [00:04<00:00,  5.19it/s]\n"
          ],
          "name": "stderr"
        },
        {
          "output_type": "stream",
          "text": [
            "/content/DESTINATION/chbmit-1.0.0.physionet.org/chb02/chb02_31.edf (23, 921600)\n"
          ],
          "name": "stdout"
        },
        {
          "output_type": "stream",
          "text": [
            "Reading Channels: 100%|██████████| 24/24 [00:15<00:00,  1.54it/s]\n",
            "Reading Channels: 100%|██████████| 23/23 [00:04<00:00,  5.05it/s]\n"
          ],
          "name": "stderr"
        },
        {
          "output_type": "stream",
          "text": [
            "/content/DESTINATION/chbmit-1.0.0.physionet.org/chb01/chb01_11.edf (23, 921600)\n"
          ],
          "name": "stdout"
        },
        {
          "output_type": "stream",
          "text": [
            "Reading Channels: 100%|██████████| 23/23 [00:04<00:00,  5.00it/s]\n"
          ],
          "name": "stderr"
        },
        {
          "output_type": "stream",
          "text": [
            "/content/DESTINATION/chbmit-1.0.0.physionet.org/chb02/chb02_21.edf (23, 921600)\n"
          ],
          "name": "stdout"
        },
        {
          "output_type": "stream",
          "text": [
            "Reading Channels: 100%|██████████| 23/23 [00:04<00:00,  4.75it/s]\n"
          ],
          "name": "stderr"
        },
        {
          "output_type": "stream",
          "text": [
            "/content/DESTINATION/chbmit-1.0.0.physionet.org/chb05/chb05_06.edf (23, 921600)\n"
          ],
          "name": "stdout"
        },
        {
          "output_type": "stream",
          "text": [
            "Reading Channels: 100%|██████████| 23/23 [00:04<00:00,  4.86it/s]\n"
          ],
          "name": "stderr"
        },
        {
          "output_type": "stream",
          "text": [
            "/content/DESTINATION/chbmit-1.0.0.physionet.org/chb03/chb03_07.edf (23, 921600)\n"
          ],
          "name": "stdout"
        },
        {
          "output_type": "stream",
          "text": [
            "Reading Channels: 100%|██████████| 24/24 [00:15<00:00,  1.54it/s]\n",
            "Reading Channels: 100%|██████████| 24/24 [00:15<00:00,  1.54it/s]\n",
            "Reading Channels: 100%|██████████| 23/23 [00:04<00:00,  5.09it/s]\n"
          ],
          "name": "stderr"
        },
        {
          "output_type": "stream",
          "text": [
            "/content/DESTINATION/chbmit-1.0.0.physionet.org/chb02/chb02_24.edf (23, 921600)\n",
            "6/6 [==============================] - 303s 51s/step - loss: 2.9616 - acc: 0.8333 - val_loss: 3.0283 - val_acc: 0.8121\n"
          ],
          "name": "stdout"
        },
        {
          "output_type": "stream",
          "text": [
            "\rReading Channels:   0%|          | 0/23 [00:00<?, ?it/s]"
          ],
          "name": "stderr"
        },
        {
          "output_type": "stream",
          "text": [
            "Epoch 2/4\n",
            "extra (1, 23, 256, 3) (0,)\n"
          ],
          "name": "stdout"
        },
        {
          "output_type": "stream",
          "text": [
            "Reading Channels: 100%|██████████| 23/23 [00:04<00:00,  4.66it/s]\n"
          ],
          "name": "stderr"
        },
        {
          "output_type": "stream",
          "text": [
            "/content/DESTINATION/chbmit-1.0.0.physionet.org/chb02/chb02_27.edf (23, 921600)\n"
          ],
          "name": "stdout"
        },
        {
          "output_type": "stream",
          "text": [
            "Reading Channels:   4%|▍         | 1/24 [00:04<01:45,  4.61s/it]"
          ],
          "name": "stderr"
        },
        {
          "output_type": "stream",
          "text": [
            "\r1/6 [====>.........................] - ETA: 0s - loss: 1.1921e-07 - acc: 1.0000"
          ],
          "name": "stdout"
        },
        {
          "output_type": "stream",
          "text": [
            "Reading Channels: 100%|██████████| 24/24 [00:15<00:00,  1.54it/s]\n",
            "Reading Channels: 100%|██████████| 23/23 [00:03<00:00,  5.90it/s]\n"
          ],
          "name": "stderr"
        },
        {
          "output_type": "stream",
          "text": [
            "/content/DESTINATION/chbmit-1.0.0.physionet.org/chb02/chb02_06.edf (23, 921600)\n"
          ],
          "name": "stdout"
        },
        {
          "output_type": "stream",
          "text": [
            "\rReading Channels:   0%|          | 0/23 [00:00<?, ?it/s]"
          ],
          "name": "stderr"
        },
        {
          "output_type": "stream",
          "text": [
            "(7200,)\n",
            "extra (1, 23, 256, 3) (0,)\n"
          ],
          "name": "stdout"
        },
        {
          "output_type": "stream",
          "text": [
            "Reading Channels: 100%|██████████| 23/23 [00:04<00:00,  4.61it/s]\n"
          ],
          "name": "stderr"
        },
        {
          "output_type": "stream",
          "text": [
            "/content/DESTINATION/chbmit-1.0.0.physionet.org/chb02/chb02_02.edf (23, 921600)\n"
          ],
          "name": "stdout"
        },
        {
          "output_type": "stream",
          "text": [
            "Reading Channels:   4%|▍         | 1/23 [00:01<00:25,  1.14s/it]"
          ],
          "name": "stderr"
        },
        {
          "output_type": "stream",
          "text": [
            "\b\b\b\b\b\b\b\b\b\b\b\b\b\b\b\b\b\b\b\b\b\b\b\b\b\b\b\b\b\b\b\b\b\b\b\b\b\b\b\b\b\b\b\b\b\b\b\b\b\b\b\b\b\b\b\b\b\b\b\b\b\b\b\b\b\b\b\b\b\b\b\b\b\b\b\b\b\b\b\r2/6 [=========>....................] - ETA: 51s - loss: 1.1921e-07 - acc: 1.0000"
          ],
          "name": "stdout"
        },
        {
          "output_type": "stream",
          "text": [
            "Reading Channels: 100%|██████████| 23/23 [00:05<00:00,  4.55it/s]\n"
          ],
          "name": "stderr"
        },
        {
          "output_type": "stream",
          "text": [
            "/content/DESTINATION/chbmit-1.0.0.physionet.org/chb02/chb02_01.edf (23, 921600)\n"
          ],
          "name": "stdout"
        },
        {
          "output_type": "stream",
          "text": [
            "\rReading Channels:   0%|          | 0/23 [00:00<?, ?it/s]"
          ],
          "name": "stderr"
        },
        {
          "output_type": "stream",
          "text": [
            "(7200,)\n",
            "extra (1, 23, 256, 3) (0,)\n"
          ],
          "name": "stdout"
        },
        {
          "output_type": "stream",
          "text": [
            "Reading Channels: 100%|██████████| 23/23 [00:04<00:00,  4.79it/s]\n"
          ],
          "name": "stderr"
        },
        {
          "output_type": "stream",
          "text": [
            "/content/DESTINATION/chbmit-1.0.0.physionet.org/chb02/chb02_22.edf (23, 921600)\n"
          ],
          "name": "stdout"
        },
        {
          "output_type": "stream",
          "text": [
            "Reading Channels:   4%|▍         | 1/23 [00:01<00:24,  1.12s/it]"
          ],
          "name": "stderr"
        },
        {
          "output_type": "stream",
          "text": [
            "\b\b\b\b\b\b\b\b\b\b\b\b\b\b\b\b\b\b\b\b\b\b\b\b\b\b\b\b\b\b\b\b\b\b\b\b\b\b\b\b\b\b\b\b\b\b\b\b\b\b\b\b\b\b\b\b\b\b\b\b\b\b\b\b\b\b\b\b\b\b\b\b\b\b\b\b\b\b\b\b"
          ],
          "name": "stdout"
        },
        {
          "output_type": "stream",
          "text": [
            "\rReading Channels:   9%|▊         | 2/23 [00:01<00:18,  1.16it/s]"
          ],
          "name": "stderr"
        },
        {
          "output_type": "stream",
          "text": [
            "\r3/6 [==============>...............] - ETA: 40s - loss: 1.1921e-07 - acc: 1.0000"
          ],
          "name": "stdout"
        },
        {
          "output_type": "stream",
          "text": [
            "Reading Channels: 100%|██████████| 23/23 [00:04<00:00,  5.12it/s]\n"
          ],
          "name": "stderr"
        },
        {
          "output_type": "stream",
          "text": [
            "/content/DESTINATION/chbmit-1.0.0.physionet.org/chb01/chb01_42.edf (23, 921600)\n"
          ],
          "name": "stdout"
        },
        {
          "output_type": "stream",
          "text": [
            "\rReading Channels:   0%|          | 0/23 [00:00<?, ?it/s]"
          ],
          "name": "stderr"
        },
        {
          "output_type": "stream",
          "text": [
            "(7200,)\n",
            "extra (1, 23, 256, 3) (0,)\n"
          ],
          "name": "stdout"
        },
        {
          "output_type": "stream",
          "text": [
            "Reading Channels: 100%|██████████| 23/23 [00:05<00:00,  4.59it/s]\n"
          ],
          "name": "stderr"
        },
        {
          "output_type": "stream",
          "text": [
            "/content/DESTINATION/chbmit-1.0.0.physionet.org/chb02/chb02_10.edf (23, 921600)\n"
          ],
          "name": "stdout"
        },
        {
          "output_type": "stream",
          "text": [
            "\rReading Channels:   0%|          | 0/23 [00:00<?, ?it/s]"
          ],
          "name": "stderr"
        },
        {
          "output_type": "stream",
          "text": [
            "\b\b\b\b\b\b\b\b\b\b\b\b\b\b\b\b\b\b\b\b\b\b\b\b\b\b\b\b\b\b\b\b\b\b\b\b\b\b\b\b\b\b\b\b\b\b\b\b\b\b\b\b\b\b\b\b\b\b\b\b\b\b\b\b\b\b\b\b\b\b\b\b\b\b\b\b\b\b\b\b\r4/6 [===================>..........] - ETA: 26s - loss: 1.1921e-07 - acc: 1.0000"
          ],
          "name": "stdout"
        },
        {
          "output_type": "stream",
          "text": [
            "Reading Channels: 100%|██████████| 23/23 [00:04<00:00,  5.22it/s]\n"
          ],
          "name": "stderr"
        },
        {
          "output_type": "stream",
          "text": [
            "/content/DESTINATION/chbmit-1.0.0.physionet.org/chb02/chb02_04.edf (23, 921600)\n"
          ],
          "name": "stdout"
        },
        {
          "output_type": "stream",
          "text": [
            "\rReading Channels:   0%|          | 0/24 [00:00<?, ?it/s]"
          ],
          "name": "stderr"
        },
        {
          "output_type": "stream",
          "text": [
            "(7200,)\n",
            "extra (1, 23, 256, 3) (0,)\n"
          ],
          "name": "stdout"
        },
        {
          "output_type": "stream",
          "text": [
            "Reading Channels:  12%|█▎        | 3/24 [00:05<00:49,  2.35s/it]"
          ],
          "name": "stderr"
        },
        {
          "output_type": "stream",
          "text": [
            "\b\b\b\b\b\b\b\b\b\b\b\b\b\b\b\b\b\b\b\b\b\b\b\b\b\b\b\b\b\b\b\b\b\b\b\b\b\b\b\b\b\b\b\b\b\b\b\b\b\b\b\b\b\b\b\b\b\b\b\b\b\b\b\b\b\b\b\b\b\b\b\b\b\b\b\b\b\b\b\b\r5/6 [========================>.....] - ETA: 13s - loss: 1.1921e-07 - acc: 1.0000"
          ],
          "name": "stdout"
        },
        {
          "output_type": "stream",
          "text": [
            "Reading Channels: 100%|██████████| 24/24 [00:15<00:00,  1.52it/s]\n",
            "Reading Channels: 100%|██████████| 23/23 [00:04<00:00,  5.09it/s]\n"
          ],
          "name": "stderr"
        },
        {
          "output_type": "stream",
          "text": [
            "/content/DESTINATION/chbmit-1.0.0.physionet.org/chb01/chb01_05.edf (23, 921600)\n"
          ],
          "name": "stdout"
        },
        {
          "output_type": "stream",
          "text": [
            "Reading Channels: 100%|██████████| 23/23 [00:04<00:00,  5.33it/s]\n"
          ],
          "name": "stderr"
        },
        {
          "output_type": "stream",
          "text": [
            "/content/DESTINATION/chbmit-1.0.0.physionet.org/chb03/chb03_27.edf (23, 921600)\n"
          ],
          "name": "stdout"
        },
        {
          "output_type": "stream",
          "text": [
            "\rReading Channels:   0%|          | 0/23 [00:00<?, ?it/s]"
          ],
          "name": "stderr"
        },
        {
          "output_type": "stream",
          "text": [
            "(7200,)\n",
            "extra (1, 23, 256, 3) (0,)\n"
          ],
          "name": "stdout"
        },
        {
          "output_type": "stream",
          "text": [
            "Reading Channels: 100%|██████████| 23/23 [00:05<00:00,  4.55it/s]\n"
          ],
          "name": "stderr"
        },
        {
          "output_type": "stream",
          "text": [
            "/content/DESTINATION/chbmit-1.0.0.physionet.org/chb01/chb01_19.edf (23, 921600)\n"
          ],
          "name": "stdout"
        },
        {
          "output_type": "stream",
          "text": [
            "\rReading Channels:   0%|          | 0/23 [00:00<?, ?it/s]"
          ],
          "name": "stderr"
        },
        {
          "output_type": "stream",
          "text": [
            "\b\b\b\b\b\b\b\b\b\b\b\b\b\b\b\b\b\b\b\b\b\b\b\b\b\b\b\b\b\b\b\b\b\b\b\b\b\b\b\b\b\b\b\b\b\b\b\b\b\b\b\b\b\b\b\b\b\b\b\b\b\b\b\b\b\b\b\b\b\b\b\b\b\b\b\b\b\b\b\b\r6/6 [==============================] - ETA: 0s - loss: 1.1921e-07 - acc: 1.0000 "
          ],
          "name": "stdout"
        },
        {
          "output_type": "stream",
          "text": [
            "Reading Channels:  22%|██▏       | 5/23 [00:02<00:08,  2.19it/s]\n",
            "Reading Channels:  26%|██▌       | 6/23 [00:03<00:06,  2.55it/s]\n",
            "Reading Channels:   4%|▍         | 1/23 [00:01<00:23,  1.07s/it]\u001b[A\n",
            "Reading Channels:  35%|███▍      | 8/23 [00:04<00:09,  1.51it/s]\n",
            "Reading Channels:  13%|█▎        | 3/23 [00:02<00:15,  1.30it/s]\u001b[A\n",
            "Reading Channels:  43%|████▎     | 10/23 [00:05<00:07,  1.73it/s]\n",
            "Reading Channels:  22%|██▏       | 5/23 [00:03<00:11,  1.58it/s]\u001b[A\n",
            "Reading Channels:  48%|████▊     | 11/23 [00:05<00:05,  2.05it/s]\n",
            "Reading Channels:  52%|█████▏    | 12/23 [00:06<00:06,  1.68it/s]\n",
            "Reading Channels:  57%|█████▋    | 13/23 [00:07<00:05,  1.88it/s]\n",
            "Reading Channels:  65%|██████▌   | 15/23 [00:07<00:03,  2.18it/s]\n",
            "Reading Channels:  70%|██████▉   | 16/23 [00:07<00:02,  2.72it/s]\n",
            "Reading Channels:  78%|███████▊  | 18/23 [00:08<00:01,  2.63it/s]\n",
            "Reading Channels:  83%|████████▎ | 19/23 [00:08<00:01,  3.30it/s]\n",
            "Reading Channels:  96%|█████████▌| 22/23 [00:08<00:00,  5.18it/s]\n",
            "Reading Channels:  61%|██████    | 14/23 [00:06<00:02,  3.12it/s]\u001b[A\n",
            "Reading Channels: 100%|██████████| 23/23 [00:08<00:00,  5.84it/s]\n",
            "Reading Channels: 100%|██████████| 23/23 [00:08<00:00,  2.56it/s]\n",
            "Reading Channels: 100%|██████████| 23/23 [00:07<00:00,  3.23it/s]\n"
          ],
          "name": "stderr"
        },
        {
          "output_type": "stream",
          "text": [
            "/content/DESTINATION/chbmit-1.0.0.physionet.org/chb02/chb02_29.edf (23, 921600)\n",
            "/content/DESTINATION/chbmit-1.0.0.physionet.org/chb02/chb02_33.edf (23, 921600)\n",
            "(7200,)\n"
          ],
          "name": "stdout"
        },
        {
          "output_type": "stream",
          "text": [
            "Reading Channels: 100%|██████████| 23/23 [00:05<00:00,  4.37it/s]\n"
          ],
          "name": "stderr"
        },
        {
          "output_type": "stream",
          "text": [
            "/content/DESTINATION/chbmit-1.0.0.physionet.org/chb03/chb03_24.edf (23, 921600)\n"
          ],
          "name": "stdout"
        },
        {
          "output_type": "stream",
          "text": [
            "Reading Channels: 100%|██████████| 23/23 [00:04<00:00,  5.06it/s]\n"
          ],
          "name": "stderr"
        },
        {
          "output_type": "stream",
          "text": [
            "/content/DESTINATION/chbmit-1.0.0.physionet.org/chb03/chb03_05.edf (23, 921600)\n"
          ],
          "name": "stdout"
        },
        {
          "output_type": "stream",
          "text": [
            "Reading Channels: 100%|██████████| 24/24 [00:15<00:00,  1.53it/s]\n",
            "Reading Channels: 100%|██████████| 24/24 [00:08<00:00,  2.95it/s]\n",
            "Reading Channels: 100%|██████████| 23/23 [00:04<00:00,  4.81it/s]\n"
          ],
          "name": "stderr"
        },
        {
          "output_type": "stream",
          "text": [
            "/content/DESTINATION/chbmit-1.0.0.physionet.org/chb02/chb02_30.edf (23, 921600)\n"
          ],
          "name": "stdout"
        },
        {
          "output_type": "stream",
          "text": [
            "Reading Channels: 100%|██████████| 23/23 [00:04<00:00,  4.89it/s]\n"
          ],
          "name": "stderr"
        },
        {
          "output_type": "stream",
          "text": [
            "/content/DESTINATION/chbmit-1.0.0.physionet.org/chb01/chb01_02.edf (23, 921600)\n"
          ],
          "name": "stdout"
        },
        {
          "output_type": "stream",
          "text": [
            "Reading Channels: 100%|██████████| 23/23 [00:04<00:00,  4.68it/s]\n"
          ],
          "name": "stderr"
        },
        {
          "output_type": "stream",
          "text": [
            "/content/DESTINATION/chbmit-1.0.0.physionet.org/chb03/chb03_15.edf (23, 921600)\n"
          ],
          "name": "stdout"
        },
        {
          "output_type": "stream",
          "text": [
            "Reading Channels: 100%|██████████| 23/23 [00:04<00:00,  4.75it/s]\n"
          ],
          "name": "stderr"
        },
        {
          "output_type": "stream",
          "text": [
            "/content/DESTINATION/chbmit-1.0.0.physionet.org/chb05/chb05_05.edf (23, 921600)\n"
          ],
          "name": "stdout"
        },
        {
          "output_type": "stream",
          "text": [
            "Reading Channels: 100%|██████████| 23/23 [00:04<00:00,  4.95it/s]\n"
          ],
          "name": "stderr"
        },
        {
          "output_type": "stream",
          "text": [
            "/content/DESTINATION/chbmit-1.0.0.physionet.org/chb03/chb03_18.edf (23, 921600)\n"
          ],
          "name": "stdout"
        },
        {
          "output_type": "stream",
          "text": [
            "Reading Channels: 100%|██████████| 24/24 [00:15<00:00,  1.53it/s]\n",
            "Reading Channels: 100%|██████████| 23/23 [00:04<00:00,  4.82it/s]\n"
          ],
          "name": "stderr"
        },
        {
          "output_type": "stream",
          "text": [
            "/content/DESTINATION/chbmit-1.0.0.physionet.org/chb01/chb01_09.edf (23, 921600)\n"
          ],
          "name": "stdout"
        },
        {
          "output_type": "stream",
          "text": [
            "Reading Channels: 100%|██████████| 23/23 [00:04<00:00,  4.85it/s]\n"
          ],
          "name": "stderr"
        },
        {
          "output_type": "stream",
          "text": [
            "/content/DESTINATION/chbmit-1.0.0.physionet.org/chb01/chb01_24.edf (23, 921600)\n"
          ],
          "name": "stdout"
        },
        {
          "output_type": "stream",
          "text": [
            "Reading Channels: 100%|██████████| 23/23 [00:04<00:00,  4.94it/s]\n"
          ],
          "name": "stderr"
        },
        {
          "output_type": "stream",
          "text": [
            "/content/DESTINATION/chbmit-1.0.0.physionet.org/chb01/chb01_01.edf (23, 921600)\n"
          ],
          "name": "stdout"
        },
        {
          "output_type": "stream",
          "text": [
            "Reading Channels: 100%|██████████| 23/23 [00:04<00:00,  5.10it/s]\n"
          ],
          "name": "stderr"
        },
        {
          "output_type": "stream",
          "text": [
            "/content/DESTINATION/chbmit-1.0.0.physionet.org/chb02/chb02_11.edf (23, 921600)\n"
          ],
          "name": "stdout"
        },
        {
          "output_type": "stream",
          "text": [
            "Reading Channels: 100%|██████████| 23/23 [00:04<00:00,  4.85it/s]\n"
          ],
          "name": "stderr"
        },
        {
          "output_type": "stream",
          "text": [
            "/content/DESTINATION/chbmit-1.0.0.physionet.org/chb03/chb03_31.edf (23, 921600)\n"
          ],
          "name": "stdout"
        },
        {
          "output_type": "stream",
          "text": [
            "Reading Channels: 100%|██████████| 23/23 [00:04<00:00,  4.86it/s]\n"
          ],
          "name": "stderr"
        },
        {
          "output_type": "stream",
          "text": [
            "/content/DESTINATION/chbmit-1.0.0.physionet.org/chb03/chb03_34.edf (23, 921600)\n",
            "6/6 [==============================] - 231s 38s/step - loss: 1.1921e-07 - acc: 1.0000 - val_loss: 1.1921e-07 - val_acc: 1.0000\n"
          ],
          "name": "stdout"
        },
        {
          "output_type": "stream",
          "text": [
            "\rReading Channels:   0%|          | 0/23 [00:00<?, ?it/s]"
          ],
          "name": "stderr"
        },
        {
          "output_type": "stream",
          "text": [
            "Epoch 3/4\n",
            "extra (1, 23, 256, 3) (0,)\n"
          ],
          "name": "stdout"
        },
        {
          "output_type": "stream",
          "text": [
            "Reading Channels: 100%|██████████| 23/23 [00:05<00:00,  4.44it/s]\n"
          ],
          "name": "stderr"
        },
        {
          "output_type": "stream",
          "text": [
            "/content/DESTINATION/chbmit-1.0.0.physionet.org/chb03/chb03_08.edf (23, 921600)\n"
          ],
          "name": "stdout"
        },
        {
          "output_type": "stream",
          "text": [
            "Reading Channels:   4%|▍         | 1/23 [00:00<00:16,  1.34it/s]"
          ],
          "name": "stderr"
        },
        {
          "output_type": "stream",
          "text": [
            "\r1/6 [====>.........................] - ETA: 0s - loss: 1.1921e-07 - acc: 1.0000"
          ],
          "name": "stdout"
        },
        {
          "output_type": "stream",
          "text": [
            "Reading Channels: 100%|██████████| 23/23 [00:03<00:00,  7.59it/s]\n",
            "Reading Channels: 100%|██████████| 23/23 [00:04<00:00,  4.87it/s]\n"
          ],
          "name": "stderr"
        },
        {
          "output_type": "stream",
          "text": [
            "/content/DESTINATION/chbmit-1.0.0.physionet.org/chb01/chb01_31.edf (23, 921600)\n"
          ],
          "name": "stdout"
        },
        {
          "output_type": "stream",
          "text": [
            "\rReading Channels:   0%|          | 0/23 [00:00<?, ?it/s]"
          ],
          "name": "stderr"
        },
        {
          "output_type": "stream",
          "text": [
            "(7200,)\n",
            "extra (1, 23, 256, 3) (0,)\n"
          ],
          "name": "stdout"
        },
        {
          "output_type": "stream",
          "text": [
            "Reading Channels: 100%|██████████| 23/23 [00:05<00:00,  4.19it/s]\n"
          ],
          "name": "stderr"
        },
        {
          "output_type": "stream",
          "text": [
            "/content/DESTINATION/chbmit-1.0.0.physionet.org/chb01/chb01_08.edf (23, 921600)\n"
          ],
          "name": "stdout"
        },
        {
          "output_type": "stream",
          "text": [
            "Reading Channels:   4%|▍         | 1/23 [00:01<00:25,  1.14s/it]"
          ],
          "name": "stderr"
        },
        {
          "output_type": "stream",
          "text": [
            "\b\b\b\b\b\b\b\b\b\b\b\b\b\b\b\b\b\b\b\b\b\b\b\b\b\b\b\b\b\b\b\b\b\b\b\b\b\b\b\b\b\b\b\b\b\b\b\b\b\b\b\b\b\b\b\b\b\b\b\b\b\b\b\b\b\b\b\b\b\b\b\b\b\b\b\b\b\b\b\r2/6 [=========>....................] - ETA: 38s - loss: 1.1921e-07 - acc: 1.0000"
          ],
          "name": "stdout"
        },
        {
          "output_type": "stream",
          "text": [
            "Reading Channels: 100%|██████████| 23/23 [00:04<00:00,  4.75it/s]\n"
          ],
          "name": "stderr"
        },
        {
          "output_type": "stream",
          "text": [
            "/content/DESTINATION/chbmit-1.0.0.physionet.org/chb01/chb01_21.edf (23, 921600)\n"
          ],
          "name": "stdout"
        },
        {
          "output_type": "stream",
          "text": [
            "\rReading Channels:   0%|          | 0/23 [00:00<?, ?it/s]"
          ],
          "name": "stderr"
        },
        {
          "output_type": "stream",
          "text": [
            "(7200,)\n",
            "extra (1, 23, 256, 3) (0,)\n"
          ],
          "name": "stdout"
        },
        {
          "output_type": "stream",
          "text": [
            "Reading Channels: 100%|██████████| 23/23 [00:05<00:00,  4.39it/s]\n"
          ],
          "name": "stderr"
        },
        {
          "output_type": "stream",
          "text": [
            "/content/DESTINATION/chbmit-1.0.0.physionet.org/chb02/chb02_35.edf (23, 921600)\n"
          ],
          "name": "stdout"
        },
        {
          "output_type": "stream",
          "text": [
            "Reading Channels:   4%|▍         | 1/23 [00:01<00:24,  1.13s/it]"
          ],
          "name": "stderr"
        },
        {
          "output_type": "stream",
          "text": [
            "\b\b\b\b\b\b\b\b\b\b\b\b\b\b\b\b\b\b\b\b\b\b\b\b\b\b\b\b\b\b\b\b\b\b\b\b\b\b\b\b\b\b\b\b\b\b\b\b\b\b\b\b\b\b\b\b\b\b\b\b\b\b\b\b\b\b\b\b\b\b\b\b\b\b\b\b\b\b\b\b\r3/6 [==============>...............] - ETA: 33s - loss: 1.1921e-07 - acc: 1.0000"
          ],
          "name": "stdout"
        },
        {
          "output_type": "stream",
          "text": [
            "Reading Channels: 100%|██████████| 23/23 [00:04<00:00,  4.84it/s]\n"
          ],
          "name": "stderr"
        },
        {
          "output_type": "stream",
          "text": [
            "/content/DESTINATION/chbmit-1.0.0.physionet.org/chb01/chb01_13.edf (23, 921600)\n"
          ],
          "name": "stdout"
        },
        {
          "output_type": "stream",
          "text": [
            "\rReading Channels:   0%|          | 0/23 [00:00<?, ?it/s]"
          ],
          "name": "stderr"
        },
        {
          "output_type": "stream",
          "text": [
            "(7200,)\n",
            "extra (1, 23, 256, 3) (0,)\n"
          ],
          "name": "stdout"
        },
        {
          "output_type": "stream",
          "text": [
            "Reading Channels: 100%|██████████| 23/23 [00:07<00:00,  3.27it/s]\n"
          ],
          "name": "stderr"
        },
        {
          "output_type": "stream",
          "text": [
            "/content/DESTINATION/chbmit-1.0.0.physionet.org/chb02/chb02_25.edf (23, 921600)\n"
          ],
          "name": "stdout"
        },
        {
          "output_type": "stream",
          "text": [
            "\rReading Channels:   0%|          | 0/24 [00:00<?, ?it/s]"
          ],
          "name": "stderr"
        },
        {
          "output_type": "stream",
          "text": [
            "\b\b\b\b\b\b\b\b\b\b\b\b\b\b\b\b\b\b\b\b\b\b\b\b\b\b\b\b\b\b\b\b\b\b\b\b\b\b\b\b\b\b\b\b\b\b\b\b\b\b\b\b\b\b\b\b\b\b\b\b\b\b\b\b\b\b\b\b\b\b\b\b\b\b\b\b\b\b\b\b\r4/6 [===================>..........] - ETA: 28s - loss: 1.1921e-07 - acc: 1.0000"
          ],
          "name": "stdout"
        },
        {
          "output_type": "stream",
          "text": [
            "Reading Channels: 100%|██████████| 24/24 [00:15<00:00,  1.50it/s]\n",
            "Reading Channels: 100%|██████████| 23/23 [00:04<00:00,  4.98it/s]\n"
          ],
          "name": "stderr"
        },
        {
          "output_type": "stream",
          "text": [
            "/content/DESTINATION/chbmit-1.0.0.physionet.org/chb01/chb01_06.edf (23, 921600)\n"
          ],
          "name": "stdout"
        },
        {
          "output_type": "stream",
          "text": [
            "\rReading Channels:   0%|          | 0/23 [00:00<?, ?it/s]"
          ],
          "name": "stderr"
        },
        {
          "output_type": "stream",
          "text": [
            "(7200,)\n",
            "extra (1, 23, 256, 3) (0,)\n"
          ],
          "name": "stdout"
        },
        {
          "output_type": "stream",
          "text": [
            "Reading Channels: 100%|██████████| 23/23 [00:05<00:00,  4.43it/s]\n"
          ],
          "name": "stderr"
        },
        {
          "output_type": "stream",
          "text": [
            "/content/DESTINATION/chbmit-1.0.0.physionet.org/chb03/chb03_32.edf (23, 921600)\n"
          ],
          "name": "stdout"
        },
        {
          "output_type": "stream",
          "text": [
            "Reading Channels:   4%|▍         | 1/23 [00:01<00:24,  1.11s/it]"
          ],
          "name": "stderr"
        },
        {
          "output_type": "stream",
          "text": [
            "\b\b\b\b\b\b\b\b\b\b\b\b\b\b\b\b\b\b\b\b\b\b\b\b\b\b\b\b\b\b\b\b\b\b\b\b\b\b\b\b\b\b\b\b\b\b\b\b\b\b\b\b\b\b\b\b\b\b\b\b\b\b\b\b\b\b\b\b\b\b\b\b\b\b\b\b\b\b\b\b\r5/6 [========================>.....] - ETA: 16s - loss: 1.1921e-07 - acc: 1.0000"
          ],
          "name": "stdout"
        },
        {
          "output_type": "stream",
          "text": [
            "Reading Channels: 100%|██████████| 23/23 [00:04<00:00,  4.86it/s]\n"
          ],
          "name": "stderr"
        },
        {
          "output_type": "stream",
          "text": [
            "/content/DESTINATION/chbmit-1.0.0.physionet.org/chb05/chb05_02.edf (23, 921600)\n"
          ],
          "name": "stdout"
        },
        {
          "output_type": "stream",
          "text": [
            "\rReading Channels:   0%|          | 0/24 [00:00<?, ?it/s]"
          ],
          "name": "stderr"
        },
        {
          "output_type": "stream",
          "text": [
            "(7200,)\n",
            "extra (1, 23, 256, 3) (0,)\n"
          ],
          "name": "stdout"
        },
        {
          "output_type": "stream",
          "text": [
            "Reading Channels:  12%|█▎        | 3/24 [00:05<00:50,  2.42s/it]"
          ],
          "name": "stderr"
        },
        {
          "output_type": "stream",
          "text": [
            "\b\b\b\b\b\b\b\b\b\b\b\b\b\b\b\b\b\b\b\b\b\b\b\b\b\b\b\b\b\b\b\b\b\b\b\b\b\b\b\b\b\b\b\b\b\b\b\b\b\b\b\b\b\b\b\b\b\b\b\b\b\b\b\b\b\b\b\b\b\b\b\b\b\b\b\b\b\b\b\b\r6/6 [==============================] - ETA: 0s - loss: 1.1921e-07 - acc: 1.0000 "
          ],
          "name": "stdout"
        },
        {
          "output_type": "stream",
          "text": [
            "Reading Channels:  25%|██▌       | 6/24 [00:10<00:28,  1.59s/it]\n",
            "Reading Channels:  29%|██▉       | 7/24 [00:10<00:20,  1.19s/it]\n",
            "Reading Channels:   4%|▍         | 1/23 [00:01<00:25,  1.17s/it]\u001b[A\n",
            "Reading Channels:  33%|███▎      | 8/24 [00:12<00:21,  1.32s/it]\n",
            "Reading Channels:  38%|███▊      | 9/24 [00:12<00:16,  1.07s/it]\n",
            "Reading Channels:  46%|████▌     | 11/24 [00:13<00:10,  1.29it/s]\n",
            "Reading Channels:  22%|██▏       | 5/23 [00:03<00:11,  1.54it/s]\u001b[A\n",
            "Reading Channels:  50%|█████     | 12/24 [00:16<00:15,  1.28s/it]\n",
            "Reading Channels:  54%|█████▍    | 13/24 [00:16<00:12,  1.13s/it]\n",
            "Reading Channels:  35%|███▍      | 8/23 [00:06<00:11,  1.26it/s]\u001b[A\n",
            "Reading Channels:  58%|█████▊    | 14/24 [00:17<00:09,  1.07it/s]\n",
            "Reading Channels:  62%|██████▎   | 15/24 [00:17<00:07,  1.23it/s]\n",
            "Reading Channels:  71%|███████   | 17/24 [00:18<00:04,  1.48it/s]\n",
            "Reading Channels:  79%|███████▉  | 19/24 [00:19<00:02,  2.21it/s]\n",
            "Reading Channels:  83%|████████▎ | 20/24 [00:19<00:01,  2.61it/s]\n",
            "Reading Channels:  88%|████████▊ | 21/24 [00:19<00:01,  2.85it/s]\n",
            "Reading Channels:  96%|█████████▌| 23/24 [00:20<00:00,  3.02it/s]\n",
            "Reading Channels:  70%|██████▉   | 16/23 [00:09<00:02,  2.36it/s]\u001b[A\n",
            "Reading Channels: 100%|██████████| 24/24 [00:20<00:00,  3.20it/s]\n",
            "Reading Channels: 100%|██████████| 24/24 [00:20<00:00,  1.16it/s]\n",
            "Reading Channels: 100%|██████████| 23/23 [00:10<00:00,  2.17it/s]\n"
          ],
          "name": "stderr"
        },
        {
          "output_type": "stream",
          "text": [
            "/content/DESTINATION/chbmit-1.0.0.physionet.org/chb01/chb01_29.edf (23, 921600)\n"
          ],
          "name": "stdout"
        },
        {
          "output_type": "stream",
          "text": [
            "Reading Channels:  57%|█████▋    | 13/23 [00:04<00:02,  3.69it/s]\n",
            "Reading Channels:  65%|██████▌   | 15/23 [00:04<00:01,  4.83it/s]\n",
            "Reading Channels:  70%|██████▉   | 16/23 [00:05<00:03,  1.96it/s]\n",
            "Reading Channels:  78%|███████▊  | 18/23 [00:06<00:02,  2.44it/s]\n",
            "Reading Channels:  91%|█████████▏| 21/23 [00:06<00:00,  3.31it/s]\n",
            "Reading Channels: 100%|██████████| 23/23 [00:06<00:00,  4.39it/s]\n",
            "Reading Channels: 100%|██████████| 23/23 [00:07<00:00,  3.25it/s]\n",
            "Reading Channels:  87%|████████▋ | 20/23 [00:04<00:00,  8.03it/s]"
          ],
          "name": "stderr"
        },
        {
          "output_type": "stream",
          "text": [
            "/content/DESTINATION/chbmit-1.0.0.physionet.org/chb01/chb01_22.edf (23, 921600)\n"
          ],
          "name": "stdout"
        },
        {
          "output_type": "stream",
          "text": [
            "Reading Channels: 100%|██████████| 23/23 [00:05<00:00,  4.46it/s]\n"
          ],
          "name": "stderr"
        },
        {
          "output_type": "stream",
          "text": [
            "/content/DESTINATION/chbmit-1.0.0.physionet.org/chb02/chb02_19.edf (23, 921600)\n"
          ],
          "name": "stdout"
        },
        {
          "output_type": "stream",
          "text": [
            "Reading Channels:   8%|▊         | 2/24 [00:04<01:12,  3.28s/it]\n",
            "Reading Channels:  17%|█▋        | 4/24 [00:14<01:27,  4.37s/it]\n",
            "Reading Channels:   4%|▍         | 1/24 [00:09<03:27,  9.03s/it]\u001b[A\n",
            "Reading Channels:  25%|██▌       | 6/24 [00:14<00:42,  2.36s/it]\n",
            "Reading Channels:  29%|██▉       | 7/24 [00:15<00:29,  1.72s/it]\n",
            "Reading Channels:  33%|███▎      | 8/24 [00:20<00:42,  2.66s/it]\n",
            "Reading Channels:  38%|███▊      | 9/24 [00:20<00:28,  1.93s/it]\n",
            "Reading Channels:  46%|████▌     | 11/24 [00:21<00:15,  1.17s/it]\n",
            "Reading Channels:  29%|██▉       | 7/24 [00:16<00:32,  1.93s/it]\u001b[A\n",
            "Reading Channels:  50%|█████     | 12/24 [00:23<00:18,  1.55s/it]\n",
            "Reading Channels:  38%|███▊      | 9/24 [00:18<00:22,  1.52s/it]\u001b[A\n",
            "Reading Channels:  54%|█████▍    | 13/24 [00:24<00:14,  1.28s/it]\n",
            "Reading Channels:  62%|██████▎   | 15/24 [00:27<00:13,  1.45s/it]\n",
            "Reading Channels:  50%|█████     | 12/24 [00:22<00:16,  1.40s/it]\u001b[A\n",
            "Reading Channels:  71%|███████   | 17/24 [00:27<00:06,  1.09it/s]\n",
            "Reading Channels:  58%|█████▊    | 14/24 [00:22<00:09,  1.11it/s]\u001b[A\n",
            "Reading Channels:  75%|███████▌  | 18/24 [00:28<00:04,  1.30it/s]\n",
            "Reading Channels:  83%|████████▎ | 20/24 [00:29<00:02,  1.66it/s]\n",
            "Reading Channels:  71%|███████   | 17/24 [00:24<00:04,  1.68it/s]\u001b[A\n",
            "Reading Channels:  88%|████████▊ | 21/24 [00:29<00:01,  1.83it/s]\n",
            "Reading Channels:  96%|█████████▌| 23/24 [00:30<00:00,  2.07it/s]\n",
            "Reading Channels:  83%|████████▎ | 20/24 [00:25<00:01,  2.08it/s]\u001b[A\n",
            "Reading Channels: 100%|██████████| 24/24 [00:30<00:00,  2.17it/s]\n",
            "Reading Channels: 100%|██████████| 24/24 [00:30<00:00,  1.29s/it]\n",
            "Reading Channels: 100%|██████████| 24/24 [00:26<00:00,  1.10s/it]\n",
            "Reading Channels:  96%|█████████▌| 22/23 [00:04<00:00,  9.60it/s]\n",
            "Reading Channels:   0%|          | 0/23 [00:00<?, ?it/s]\u001b[A\n",
            "Reading Channels:   4%|▍         | 1/23 [00:01<00:30,  1.40s/it]\u001b[A\n",
            "Reading Channels: 100%|██████████| 23/23 [00:06<00:00,  3.51it/s]\n",
            "Reading Channels:  78%|███████▊  | 18/23 [00:05<00:00,  6.06it/s]"
          ],
          "name": "stderr"
        },
        {
          "output_type": "stream",
          "text": [
            "/content/DESTINATION/chbmit-1.0.0.physionet.org/chb02/chb02_14.edf (23, 921600)\n"
          ],
          "name": "stdout"
        },
        {
          "output_type": "stream",
          "text": [
            "Reading Channels: 100%|██████████| 23/23 [00:06<00:00,  3.78it/s]\n"
          ],
          "name": "stderr"
        },
        {
          "output_type": "stream",
          "text": [
            "/content/DESTINATION/chbmit-1.0.0.physionet.org/chb03/chb03_35.edf (23, 921600)\n",
            "(7200,)\n"
          ],
          "name": "stdout"
        },
        {
          "output_type": "stream",
          "text": [
            "Reading Channels: 100%|██████████| 23/23 [00:05<00:00,  4.23it/s]\n"
          ],
          "name": "stderr"
        },
        {
          "output_type": "stream",
          "text": [
            "/content/DESTINATION/chbmit-1.0.0.physionet.org/chb01/chb01_18.edf (23, 921600)\n"
          ],
          "name": "stdout"
        },
        {
          "output_type": "stream",
          "text": [
            "Reading Channels: 100%|██████████| 23/23 [00:05<00:00,  4.14it/s]\n"
          ],
          "name": "stderr"
        },
        {
          "output_type": "stream",
          "text": [
            "/content/DESTINATION/chbmit-1.0.0.physionet.org/chb05/chb05_04.edf (23, 921600)\n"
          ],
          "name": "stdout"
        },
        {
          "output_type": "stream",
          "text": [
            "Reading Channels: 100%|██████████| 23/23 [00:20<00:00,  1.13it/s]\n",
            "Reading Channels: 100%|██████████| 23/23 [00:04<00:00,  5.09it/s]\n"
          ],
          "name": "stderr"
        },
        {
          "output_type": "stream",
          "text": [
            "/content/DESTINATION/chbmit-1.0.0.physionet.org/chb01/chb01_16.edf (23, 921600)\n"
          ],
          "name": "stdout"
        },
        {
          "output_type": "stream",
          "text": [
            "Reading Channels: 100%|██████████| 23/23 [00:05<00:00,  4.24it/s]\n"
          ],
          "name": "stderr"
        },
        {
          "output_type": "stream",
          "text": [
            "/content/DESTINATION/chbmit-1.0.0.physionet.org/chb01/chb01_39.edf (23, 921600)\n"
          ],
          "name": "stdout"
        },
        {
          "output_type": "stream",
          "text": [
            "Reading Channels: 100%|██████████| 23/23 [00:05<00:00,  4.19it/s]\n"
          ],
          "name": "stderr"
        },
        {
          "output_type": "stream",
          "text": [
            "/content/DESTINATION/chbmit-1.0.0.physionet.org/chb03/chb03_22.edf (23, 921600)\n"
          ],
          "name": "stdout"
        },
        {
          "output_type": "stream",
          "text": [
            "Reading Channels: 100%|██████████| 23/23 [00:05<00:00,  4.38it/s]\n"
          ],
          "name": "stderr"
        },
        {
          "output_type": "stream",
          "text": [
            "/content/DESTINATION/chbmit-1.0.0.physionet.org/chb03/chb03_19.edf (23, 921600)\n"
          ],
          "name": "stdout"
        },
        {
          "output_type": "stream",
          "text": [
            "Reading Channels: 100%|██████████| 23/23 [00:05<00:00,  4.37it/s]\n"
          ],
          "name": "stderr"
        },
        {
          "output_type": "stream",
          "text": [
            "/content/DESTINATION/chbmit-1.0.0.physionet.org/chb01/chb01_10.edf (23, 921600)\n"
          ],
          "name": "stdout"
        },
        {
          "output_type": "stream",
          "text": [
            "Reading Channels: 100%|██████████| 23/23 [00:05<00:00,  4.04it/s]\n"
          ],
          "name": "stderr"
        },
        {
          "output_type": "stream",
          "text": [
            "/content/DESTINATION/chbmit-1.0.0.physionet.org/chb03/chb03_02.edf (23, 921600)\n"
          ],
          "name": "stdout"
        },
        {
          "output_type": "stream",
          "text": [
            "Reading Channels: 100%|██████████| 24/24 [00:15<00:00,  1.54it/s]\n",
            "Reading Channels: 100%|██████████| 23/23 [00:05<00:00,  3.98it/s]\n"
          ],
          "name": "stderr"
        },
        {
          "output_type": "stream",
          "text": [
            "/content/DESTINATION/chbmit-1.0.0.physionet.org/chb05/chb05_03.edf (23, 921600)\n"
          ],
          "name": "stdout"
        },
        {
          "output_type": "stream",
          "text": [
            "Reading Channels: 100%|██████████| 23/23 [00:23<00:00,  1.03s/it]\n"
          ],
          "name": "stderr"
        },
        {
          "output_type": "stream",
          "text": [
            "/content/DESTINATION/chbmit-1.0.0.physionet.org/chb04/chb04_04.edf (23, 3686400)\n"
          ],
          "name": "stdout"
        },
        {
          "output_type": "stream",
          "text": [
            "Reading Channels: 100%|██████████| 24/24 [00:16<00:00,  1.46it/s]\n",
            "Reading Channels: 100%|██████████| 23/23 [00:01<00:00, 19.04it/s]\n",
            "Reading Channels: 100%|██████████| 23/23 [00:04<00:00,  4.61it/s]\n"
          ],
          "name": "stderr"
        },
        {
          "output_type": "stream",
          "text": [
            "/content/DESTINATION/chbmit-1.0.0.physionet.org/chb03/chb03_28.edf (23, 921600)\n",
            "6/6 [==============================] - 331s 55s/step - loss: 1.1921e-07 - acc: 1.0000 - val_loss: 5.6413 - val_acc: 0.6500\n"
          ],
          "name": "stdout"
        },
        {
          "output_type": "stream",
          "text": [
            "\rReading Channels:   0%|          | 0/23 [00:00<?, ?it/s]"
          ],
          "name": "stderr"
        },
        {
          "output_type": "stream",
          "text": [
            "Epoch 4/4\n",
            "extra (1, 23, 256, 3) (0,)\n"
          ],
          "name": "stdout"
        },
        {
          "output_type": "stream",
          "text": [
            "Reading Channels: 100%|██████████| 23/23 [00:05<00:00,  4.11it/s]\n"
          ],
          "name": "stderr"
        },
        {
          "output_type": "stream",
          "text": [
            "/content/DESTINATION/chbmit-1.0.0.physionet.org/chb01/chb01_38.edf (23, 921600)\n"
          ],
          "name": "stdout"
        },
        {
          "output_type": "stream",
          "text": [
            "\rReading Channels:   0%|          | 0/23 [00:00<?, ?it/s]"
          ],
          "name": "stderr"
        },
        {
          "output_type": "stream",
          "text": [
            "\r1/6 [====>.........................] - ETA: 0s - loss: 1.1921e-07 - acc: 1.0000"
          ],
          "name": "stdout"
        },
        {
          "output_type": "stream",
          "text": [
            "Reading Channels: 100%|██████████| 23/23 [00:24<00:00,  1.05s/it]\n"
          ],
          "name": "stderr"
        },
        {
          "output_type": "stream",
          "text": [
            "/content/DESTINATION/chbmit-1.0.0.physionet.org/chb04/chb04_02.edf (23, 3686400)\n",
            "(7200,)\n",
            "extra (3601, 23, 256, 3) (0,)\n"
          ],
          "name": "stdout"
        },
        {
          "output_type": "stream",
          "text": [
            "Reading Channels: 100%|██████████| 24/24 [00:06<00:00,  3.66it/s]\n",
            "Reading Channels:   0%|          | 0/23 [00:00<?, ?it/s]"
          ],
          "name": "stderr"
        },
        {
          "output_type": "stream",
          "text": [
            "(0,)\n",
            "extra (1201, 23, 256, 3) (0,)\n"
          ],
          "name": "stdout"
        },
        {
          "output_type": "stream",
          "text": [
            "Reading Channels:  17%|█▋        | 4/23 [00:02<00:12,  1.53it/s]"
          ],
          "name": "stderr"
        },
        {
          "output_type": "stream",
          "text": [
            "\b\b\b\b\b\b\b\b\b\b\b\b\b\b\b\b\b\b\b\b\b\b\b\b\b\b\b\b\b\b\b\b\b\b\b\b\b\b\b\b\b\b\b\b\b\b\b\b\b\b\b\b\b\b\b\b\b\b\b\b\b\b\b\b\b\b\b\b\b\b\b\b\b\b\b\b\b\b\b\r2/6 [=========>....................] - ETA: 1:17 - loss: 1.1921e-07 - acc: 1.0000"
          ],
          "name": "stdout"
        },
        {
          "output_type": "stream",
          "text": [
            "Reading Channels: 100%|██████████| 23/23 [00:05<00:00,  3.99it/s]\n"
          ],
          "name": "stderr"
        },
        {
          "output_type": "stream",
          "text": [
            "/content/DESTINATION/chbmit-1.0.0.physionet.org/chb02/chb02_12.edf (23, 921600)\n"
          ],
          "name": "stdout"
        },
        {
          "output_type": "stream",
          "text": [
            "\rReading Channels:   0%|          | 0/23 [00:00<?, ?it/s]"
          ],
          "name": "stderr"
        },
        {
          "output_type": "stream",
          "text": [
            "(3600,)\n",
            "extra (1, 23, 256, 3) (0,)\n"
          ],
          "name": "stdout"
        },
        {
          "output_type": "stream",
          "text": [
            "Reading Channels: 100%|██████████| 23/23 [00:05<00:00,  3.98it/s]\n"
          ],
          "name": "stderr"
        },
        {
          "output_type": "stream",
          "text": [
            "/content/DESTINATION/chbmit-1.0.0.physionet.org/chb01/chb01_43.edf (23, 921600)\n"
          ],
          "name": "stdout"
        },
        {
          "output_type": "stream",
          "text": [
            "\rReading Channels:   0%|          | 0/23 [00:00<?, ?it/s]"
          ],
          "name": "stderr"
        },
        {
          "output_type": "stream",
          "text": [
            "\b\b\b\b\b\b\b\b\b\b\b\b\b\b\b\b\b\b\b\b\b\b\b\b\b\b\b\b\b\b\b\b\b\b\b\b\b\b\b\b\b\b\b\b\b\b\b\b\b\b\b\b\b\b\b\b\b\b\b\b\b\b\b\b\b\b\b\b\b\b\b\b\b\b\b\b\b\b\b\b\b\r3/6 [==============>...............] - ETA: 59s - loss: 1.1921e-07 - acc: 1.0000 "
          ],
          "name": "stdout"
        },
        {
          "output_type": "stream",
          "text": [
            "Reading Channels: 100%|██████████| 23/23 [00:18<00:00,  1.24it/s]\n",
            "Reading Channels: 100%|██████████| 23/23 [00:05<00:00,  4.11it/s]\n"
          ],
          "name": "stderr"
        },
        {
          "output_type": "stream",
          "text": [
            "/content/DESTINATION/chbmit-1.0.0.physionet.org/chb03/chb03_14.edf (23, 921600)\n"
          ],
          "name": "stdout"
        },
        {
          "output_type": "stream",
          "text": [
            "\rReading Channels:   0%|          | 0/23 [00:00<?, ?it/s]"
          ],
          "name": "stderr"
        },
        {
          "output_type": "stream",
          "text": [
            "(7200,)\n",
            "extra (1, 23, 256, 3) (0,)\n"
          ],
          "name": "stdout"
        },
        {
          "output_type": "stream",
          "text": [
            "Reading Channels: 100%|██████████| 23/23 [00:05<00:00,  4.35it/s]\n"
          ],
          "name": "stderr"
        },
        {
          "output_type": "stream",
          "text": [
            "/content/DESTINATION/chbmit-1.0.0.physionet.org/chb03/chb03_03.edf (23, 921600)\n"
          ],
          "name": "stdout"
        },
        {
          "output_type": "stream",
          "text": [
            "Reading Channels:   4%|▍         | 1/23 [00:01<00:26,  1.22s/it]"
          ],
          "name": "stderr"
        },
        {
          "output_type": "stream",
          "text": [
            "\b\b\b\b\b\b\b\b\b\b\b\b\b\b\b\b\b\b\b\b\b\b\b\b\b\b\b\b\b\b\b\b\b\b\b\b\b\b\b\b\b\b\b\b\b\b\b\b\b\b\b\b\b\b\b\b\b\b\b\b\b\b\b\b\b\b\b\b\b\b\b\b\b\b\b\b\b\b\b\b\r4/6 [===================>..........] - ETA: 44s - loss: 1.1921e-07 - acc: 1.0000"
          ],
          "name": "stdout"
        },
        {
          "output_type": "stream",
          "text": [
            "Reading Channels: 100%|██████████| 23/23 [00:04<00:00,  4.70it/s]\n"
          ],
          "name": "stderr"
        },
        {
          "output_type": "stream",
          "text": [
            "/content/DESTINATION/chbmit-1.0.0.physionet.org/chb01/chb01_36.edf (23, 921600)\n"
          ],
          "name": "stdout"
        },
        {
          "output_type": "stream",
          "text": [
            "\rReading Channels:   0%|          | 0/23 [00:00<?, ?it/s]"
          ],
          "name": "stderr"
        },
        {
          "output_type": "stream",
          "text": [
            "(7200,)\n",
            "extra (1, 23, 256, 3) (0,)\n"
          ],
          "name": "stdout"
        },
        {
          "output_type": "stream",
          "text": [
            "Reading Channels: 100%|██████████| 23/23 [00:05<00:00,  4.35it/s]\n"
          ],
          "name": "stderr"
        },
        {
          "output_type": "stream",
          "text": [
            "/content/DESTINATION/chbmit-1.0.0.physionet.org/chb03/chb03_13.edf (23, 921600)\n"
          ],
          "name": "stdout"
        },
        {
          "output_type": "stream",
          "text": [
            "Reading Channels:   4%|▍         | 1/23 [00:01<00:24,  1.12s/it]"
          ],
          "name": "stderr"
        },
        {
          "output_type": "stream",
          "text": [
            "\b\b\b\b\b\b\b\b\b\b\b\b\b\b\b\b\b\b\b\b\b\b\b\b\b\b\b\b\b\b\b\b\b\b\b\b\b\b\b\b\b\b\b\b\b\b\b\b\b\b\b\b\b\b\b\b\b\b\b\b\b\b\b\b\b\b\b\b\b\b\b\b\b\b\b\b\b\b\b\b\r5/6 [========================>.....] - ETA: 20s - loss: 0.6716 - acc: 0.9583    "
          ],
          "name": "stdout"
        },
        {
          "output_type": "stream",
          "text": [
            "Reading Channels: 100%|██████████| 23/23 [00:04<00:00,  5.00it/s]\n"
          ],
          "name": "stderr"
        },
        {
          "output_type": "stream",
          "text": [
            "/content/DESTINATION/chbmit-1.0.0.physionet.org/chb02/chb02_23.edf (23, 921600)\n"
          ],
          "name": "stdout"
        },
        {
          "output_type": "stream",
          "text": [
            "\rReading Channels:   0%|          | 0/24 [00:00<?, ?it/s]"
          ],
          "name": "stderr"
        },
        {
          "output_type": "stream",
          "text": [
            "(7200,)\n",
            "extra (1, 23, 256, 3) (0,)\n"
          ],
          "name": "stdout"
        },
        {
          "output_type": "stream",
          "text": [
            "Reading Channels:  17%|█▋        | 4/24 [00:09<00:59,  2.99s/it]"
          ],
          "name": "stderr"
        },
        {
          "output_type": "stream",
          "text": [
            "\b\b\b\b\b\b\b\b\b\b\b\b\b\b\b\b\b\b\b\b\b\b\b\b\b\b\b\b\b\b\b\b\b\b\b\b\b\b\b\b\b\b\b\b\b\b\b\b\b\b\b\b\b\b\b\b\b\b\b\b\b\b\b\b\b\b\b\b\b\b\b\b\b\b\b\b\r6/6 [==============================] - ETA: 0s - loss: 0.5597 - acc: 0.9653 "
          ],
          "name": "stdout"
        },
        {
          "output_type": "stream",
          "text": [
            "Reading Channels:  21%|██        | 5/24 [00:09<00:40,  2.16s/it]\n",
            "Reading Channels:  25%|██▌       | 6/24 [00:10<00:28,  1.58s/it]\n",
            "Reading Channels:  29%|██▉       | 7/24 [00:11<00:25,  1.51s/it]\n",
            "Reading Channels:  33%|███▎      | 8/24 [00:11<00:19,  1.22s/it]\n",
            "Reading Channels:  38%|███▊      | 9/24 [00:12<00:14,  1.00it/s]\n",
            "Reading Channels:  42%|████▏     | 10/24 [00:12<00:11,  1.20it/s]\n",
            "Reading Channels:  50%|█████     | 12/24 [00:15<00:15,  1.25s/it]\n",
            "Reading Channels:  26%|██▌       | 6/23 [00:05<00:20,  1.22s/it]\u001b[A\n",
            "Reading Channels:  54%|█████▍    | 13/24 [00:16<00:11,  1.02s/it]\n",
            "Reading Channels:  58%|█████▊    | 14/24 [00:16<00:08,  1.16it/s]\n",
            "Reading Channels:  62%|██████▎   | 15/24 [00:17<00:06,  1.34it/s]\n",
            "Reading Channels:  67%|██████▋   | 16/24 [00:17<00:05,  1.50it/s]\n",
            "Reading Channels:  71%|███████   | 17/24 [00:17<00:03,  1.83it/s]\n",
            "Reading Channels:  75%|███████▌  | 18/24 [00:18<00:03,  1.66it/s]\n",
            "Reading Channels:  79%|███████▉  | 19/24 [00:19<00:02,  1.98it/s]\n",
            "Reading Channels:  83%|████████▎ | 20/24 [00:19<00:01,  2.27it/s]\n",
            "Reading Channels:  88%|████████▊ | 21/24 [00:19<00:01,  2.45it/s]\n",
            "Reading Channels:  92%|█████████▏| 22/24 [00:19<00:00,  2.72it/s]\n",
            "Reading Channels:  96%|█████████▌| 23/24 [00:20<00:00,  2.84it/s]\n",
            "Reading Channels: 100%|██████████| 24/24 [00:20<00:00,  2.94it/s]\n",
            "Reading Channels: 100%|██████████| 24/24 [00:20<00:00,  1.17it/s]\n",
            "Reading Channels: 100%|██████████| 23/23 [00:10<00:00,  2.16it/s]\n"
          ],
          "name": "stderr"
        },
        {
          "output_type": "stream",
          "text": [
            "/content/DESTINATION/chbmit-1.0.0.physionet.org/chb02/chb02_16+.edf (23, 921600)\n"
          ],
          "name": "stdout"
        },
        {
          "output_type": "stream",
          "text": [
            "Reading Channels:  91%|█████████▏| 21/23 [00:05<00:00,  8.09it/s]\n",
            "Reading Channels: 100%|██████████| 23/23 [00:05<00:00,  9.52it/s]\n",
            "Reading Channels: 100%|██████████| 23/23 [00:10<00:00,  2.21it/s]\n",
            "Reading Channels:  42%|████▏     | 10/24 [00:11<00:08,  1.73it/s]"
          ],
          "name": "stderr"
        },
        {
          "output_type": "stream",
          "text": [
            "/content/DESTINATION/chbmit-1.0.0.physionet.org/chb03/chb03_12.edf (23, 921600)\n"
          ],
          "name": "stdout"
        },
        {
          "output_type": "stream",
          "text": [
            "Reading Channels:  83%|████████▎ | 20/24 [00:16<00:01,  3.33it/s]\n",
            "Reading Channels:  88%|████████▊ | 21/24 [00:17<00:00,  3.62it/s]\n",
            "Reading Channels:   4%|▍         | 1/23 [00:01<00:25,  1.15s/it]\u001b[A\n",
            "Reading Channels:  96%|█████████▌| 23/24 [00:18<00:00,  1.65it/s]\n",
            "Reading Channels: 100%|██████████| 24/24 [00:18<00:00,  2.05it/s]\n",
            "Reading Channels: 100%|██████████| 24/24 [00:18<00:00,  1.29it/s]\n",
            "Reading Channels: 100%|██████████| 23/23 [00:05<00:00,  4.32it/s]\n",
            "Reading Channels:  13%|█▎        | 3/23 [00:01<00:13,  1.45it/s]"
          ],
          "name": "stderr"
        },
        {
          "output_type": "stream",
          "text": [
            "/content/DESTINATION/chbmit-1.0.0.physionet.org/chb02/chb02_08.edf"
          ],
          "name": "stdout"
        },
        {
          "output_type": "stream",
          "text": [
            "\rReading Channels:  17%|█▋        | 4/23 [00:01<00:10,  1.80it/s]"
          ],
          "name": "stderr"
        },
        {
          "output_type": "stream",
          "text": [
            " (23, 921600)\n"
          ],
          "name": "stdout"
        },
        {
          "output_type": "stream",
          "text": [
            "Reading Channels:  78%|███████▊  | 18/23 [00:04<00:00,  6.75it/s]"
          ],
          "name": "stderr"
        },
        {
          "output_type": "stream",
          "text": [
            "(7200,)\n"
          ],
          "name": "stdout"
        },
        {
          "output_type": "stream",
          "text": [
            "Reading Channels: 100%|██████████| 23/23 [00:04<00:00,  4.85it/s]\n"
          ],
          "name": "stderr"
        },
        {
          "output_type": "stream",
          "text": [
            "/content/DESTINATION/chbmit-1.0.0.physionet.org/chb03/chb03_36.edf (23, 921600)\n"
          ],
          "name": "stdout"
        },
        {
          "output_type": "stream",
          "text": [
            "Reading Channels: 100%|██████████| 23/23 [00:04<00:00,  5.13it/s]\n"
          ],
          "name": "stderr"
        },
        {
          "output_type": "stream",
          "text": [
            "/content/DESTINATION/chbmit-1.0.0.physionet.org/chb05/chb05_08.edf (23, 921600)\n"
          ],
          "name": "stdout"
        },
        {
          "output_type": "stream",
          "text": [
            "Reading Channels: 100%|██████████| 24/24 [00:06<00:00,  3.93it/s]\n",
            "Reading Channels: 100%|██████████| 24/24 [00:15<00:00,  1.54it/s]\n",
            "Reading Channels: 100%|██████████| 23/23 [00:04<00:00,  5.22it/s]\n"
          ],
          "name": "stderr"
        },
        {
          "output_type": "stream",
          "text": [
            "/content/DESTINATION/chbmit-1.0.0.physionet.org/chb03/chb03_37.edf (23, 921600)\n"
          ],
          "name": "stdout"
        },
        {
          "output_type": "stream",
          "text": [
            "Reading Channels: 100%|██████████| 24/24 [00:15<00:00,  1.55it/s]\n",
            "Reading Channels: 100%|██████████| 23/23 [00:04<00:00,  4.96it/s]\n"
          ],
          "name": "stderr"
        },
        {
          "output_type": "stream",
          "text": [
            "/content/DESTINATION/chbmit-1.0.0.physionet.org/chb03/chb03_21.edf (23, 921600)\n"
          ],
          "name": "stdout"
        },
        {
          "output_type": "stream",
          "text": [
            "Reading Channels: 100%|██████████| 23/23 [00:04<00:00,  5.18it/s]\n"
          ],
          "name": "stderr"
        },
        {
          "output_type": "stream",
          "text": [
            "/content/DESTINATION/chbmit-1.0.0.physionet.org/chb02/chb02_31.edf (23, 921600)\n"
          ],
          "name": "stdout"
        },
        {
          "output_type": "stream",
          "text": [
            "Reading Channels: 100%|██████████| 24/24 [00:15<00:00,  1.53it/s]\n",
            "Reading Channels: 100%|██████████| 23/23 [00:04<00:00,  4.88it/s]\n"
          ],
          "name": "stderr"
        },
        {
          "output_type": "stream",
          "text": [
            "/content/DESTINATION/chbmit-1.0.0.physionet.org/chb01/chb01_11.edf (23, 921600)\n"
          ],
          "name": "stdout"
        },
        {
          "output_type": "stream",
          "text": [
            "Reading Channels: 100%|██████████| 23/23 [00:04<00:00,  4.99it/s]\n"
          ],
          "name": "stderr"
        },
        {
          "output_type": "stream",
          "text": [
            "/content/DESTINATION/chbmit-1.0.0.physionet.org/chb02/chb02_21.edf (23, 921600)\n"
          ],
          "name": "stdout"
        },
        {
          "output_type": "stream",
          "text": [
            "Reading Channels: 100%|██████████| 23/23 [00:04<00:00,  4.64it/s]\n"
          ],
          "name": "stderr"
        },
        {
          "output_type": "stream",
          "text": [
            "/content/DESTINATION/chbmit-1.0.0.physionet.org/chb05/chb05_06.edf (23, 921600)\n"
          ],
          "name": "stdout"
        },
        {
          "output_type": "stream",
          "text": [
            "Reading Channels: 100%|██████████| 23/23 [00:04<00:00,  5.09it/s]\n"
          ],
          "name": "stderr"
        },
        {
          "output_type": "stream",
          "text": [
            "/content/DESTINATION/chbmit-1.0.0.physionet.org/chb03/chb03_07.edf (23, 921600)\n"
          ],
          "name": "stdout"
        },
        {
          "output_type": "stream",
          "text": [
            "Reading Channels: 100%|██████████| 24/24 [00:15<00:00,  1.53it/s]\n",
            "Reading Channels: 100%|██████████| 24/24 [00:15<00:00,  1.53it/s]\n",
            "Reading Channels: 100%|██████████| 23/23 [00:04<00:00,  4.97it/s]\n"
          ],
          "name": "stderr"
        },
        {
          "output_type": "stream",
          "text": [
            "/content/DESTINATION/chbmit-1.0.0.physionet.org/chb02/chb02_24.edf (23, 921600)\n"
          ],
          "name": "stdout"
        },
        {
          "output_type": "stream",
          "text": [
            "Reading Channels: 100%|██████████| 23/23 [00:04<00:00,  5.11it/s]\n"
          ],
          "name": "stderr"
        },
        {
          "output_type": "stream",
          "text": [
            "/content/DESTINATION/chbmit-1.0.0.physionet.org/chb02/chb02_33.edf (23, 921600)\n"
          ],
          "name": "stdout"
        },
        {
          "output_type": "stream",
          "text": [
            "Reading Channels: 100%|██████████| 23/23 [00:04<00:00,  4.93it/s]\n"
          ],
          "name": "stderr"
        },
        {
          "output_type": "stream",
          "text": [
            "/content/DESTINATION/chbmit-1.0.0.physionet.org/chb03/chb03_24.edf (23, 921600)\n"
          ],
          "name": "stdout"
        },
        {
          "output_type": "stream",
          "text": [
            "Reading Channels: 100%|██████████| 23/23 [00:04<00:00,  4.98it/s]\n"
          ],
          "name": "stderr"
        },
        {
          "output_type": "stream",
          "text": [
            "/content/DESTINATION/chbmit-1.0.0.physionet.org/chb03/chb03_05.edf (23, 921600)\n",
            "6/6 [==============================] - 325s 54s/step - loss: 0.5597 - acc: 0.9653 - val_loss: 3.0283 - val_acc: 0.8121\n"
          ],
          "name": "stdout"
        }
      ]
    },
    {
      "cell_type": "markdown",
      "metadata": {
        "id": "KapMK5FJEOml"
      },
      "source": [
        "### Results"
      ]
    },
    {
      "cell_type": "code",
      "metadata": {
        "id": "Y6W3Omw4EI2F",
        "outputId": "6fb4fb2f-bf6b-4ecc-97a2-493875537be6",
        "colab": {
          "base_uri": "https://localhost:8080/",
          "height": 573
        }
      },
      "source": [
        "import matplotlib.pyplot as pyplot\n",
        "\n",
        "loss = history_cnn.history['loss']\n",
        "val_loss = history_cnn.history['val_loss']\n",
        "epochs = range(1, len(loss) + 1)\n",
        "pyplot.grid()\n",
        "pyplot.plot(epochs, loss, '*y-', label='Training loss')\n",
        "pyplot.plot(epochs, val_loss, '*r-', label='Validation loss')\n",
        "pyplot.title('Training and validation loss')\n",
        "pyplot.xlabel('Epochs')\n",
        "pyplot.ylabel('Loss')\n",
        "pyplot.legend()\n",
        "pyplot.show()\n",
        "\n",
        "pyplot.grid()\n",
        "acc = history_cnn.history['acc']\n",
        "val_acc = history_cnn.history['val_acc']\n",
        "epochs = range(1, len(loss) + 1)\n",
        "pyplot.plot(epochs, acc, '*y-', label='Training Accuracy')\n",
        "pyplot.plot(epochs, val_acc, '*r-', label='Validation Accuracy')\n",
        "pyplot.title('Training and validation Accuracies')\n",
        "pyplot.xlabel('Epochs')\n",
        "pyplot.ylabel('Loss')\n",
        "pyplot.legend()\n",
        "pyplot.show()"
      ],
      "execution_count": 15,
      "outputs": [
        {
          "output_type": "display_data",
          "data": {
            "image/png": "[encoded data removed]",
            "text/plain": [
              "<Figure size 432x288 with 1 Axes>"
            ]
          },
          "metadata": {
            "tags": [],
            "needs_background": "light"
          }
        },
        {
          "output_type": "display_data",
          "data": {
            "image/png": "[encoded data removed]",
            "text/plain": [
              "<Figure size 432x288 with 1 Axes>"
            ]
          },
          "metadata": {
            "tags": [],
            "needs_background": "light"
          }
        }
      ]
    },
    {
      "cell_type": "code",
      "metadata": {
        "id": "bav6DSIkBCLk",
        "outputId": "568f0d42-d86c-496d-9534-61fadf40ccbc",
        "colab": {
          "base_uri": "https://localhost:8080/",
          "height": 87
        }
      },
      "source": [
        "history_cnn.history"
      ],
      "execution_count": 12,
      "outputs": [
        {
          "output_type": "execute_result",
          "data": {
            "text/plain": [
              "{'acc': [0.9859672784805298],\n",
              " 'loss': [0.15957626700401306],\n",
              " 'val_acc': [0.9030434489250183],\n",
              " 'val_loss': [1.5627541542053223]}"
            ]
          },
          "metadata": {
            "tags": []
          },
          "execution_count": 12
        }
      ]
    },
    {
      "cell_type": "markdown",
      "metadata": {
        "id": "gvGB-qiKrher"
      },
      "source": [
        "## CNN for Time domain\n",
        "\n",
        "Repeating the process for Time domain, with the same parameters and architecture."
      ]
    },
    {
      "cell_type": "code",
      "metadata": {
        "id": "P9-OK7iTr0e9",
        "outputId": "e490b5f8-524d-443c-ec39-39fffda0857b",
        "colab": {
          "base_uri": "https://localhost:8080/",
          "height": 347
        }
      },
      "source": [
        "from keras.models import Model\n",
        "from keras.layers import Input, Dense, Conv2D, MaxPooling2D, Flatten, Dropout, AveragePooling2D\n",
        "from keras.utils import to_categorical\n",
        "\n",
        "nBatch = 2\n",
        "\n",
        "in1 = Input(shape=(23, 256, 3))\n",
        "c1 = Conv2D(16, (5,5), activation='relu')(in1)\n",
        "m1 = MaxPooling2D()(c1)\n",
        "# m1 = AveragePooling2D()(c1)\n",
        "# c2 = Conv2D(128, (5,5), activation='relu')(m1)\n",
        "# # m2 = MaxPooling2D()(c2)\n",
        "# d1 = Dropout(0.7)(c2)\n",
        "# c3 = Conv2D(256, (5,5), activation='relu')(d1)\n",
        "# # m3 = MaxPooling2D()(c3)\n",
        "# d2 = Dropout(0.8)(c3)\n",
        "# # c4 = Conv2D(64, (3,3), activation='relu')(d2)\n",
        "# # m4 = MaxPooling2D()(c4)\n",
        "# fl = Flatten()(d2)\n",
        "# d1 = Dense(64, activation='relu')(fl)\n",
        "# d2 = Dense(16, activation='relu')(d1)\n",
        "# o = Dense(921600*nBatch, activation='softmax')(m1)\n",
        "fl = Flatten()(m1)\n",
        "# d1 = Dense(4, activation='relu')(fl)\n",
        "o = Dense(3, activation='sigmoid')(fl)\n",
        "\n",
        "model2 = Model(inputs=in1, outputs=o)\n",
        "print(model2.summary())"
      ],
      "execution_count": 7,
      "outputs": [
        {
          "output_type": "stream",
          "text": [
            "Model: \"functional_1\"\n",
            "_________________________________________________________________\n",
            "Layer (type)                 Output Shape              Param #   \n",
            "=================================================================\n",
            "input_1 (InputLayer)         [(None, 23, 256, 3)]      0         \n",
            "_________________________________________________________________\n",
            "conv2d (Conv2D)              (None, 19, 252, 16)       1216      \n",
            "_________________________________________________________________\n",
            "max_pooling2d (MaxPooling2D) (None, 9, 126, 16)        0         \n",
            "_________________________________________________________________\n",
            "flatten (Flatten)            (None, 18144)             0         \n",
            "_________________________________________________________________\n",
            "dense (Dense)                (None, 3)                 54435     \n",
            "=================================================================\n",
            "Total params: 55,651\n",
            "Trainable params: 55,651\n",
            "Non-trainable params: 0\n",
            "_________________________________________________________________\n",
            "None\n"
          ],
          "name": "stdout"
        }
      ]
    },
    {
      "cell_type": "code",
      "metadata": {
        "id": "TTWhj-Egr-nc",
        "outputId": "585c2521-4a50-426e-c606-794e539e0bf8",
        "colab": {
          "base_uri": "https://localhost:8080/",
          "height": 1000
        }
      },
      "source": [
        "model2.compile(optimizer = 'sgd', loss = 'categorical_crossentropy', metrics=['acc'])\n",
        "# stepsTrain = int(len(edfFiles)/nBatch * 11/15)\n",
        "# stepsVal = int(len(edfFiles)/nBatch * 4/15)\n",
        "testSteps = int(trainData/16)\n",
        "valSteps = int(valData/4)\n",
        "history_cnn2 = model2.fit_generator(generator = stackTimeTrain(),\n",
        "                                    steps_per_epoch = testSteps, \n",
        "                                    epochs = 4, \n",
        "                                    validation_data = stackTimeVal(), \n",
        "                                    validation_steps = valSteps)\n",
        "                                    # callbacks=[callbacks])"
      ],
      "execution_count": 8,
      "outputs": [
        {
          "output_type": "stream",
          "text": [
            "WARNING:tensorflow:From <ipython-input-8-dcc7704acb50>:10: Model.fit_generator (from tensorflow.python.keras.engine.training) is deprecated and will be removed in a future version.\n",
            "Instructions for updating:\n",
            "Please use Model.fit, which supports generators.\n"
          ],
          "name": "stdout"
        },
        {
          "output_type": "stream",
          "text": [
            "Reading Channels: 100%|██████████| 23/23 [00:38<00:00,  1.67s/it]\n"
          ],
          "name": "stderr"
        },
        {
          "output_type": "stream",
          "text": [
            "/content/DESTINATION/chbmit-1.0.0.physionet.org/chb04/chb04_03.edf (23, 3686400)\n",
            "(3601,)\n",
            "Epoch 1/4\n"
          ],
          "name": "stdout"
        },
        {
          "output_type": "stream",
          "text": [
            "\rReading Channels:   0%|          | 0/23 [00:00<?, ?it/s]"
          ],
          "name": "stderr"
        },
        {
          "output_type": "stream",
          "text": [
            "extra (2401, 23, 256, 3) (0,)\n"
          ],
          "name": "stdout"
        },
        {
          "output_type": "stream",
          "text": [
            "Reading Channels:  43%|████▎     | 10/23 [00:10<00:12,  1.05it/s]"
          ],
          "name": "stderr"
        },
        {
          "output_type": "stream",
          "text": [
            "\r1/6 [====>.........................] - ETA: 0s - loss: 1.6584 - acc: 0.7200"
          ],
          "name": "stdout"
        },
        {
          "output_type": "stream",
          "text": [
            "Reading Channels: 100%|██████████| 23/23 [00:12<00:00,  1.89it/s]\n"
          ],
          "name": "stderr"
        },
        {
          "output_type": "stream",
          "text": [
            "/content/DESTINATION/chbmit-1.0.0.physionet.org/chb01/chb01_30.edf (23, 921600)\n",
            "(3600,)\n"
          ],
          "name": "stdout"
        },
        {
          "output_type": "stream",
          "text": [
            "\rReading Channels:   0%|          | 0/23 [00:00<?, ?it/s]"
          ],
          "name": "stderr"
        },
        {
          "output_type": "stream",
          "text": [
            "extra (1201, 23, 256, 3) (0,)\n"
          ],
          "name": "stdout"
        },
        {
          "output_type": "stream",
          "text": [
            "Reading Channels: 100%|██████████| 23/23 [00:08<00:00,  2.61it/s]\n"
          ],
          "name": "stderr"
        },
        {
          "output_type": "stream",
          "text": [
            "/content/DESTINATION/chbmit-1.0.0.physionet.org/chb02/chb02_03.edf (23, 921600)\n",
            "(3600,)\b\b\b\b\b\b\b\b\b\b\b\b\b\b\b\b\b\b\b\b\b\b\b\b\b\b\b\b\b\b\b\b\b\b\b\b\b\b\b\b\b\b\b\b\b\b\b\b\b\b\b\b\b\b\b\b\b\b\b\b\b\b\b\b\b\b\b\b\b\b\b\b\b\b\b\r2/6 [=========>....................] - ETA: 22s - loss: 0.8292 - acc: 0.8600\n"
          ],
          "name": "stdout"
        },
        {
          "output_type": "stream",
          "text": [
            "\rReading Channels:   0%|          | 0/24 [00:00<?, ?it/s]"
          ],
          "name": "stderr"
        },
        {
          "output_type": "stream",
          "text": [
            "extra (1, 23, 256, 3) (0,)\n"
          ],
          "name": "stdout"
        },
        {
          "output_type": "stream",
          "text": [
            "Reading Channels:  33%|███▎      | 8/24 [00:08<00:13,  1.23it/s]"
          ],
          "name": "stderr"
        },
        {
          "output_type": "stream",
          "text": [
            "\b\b\b\b\b\b\b\b\b\b\b\b\b\b\b\b\b\b\b\b\b\b\b\b\b\b\b\b\b\b\b\b\b\b\b\b\b\b\b\b\b\b\b\b\b\b\b\b\b\b\b\b\b\b\b\b\b\b\b\b\b\b\b\b\b\b\b\b\b\b\b\b\b\b\b\b\r3/6 [==============>...............] - ETA: 21s - loss: 0.5528 - acc: 0.9067"
          ],
          "name": "stdout"
        },
        {
          "output_type": "stream",
          "text": [
            "Reading Channels: 100%|██████████| 24/24 [00:13<00:00,  1.77it/s]\n",
            "Reading Channels: 100%|██████████| 23/23 [00:06<00:00,  3.33it/s]\n",
            "Reading Channels:   0%|          | 0/23 [00:00<?, ?it/s]"
          ],
          "name": "stderr"
        },
        {
          "output_type": "stream",
          "text": [
            "/content/DESTINATION/chbmit-1.0.0.physionet.org/chb02/chb02_15.edf (23, 921600)\n"
          ],
          "name": "stdout"
        },
        {
          "output_type": "stream",
          "text": [
            "Reading Channels: 100%|██████████| 23/23 [00:06<00:00,  3.54it/s]\n"
          ],
          "name": "stderr"
        },
        {
          "output_type": "stream",
          "text": [
            "/content/DESTINATION/chbmit-1.0.0.physionet.org/chb02/chb02_32.edf (23, 921600)\n",
            "(7200,)\n"
          ],
          "name": "stdout"
        },
        {
          "output_type": "stream",
          "text": [
            "\rReading Channels:   0%|          | 0/23 [00:00<?, ?it/s]"
          ],
          "name": "stderr"
        },
        {
          "output_type": "stream",
          "text": [
            "extra (1, 23, 256, 3) (0,)\n"
          ],
          "name": "stdout"
        },
        {
          "output_type": "stream",
          "text": [
            "Reading Channels: 100%|██████████| 23/23 [00:06<00:00,  3.50it/s]\n",
            "Reading Channels:   0%|          | 0/23 [00:00<?, ?it/s]"
          ],
          "name": "stderr"
        },
        {
          "output_type": "stream",
          "text": [
            "/content/DESTINATION/chbmit-1.0.0.physionet.org/chb02/chb02_26.edf (23, 921600)\n"
          ],
          "name": "stdout"
        },
        {
          "output_type": "stream",
          "text": [
            "\rReading Channels:   4%|▍         | 1/23 [00:01<00:40,  1.84s/it]"
          ],
          "name": "stderr"
        },
        {
          "output_type": "stream",
          "text": [
            "\b\b\b\b\b\b\b\b\b\b\b\b\b\b\b\b\b\b\b\b\b\b\b\b\b\b\b\b\b\b\b\b\b\b\b\b\b\b\b\b\b\b\b\b\b\b\b\b\b\b\b\b\b\b\b\b\b\b\b\b\b\b\b\b\b\b\b\b\b\b\b\b\b\b\b\b\r4/6 [===================>..........] - ETA: 24s - loss: 0.4146 - acc: 0.9300"
          ],
          "name": "stdout"
        },
        {
          "output_type": "stream",
          "text": [
            "Reading Channels: 100%|██████████| 23/23 [00:07<00:00,  3.22it/s]\n"
          ],
          "name": "stderr"
        },
        {
          "output_type": "stream",
          "text": [
            "/content/DESTINATION/chbmit-1.0.0.physionet.org/chb01/chb01_04.edf (23, 921600)\n",
            "(7200,)\n"
          ],
          "name": "stdout"
        },
        {
          "output_type": "stream",
          "text": [
            "Reading Channels:   4%|▍         | 1/23 [00:00<00:02,  9.59it/s]"
          ],
          "name": "stderr"
        },
        {
          "output_type": "stream",
          "text": [
            "extra (1, 23, 256, 3) (0,)\n"
          ],
          "name": "stdout"
        },
        {
          "output_type": "stream",
          "text": [
            "Reading Channels: 100%|██████████| 23/23 [00:02<00:00,  8.33it/s]\n",
            "Reading Channels:   0%|          | 0/23 [00:00<?, ?it/s]"
          ],
          "name": "stderr"
        },
        {
          "output_type": "stream",
          "text": [
            "/content/DESTINATION/chbmit-1.0.0.physionet.org/chb05/chb05_07.edf (23, 921600)\n"
          ],
          "name": "stdout"
        },
        {
          "output_type": "stream",
          "text": [
            "Reading Channels: 100%|██████████| 23/23 [00:05<00:00,  3.89it/s]\n"
          ],
          "name": "stderr"
        },
        {
          "output_type": "stream",
          "text": [
            "/content/DESTINATION/chbmit-1.0.0.physionet.org/chb01/chb01_41.edf (23, 921600)\n",
            "(7200,)\n",
            "5/6 [========================>.....] - ETA: 13s - loss: 0.3317 - acc: 0.9440"
          ],
          "name": "stdout"
        },
        {
          "output_type": "stream",
          "text": [
            "\rReading Channels:   0%|          | 0/23 [00:00<?, ?it/s]"
          ],
          "name": "stderr"
        },
        {
          "output_type": "stream",
          "text": [
            "extra (1, 23, 256, 3) (0,)\n"
          ],
          "name": "stdout"
        },
        {
          "output_type": "stream",
          "text": [
            "Reading Channels: 100%|██████████| 23/23 [00:05<00:00,  4.05it/s]\n",
            "Reading Channels:   0%|          | 0/23 [00:00<?, ?it/s]"
          ],
          "name": "stderr"
        },
        {
          "output_type": "stream",
          "text": [
            "/content/DESTINATION/chbmit-1.0.0.physionet.org/chb03/chb03_10.edf (23, 921600)\n"
          ],
          "name": "stdout"
        },
        {
          "output_type": "stream",
          "text": [
            "Reading Channels:  26%|██▌       | 6/23 [00:02<00:07,  2.26it/s]"
          ],
          "name": "stderr"
        },
        {
          "output_type": "stream",
          "text": [
            "\b\b\b\b\b\b\b\b\b\b\b\b\b\b\b\b\b\b\b\b\b\b\b\b\b\b\b\b\b\b\b\b\b\b\b\b\b\b\b\b\b\b\b\b\b\b\b\b\b\b\b\b\b\b\b\b\b\b\b\b\b\b\b\b\b\b\b\b\b\b\b\b\b\b\b\b\r"
          ],
          "name": "stdout"
        },
        {
          "output_type": "stream",
          "text": [
            "\rReading Channels:  30%|███       | 7/23 [00:02<00:06,  2.56it/s]"
          ],
          "name": "stderr"
        },
        {
          "output_type": "stream",
          "text": [
            "6/6 [==============================] - ETA: 0s - loss: 0.2764 - acc: 0.9533 "
          ],
          "name": "stdout"
        },
        {
          "output_type": "stream",
          "text": [
            "\n",
            "Reading Channels:  35%|███▍      | 8/23 [00:03<00:05,  2.83it/s]\n",
            "Reading Channels:  43%|████▎     | 10/23 [00:04<00:05,  2.39it/s]\n",
            "Reading Channels:  52%|█████▏    | 12/23 [00:04<00:04,  2.64it/s]\n",
            "Reading Channels:  57%|█████▋    | 13/23 [00:04<00:03,  2.90it/s]\n",
            "Reading Channels:  65%|██████▌   | 15/23 [00:05<00:02,  3.34it/s]\n",
            "Reading Channels:  22%|██▏       | 5/23 [00:02<00:07,  2.38it/s]\u001b[A\n",
            "Reading Channels:  70%|██████▉   | 16/23 [00:06<00:02,  3.23it/s]\n",
            "Reading Channels:  78%|███████▊  | 18/23 [00:06<00:01,  3.52it/s]\n",
            "Reading Channels:  35%|███▍      | 8/23 [00:03<00:04,  3.03it/s]\u001b[A\n",
            "Reading Channels:  87%|████████▋ | 20/23 [00:06<00:00,  3.68it/s]\n",
            "Reading Channels: 100%|██████████| 23/23 [00:07<00:00,  4.53it/s]\n",
            "Reading Channels:  48%|████▊     | 11/23 [00:04<00:03,  3.18it/s]\u001b[A\n",
            "Reading Channels: 100%|██████████| 23/23 [00:07<00:00,  3.10it/s]\n",
            "Reading Channels:  78%|███████▊  | 18/23 [00:05<00:01,  4.52it/s]"
          ],
          "name": "stderr"
        },
        {
          "output_type": "stream",
          "text": [
            "/content/DESTINATION/chbmit-1.0.0.physionet.org/chb01/chb01_15.edf (23, 921600)\n"
          ],
          "name": "stdout"
        },
        {
          "output_type": "stream",
          "text": [
            "Reading Channels:  87%|████████▋ | 20/23 [00:05<00:00,  4.43it/s]"
          ],
          "name": "stderr"
        },
        {
          "output_type": "stream",
          "text": [
            "(7200,)\n"
          ],
          "name": "stdout"
        },
        {
          "output_type": "stream",
          "text": [
            "Reading Channels: 100%|██████████| 23/23 [00:06<00:00,  3.30it/s]\n"
          ],
          "name": "stderr"
        },
        {
          "output_type": "stream",
          "text": [
            "/content/DESTINATION/chbmit-1.0.0.physionet.org/chb04/chb04_03.edf (23, 3686400)\n",
            "(3601,)\n"
          ],
          "name": "stdout"
        },
        {
          "output_type": "stream",
          "text": [
            "\rReading Channels:   0%|          | 0/23 [00:00<?, ?it/s]"
          ],
          "name": "stderr"
        },
        {
          "output_type": "stream",
          "text": [
            "extra (3601, 23, 256, 3) (1,)\n"
          ],
          "name": "stdout"
        },
        {
          "output_type": "stream",
          "text": [
            "Reading Channels: 100%|██████████| 23/23 [00:02<00:00, 11.23it/s]\n"
          ],
          "name": "stderr"
        },
        {
          "output_type": "stream",
          "text": [
            "/content/DESTINATION/chbmit-1.0.0.physionet.org/chb01/chb01_30.edf (23, 921600)\n",
            "(3601,)\n",
            "extra (3601, 23, 256, 3) (1,)\n"
          ],
          "name": "stdout"
        },
        {
          "output_type": "stream",
          "text": [
            "Reading Channels: 100%|██████████| 23/23 [00:02<00:00, 11.31it/s]\n"
          ],
          "name": "stderr"
        },
        {
          "output_type": "stream",
          "text": [
            "/content/DESTINATION/chbmit-1.0.0.physionet.org/chb02/chb02_03.edf (23, 921600)\n"
          ],
          "name": "stdout"
        },
        {
          "output_type": "stream",
          "text": [
            "\rReading Channels:   0%|          | 0/24 [00:00<?, ?it/s]"
          ],
          "name": "stderr"
        },
        {
          "output_type": "stream",
          "text": [
            "(3601,)\n",
            "extra (3601, 23, 256, 3) (1,)\n"
          ],
          "name": "stdout"
        },
        {
          "output_type": "stream",
          "text": [
            "Reading Channels: 100%|██████████| 24/24 [00:05<00:00,  4.11it/s]\n",
            "Reading Channels:   9%|▊         | 2/23 [00:00<00:01, 19.22it/s]"
          ],
          "name": "stderr"
        },
        {
          "output_type": "stream",
          "text": [
            "(1,)\n",
            "extra (2401, 23, 256, 3) (0,)\n"
          ],
          "name": "stdout"
        },
        {
          "output_type": "stream",
          "text": [
            "Reading Channels: 100%|██████████| 23/23 [00:01<00:00, 19.35it/s]\n"
          ],
          "name": "stderr"
        },
        {
          "output_type": "stream",
          "text": [
            "/content/DESTINATION/chbmit-1.0.0.physionet.org/chb02/chb02_15.edf (23, 921600)\n",
            "(3600,)\n"
          ],
          "name": "stdout"
        },
        {
          "output_type": "stream",
          "text": [
            "Reading Channels:   4%|▍         | 1/23 [00:00<00:02,  8.91it/s]"
          ],
          "name": "stderr"
        },
        {
          "output_type": "stream",
          "text": [
            "extra (2401, 23, 256, 3) (0,)\n"
          ],
          "name": "stdout"
        },
        {
          "output_type": "stream",
          "text": [
            "Reading Channels: 100%|██████████| 23/23 [00:02<00:00, 11.04it/s]\n"
          ],
          "name": "stderr"
        },
        {
          "output_type": "stream",
          "text": [
            "/content/DESTINATION/chbmit-1.0.0.physionet.org/chb02/chb02_32.edf (23, 921600)\n",
            "(3600,)\n"
          ],
          "name": "stdout"
        },
        {
          "output_type": "stream",
          "text": [
            "Reading Channels:   4%|▍         | 1/23 [00:00<00:02,  7.84it/s]"
          ],
          "name": "stderr"
        },
        {
          "output_type": "stream",
          "text": [
            "extra (2401, 23, 256, 3) (0,)\n"
          ],
          "name": "stdout"
        },
        {
          "output_type": "stream",
          "text": [
            "Reading Channels: 100%|██████████| 23/23 [00:02<00:00, 11.08it/s]\n"
          ],
          "name": "stderr"
        },
        {
          "output_type": "stream",
          "text": [
            "/content/DESTINATION/chbmit-1.0.0.physionet.org/chb02/chb02_26.edf (23, 921600)\n",
            "(3600,)\n"
          ],
          "name": "stdout"
        },
        {
          "output_type": "stream",
          "text": [
            "\rReading Channels:   0%|          | 0/23 [00:00<?, ?it/s]"
          ],
          "name": "stderr"
        },
        {
          "output_type": "stream",
          "text": [
            "extra (2401, 23, 256, 3) (0,)\n"
          ],
          "name": "stdout"
        },
        {
          "output_type": "stream",
          "text": [
            "Reading Channels: 100%|██████████| 23/23 [00:02<00:00, 11.34it/s]\n"
          ],
          "name": "stderr"
        },
        {
          "output_type": "stream",
          "text": [
            "/content/DESTINATION/chbmit-1.0.0.physionet.org/chb01/chb01_04.edf (23, 921600)\n",
            "(3600,)\n"
          ],
          "name": "stdout"
        },
        {
          "output_type": "stream",
          "text": [
            "Reading Channels:   4%|▍         | 1/23 [00:00<00:02,  7.89it/s]"
          ],
          "name": "stderr"
        },
        {
          "output_type": "stream",
          "text": [
            "extra (2401, 23, 256, 3) (0,)\n"
          ],
          "name": "stdout"
        },
        {
          "output_type": "stream",
          "text": [
            "Reading Channels: 100%|██████████| 23/23 [00:02<00:00, 11.29it/s]\n"
          ],
          "name": "stderr"
        },
        {
          "output_type": "stream",
          "text": [
            "/content/DESTINATION/chbmit-1.0.0.physionet.org/chb05/chb05_07.edf (23, 921600)\n",
            "(3600,)\n"
          ],
          "name": "stdout"
        },
        {
          "output_type": "stream",
          "text": [
            "\rReading Channels:   0%|          | 0/23 [00:00<?, ?it/s]"
          ],
          "name": "stderr"
        },
        {
          "output_type": "stream",
          "text": [
            "extra (2401, 23, 256, 3) (0,)\n"
          ],
          "name": "stdout"
        },
        {
          "output_type": "stream",
          "text": [
            "Reading Channels: 100%|██████████| 23/23 [00:02<00:00, 11.05it/s]\n"
          ],
          "name": "stderr"
        },
        {
          "output_type": "stream",
          "text": [
            "/content/DESTINATION/chbmit-1.0.0.physionet.org/chb01/chb01_41.edf (23, 921600)\n",
            "(3600,)\n"
          ],
          "name": "stdout"
        },
        {
          "output_type": "stream",
          "text": [
            "Reading Channels:   9%|▊         | 2/23 [00:00<00:01, 13.95it/s]"
          ],
          "name": "stderr"
        },
        {
          "output_type": "stream",
          "text": [
            "extra (2401, 23, 256, 3) (0,)\n"
          ],
          "name": "stdout"
        },
        {
          "output_type": "stream",
          "text": [
            "Reading Channels: 100%|██████████| 23/23 [00:01<00:00, 11.50it/s]\n"
          ],
          "name": "stderr"
        },
        {
          "output_type": "stream",
          "text": [
            "/content/DESTINATION/chbmit-1.0.0.physionet.org/chb03/chb03_10.edf (23, 921600)\n",
            "(3600,)\n"
          ],
          "name": "stdout"
        },
        {
          "output_type": "stream",
          "text": [
            "Reading Channels:   4%|▍         | 1/23 [00:00<00:02,  8.10it/s]"
          ],
          "name": "stderr"
        },
        {
          "output_type": "stream",
          "text": [
            "extra (2401, 23, 256, 3) (0,)\n"
          ],
          "name": "stdout"
        },
        {
          "output_type": "stream",
          "text": [
            "Reading Channels: 100%|██████████| 23/23 [00:02<00:00, 11.42it/s]\n"
          ],
          "name": "stderr"
        },
        {
          "output_type": "stream",
          "text": [
            "/content/DESTINATION/chbmit-1.0.0.physionet.org/chb01/chb01_15.edf (23, 921600)\n",
            "(3600,)\n"
          ],
          "name": "stdout"
        },
        {
          "output_type": "stream",
          "text": [
            "\rReading Channels:   0%|          | 0/23 [00:00<?, ?it/s]"
          ],
          "name": "stderr"
        },
        {
          "output_type": "stream",
          "text": [
            "extra (2401, 23, 256, 3) (0,)\n"
          ],
          "name": "stdout"
        },
        {
          "output_type": "stream",
          "text": [
            "Reading Channels: 100%|██████████| 23/23 [00:04<00:00,  5.06it/s]\n"
          ],
          "name": "stderr"
        },
        {
          "output_type": "stream",
          "text": [
            "/content/DESTINATION/chbmit-1.0.0.physionet.org/chb02/chb02_27.edf (23, 921600)\n",
            "(3600,)\n"
          ],
          "name": "stdout"
        },
        {
          "output_type": "stream",
          "text": [
            "\rReading Channels:   0%|          | 0/24 [00:00<?, ?it/s]"
          ],
          "name": "stderr"
        },
        {
          "output_type": "stream",
          "text": [
            "extra (2401, 23, 256, 3) (0,)\n"
          ],
          "name": "stdout"
        },
        {
          "output_type": "stream",
          "text": [
            "Reading Channels: 100%|██████████| 24/24 [00:15<00:00,  1.55it/s]\n",
            "Reading Channels:   0%|          | 0/23 [00:00<?, ?it/s]"
          ],
          "name": "stderr"
        },
        {
          "output_type": "stream",
          "text": [
            "(0,)\n",
            "extra (1201, 23, 256, 3) (0,)\n"
          ],
          "name": "stdout"
        },
        {
          "output_type": "stream",
          "text": [
            "Reading Channels: 100%|██████████| 23/23 [00:03<00:00,  5.77it/s]\n"
          ],
          "name": "stderr"
        },
        {
          "output_type": "stream",
          "text": [
            "/content/DESTINATION/chbmit-1.0.0.physionet.org/chb02/chb02_06.edf (23, 921600)\n",
            "(3600,)\n"
          ],
          "name": "stdout"
        },
        {
          "output_type": "stream",
          "text": [
            "\rReading Channels:   0%|          | 0/23 [00:00<?, ?it/s]"
          ],
          "name": "stderr"
        },
        {
          "output_type": "stream",
          "text": [
            "extra (1201, 23, 256, 3) (0,)\n"
          ],
          "name": "stdout"
        },
        {
          "output_type": "stream",
          "text": [
            "Reading Channels: 100%|██████████| 23/23 [00:04<00:00,  5.13it/s]\n"
          ],
          "name": "stderr"
        },
        {
          "output_type": "stream",
          "text": [
            "/content/DESTINATION/chbmit-1.0.0.physionet.org/chb02/chb02_02.edf (23, 921600)\n",
            "(3600,)\n",
            "6/6 [==============================] - 145s 24s/step - loss: 0.2764 - acc: 0.9533 - val_loss: 2.4797 - val_acc: 0.8462\n"
          ],
          "name": "stdout"
        },
        {
          "output_type": "stream",
          "text": [
            "Reading Channels:   4%|▍         | 1/23 [00:00<00:02,  7.93it/s]"
          ],
          "name": "stderr"
        },
        {
          "output_type": "stream",
          "text": [
            "Epoch 2/4\n",
            "extra (1, 23, 256, 3) (0,)\n"
          ],
          "name": "stdout"
        },
        {
          "output_type": "stream",
          "text": [
            "Reading Channels: 100%|██████████| 23/23 [00:02<00:00,  9.13it/s]\n",
            "Reading Channels:   0%|          | 0/24 [00:00<?, ?it/s]"
          ],
          "name": "stderr"
        },
        {
          "output_type": "stream",
          "text": [
            "/content/DESTINATION/chbmit-1.0.0.physionet.org/chb02/chb02_27.edf (23, 921600)\n"
          ],
          "name": "stdout"
        },
        {
          "output_type": "stream",
          "text": [
            "Reading Channels:  92%|█████████▏| 22/24 [00:07<00:00,  3.10it/s]"
          ],
          "name": "stderr"
        },
        {
          "output_type": "stream",
          "text": [
            "\r1/6 [====>.........................] - ETA: 0s - loss: 1.1921e-07 - acc: 1.0000"
          ],
          "name": "stdout"
        },
        {
          "output_type": "stream",
          "text": [
            "Reading Channels: 100%|██████████| 24/24 [00:08<00:00,  2.99it/s]\n",
            "Reading Channels: 100%|██████████| 23/23 [00:01<00:00, 19.19it/s]\n"
          ],
          "name": "stderr"
        },
        {
          "output_type": "stream",
          "text": [
            "/content/DESTINATION/chbmit-1.0.0.physionet.org/chb02/chb02_06.edf (23, 921600)\n",
            "(7200,)\n"
          ],
          "name": "stdout"
        },
        {
          "output_type": "stream",
          "text": [
            "Reading Channels:   4%|▍         | 1/23 [00:00<00:03,  6.97it/s]"
          ],
          "name": "stderr"
        },
        {
          "output_type": "stream",
          "text": [
            "extra (1, 23, 256, 3) (0,)\n"
          ],
          "name": "stdout"
        },
        {
          "output_type": "stream",
          "text": [
            "Reading Channels: 100%|██████████| 23/23 [00:02<00:00,  9.05it/s]\n",
            "Reading Channels:   0%|          | 0/23 [00:00<?, ?it/s]"
          ],
          "name": "stderr"
        },
        {
          "output_type": "stream",
          "text": [
            "/content/DESTINATION/chbmit-1.0.0.physionet.org/chb02/chb02_02.edf (23, 921600)\n"
          ],
          "name": "stdout"
        },
        {
          "output_type": "stream",
          "text": [
            "Reading Channels: 100%|██████████| 23/23 [00:05<00:00,  4.52it/s]\n"
          ],
          "name": "stderr"
        },
        {
          "output_type": "stream",
          "text": [
            "/content/DESTINATION/chbmit-1.0.0.physionet.org/chb02/chb02_01.edf (23, 921600)\n",
            "(7200,)\n",
            "2/6 [=========>....................] - ETA: 23s - loss: 1.1921e-07 - acc: 1.0000"
          ],
          "name": "stdout"
        },
        {
          "output_type": "stream",
          "text": [
            "\rReading Channels:   0%|          | 0/23 [00:00<?, ?it/s]"
          ],
          "name": "stderr"
        },
        {
          "output_type": "stream",
          "text": [
            "extra (1, 23, 256, 3) (0,)\n"
          ],
          "name": "stdout"
        },
        {
          "output_type": "stream",
          "text": [
            "Reading Channels: 100%|██████████| 23/23 [00:02<00:00,  8.81it/s]\n",
            "Reading Channels:   0%|          | 0/23 [00:00<?, ?it/s]"
          ],
          "name": "stderr"
        },
        {
          "output_type": "stream",
          "text": [
            "/content/DESTINATION/chbmit-1.0.0.physionet.org/chb02/chb02_22.edf (23, 921600)\n"
          ],
          "name": "stdout"
        },
        {
          "output_type": "stream",
          "text": [
            "Reading Channels: 100%|██████████| 23/23 [00:05<00:00,  4.47it/s]\n"
          ],
          "name": "stderr"
        },
        {
          "output_type": "stream",
          "text": [
            "/content/DESTINATION/chbmit-1.0.0.physionet.org/chb01/chb01_42.edf (23, 921600)\n",
            "(7200,)\n",
            "3/6 [==============>...............] - ETA: 20s - loss: 1.1921e-07 - acc: 1.0000"
          ],
          "name": "stdout"
        },
        {
          "output_type": "stream",
          "text": [
            "\rReading Channels:   0%|          | 0/23 [00:00<?, ?it/s]"
          ],
          "name": "stderr"
        },
        {
          "output_type": "stream",
          "text": [
            "extra (1, 23, 256, 3) (0,)\n"
          ],
          "name": "stdout"
        },
        {
          "output_type": "stream",
          "text": [
            "Reading Channels: 100%|██████████| 23/23 [00:05<00:00,  4.50it/s]\n",
            "Reading Channels:   0%|          | 0/23 [00:00<?, ?it/s]"
          ],
          "name": "stderr"
        },
        {
          "output_type": "stream",
          "text": [
            "/content/DESTINATION/chbmit-1.0.0.physionet.org/chb02/chb02_10.edf (23, 921600)\n"
          ],
          "name": "stdout"
        },
        {
          "output_type": "stream",
          "text": [
            "Reading Channels:  39%|███▉      | 9/23 [00:03<00:04,  3.10it/s]"
          ],
          "name": "stderr"
        },
        {
          "output_type": "stream",
          "text": [
            "\b\b\b\b\b\b\b\b\b\b\b\b\b\b\b\b\b\b\b\b\b\b\b\b\b\b\b\b\b\b\b\b\b\b\b\b\b\b\b\b\b\b\b\b\b\b\b\b\b\b\b\b\b\b\b\b\b\b\b\b\b\b\b\b\b\b\b\b\b\b\b\b\b\b\b\b\b\b\b\b\r4/6 [===================>..........] - ETA: 14s - loss: 1.1921e-07 - acc: 1.0000"
          ],
          "name": "stdout"
        },
        {
          "output_type": "stream",
          "text": [
            "Reading Channels: 100%|██████████| 23/23 [00:04<00:00,  4.66it/s]\n"
          ],
          "name": "stderr"
        },
        {
          "output_type": "stream",
          "text": [
            "/content/DESTINATION/chbmit-1.0.0.physionet.org/chb02/chb02_04.edf (23, 921600)\n",
            "(7200,)\n"
          ],
          "name": "stdout"
        },
        {
          "output_type": "stream",
          "text": [
            "\rReading Channels:   0%|          | 0/24 [00:00<?, ?it/s]"
          ],
          "name": "stderr"
        },
        {
          "output_type": "stream",
          "text": [
            "extra (1, 23, 256, 3) (0,)\n"
          ],
          "name": "stdout"
        },
        {
          "output_type": "stream",
          "text": [
            "Reading Channels:  12%|█▎        | 3/24 [00:05<00:49,  2.36s/it]"
          ],
          "name": "stderr"
        },
        {
          "output_type": "stream",
          "text": [
            "\b\b\b\b\b\b\b\b\b\b\b\b\b\b\b\b\b\b\b\b\b\b\b\b\b\b\b\b\b\b\b\b\b\b\b\b\b\b\b\b\b\b\b\b\b\b\b\b\b\b\b\b\b\b\b\b\b\b\b\b\b\b\b\b\b\b\b\b\b\b\b\b\b\b\b\b\b\b\b\b\r5/6 [========================>.....] - ETA: 8s - loss: 1.1921e-07 - acc: 1.0000 "
          ],
          "name": "stdout"
        },
        {
          "output_type": "stream",
          "text": [
            "Reading Channels: 100%|██████████| 24/24 [00:15<00:00,  1.53it/s]\n",
            "Reading Channels: 100%|██████████| 23/23 [00:04<00:00,  4.86it/s]\n",
            "Reading Channels:   0%|          | 0/23 [00:00<?, ?it/s]"
          ],
          "name": "stderr"
        },
        {
          "output_type": "stream",
          "text": [
            "/content/DESTINATION/chbmit-1.0.0.physionet.org/chb01/chb01_05.edf (23, 921600)\n"
          ],
          "name": "stdout"
        },
        {
          "output_type": "stream",
          "text": [
            "Reading Channels: 100%|██████████| 23/23 [00:04<00:00,  4.99it/s]\n"
          ],
          "name": "stderr"
        },
        {
          "output_type": "stream",
          "text": [
            "/content/DESTINATION/chbmit-1.0.0.physionet.org/chb03/chb03_27.edf (23, 921600)\n",
            "(7200,)\n"
          ],
          "name": "stdout"
        },
        {
          "output_type": "stream",
          "text": [
            "\rReading Channels:   0%|          | 0/23 [00:00<?, ?it/s]"
          ],
          "name": "stderr"
        },
        {
          "output_type": "stream",
          "text": [
            "extra (1, 23, 256, 3) (0,)\n"
          ],
          "name": "stdout"
        },
        {
          "output_type": "stream",
          "text": [
            "Reading Channels: 100%|██████████| 23/23 [00:05<00:00,  4.36it/s]\n",
            "Reading Channels:   0%|          | 0/23 [00:00<?, ?it/s]"
          ],
          "name": "stderr"
        },
        {
          "output_type": "stream",
          "text": [
            "/content/DESTINATION/chbmit-1.0.0.physionet.org/chb01/chb01_19.edf (23, 921600)\n"
          ],
          "name": "stdout"
        },
        {
          "output_type": "stream",
          "text": [
            "Reading Channels:  35%|███▍      | 8/23 [00:03<00:05,  2.96it/s]"
          ],
          "name": "stderr"
        },
        {
          "output_type": "stream",
          "text": [
            "\b\b\b\b\b\b\b\b\b\b\b\b\b\b\b\b\b\b\b\b\b\b\b\b\b\b\b\b\b\b\b\b\b\b\b\b\b\b\b\b\b\b\b\b\b\b\b\b\b\b\b\b\b\b\b\b\b\b\b\b\b\b\b\b\b\b\b\b\b\b\b\b\b\b\b\b\b\b\b\r6/6 [==============================] - ETA: 0s - loss: 1.1921e-07 - acc: 1.0000"
          ],
          "name": "stdout"
        },
        {
          "output_type": "stream",
          "text": [
            "Reading Channels:  52%|█████▏    | 12/23 [00:04<00:03,  3.40it/s]\n",
            "Reading Channels:  61%|██████    | 14/23 [00:04<00:02,  4.45it/s]"
          ],
          "name": "stderr"
        },
        {
          "output_type": "stream",
          "text": [
            "extra (1201, 23, 256, 3) (0,)\n"
          ],
          "name": "stdout"
        },
        {
          "output_type": "stream",
          "text": [
            "\n",
            "Reading Channels:  70%|██████▉   | 16/23 [00:04<00:01,  4.88it/s]\n",
            "Reading Channels:  78%|███████▊  | 18/23 [00:04<00:00,  6.27it/s]\n",
            "Reading Channels:  87%|████████▋ | 20/23 [00:04<00:00,  6.94it/s]\n",
            "Reading Channels:  22%|██▏       | 5/23 [00:00<00:02,  7.34it/s]\u001b[A\n",
            "Reading Channels:  96%|█████████▌| 22/23 [00:05<00:00,  7.94it/s]\n",
            "Reading Channels: 100%|██████████| 23/23 [00:05<00:00,  4.44it/s]\n",
            "Reading Channels:  65%|██████▌   | 15/23 [00:01<00:00, 12.27it/s]"
          ],
          "name": "stderr"
        },
        {
          "output_type": "stream",
          "text": [
            "/content/DESTINATION/chbmit-1.0.0.physionet.org/chb02/chb02_29.edf (23, 921600)\n",
            "(7200,)\n"
          ],
          "name": "stdout"
        },
        {
          "output_type": "stream",
          "text": [
            "Reading Channels: 100%|██████████| 23/23 [00:02<00:00, 10.55it/s]\n"
          ],
          "name": "stderr"
        },
        {
          "output_type": "stream",
          "text": [
            "/content/DESTINATION/chbmit-1.0.0.physionet.org/chb02/chb02_01.edf (23, 921600)\n",
            "(3600,)\n"
          ],
          "name": "stdout"
        },
        {
          "output_type": "stream",
          "text": [
            "Reading Channels:   4%|▍         | 1/23 [00:00<00:02,  8.57it/s]"
          ],
          "name": "stderr"
        },
        {
          "output_type": "stream",
          "text": [
            "extra (1201, 23, 256, 3) (0,)\n"
          ],
          "name": "stdout"
        },
        {
          "output_type": "stream",
          "text": [
            "Reading Channels: 100%|██████████| 23/23 [00:02<00:00, 10.94it/s]\n"
          ],
          "name": "stderr"
        },
        {
          "output_type": "stream",
          "text": [
            "/content/DESTINATION/chbmit-1.0.0.physionet.org/chb02/chb02_22.edf (23, 921600)\n",
            "(3600,)\n"
          ],
          "name": "stdout"
        },
        {
          "output_type": "stream",
          "text": [
            "\rReading Channels:   0%|          | 0/23 [00:00<?, ?it/s]"
          ],
          "name": "stderr"
        },
        {
          "output_type": "stream",
          "text": [
            "extra (1201, 23, 256, 3) (0,)\n"
          ],
          "name": "stdout"
        },
        {
          "output_type": "stream",
          "text": [
            "Reading Channels: 100%|██████████| 23/23 [00:02<00:00, 10.90it/s]\n"
          ],
          "name": "stderr"
        },
        {
          "output_type": "stream",
          "text": [
            "/content/DESTINATION/chbmit-1.0.0.physionet.org/chb01/chb01_42.edf (23, 921600)\n",
            "(3600,)\n"
          ],
          "name": "stdout"
        },
        {
          "output_type": "stream",
          "text": [
            "\rReading Channels:   0%|          | 0/23 [00:00<?, ?it/s]"
          ],
          "name": "stderr"
        },
        {
          "output_type": "stream",
          "text": [
            "extra (1201, 23, 256, 3) (0,)\n"
          ],
          "name": "stdout"
        },
        {
          "output_type": "stream",
          "text": [
            "Reading Channels: 100%|██████████| 23/23 [00:02<00:00, 11.08it/s]\n"
          ],
          "name": "stderr"
        },
        {
          "output_type": "stream",
          "text": [
            "/content/DESTINATION/chbmit-1.0.0.physionet.org/chb02/chb02_10.edf (23, 921600)\n",
            "(3600,)\n"
          ],
          "name": "stdout"
        },
        {
          "output_type": "stream",
          "text": [
            "Reading Channels:   4%|▍         | 1/23 [00:00<00:02,  7.41it/s]"
          ],
          "name": "stderr"
        },
        {
          "output_type": "stream",
          "text": [
            "extra (1201, 23, 256, 3) (0,)\n"
          ],
          "name": "stdout"
        },
        {
          "output_type": "stream",
          "text": [
            "Reading Channels: 100%|██████████| 23/23 [00:02<00:00, 11.12it/s]\n"
          ],
          "name": "stderr"
        },
        {
          "output_type": "stream",
          "text": [
            "/content/DESTINATION/chbmit-1.0.0.physionet.org/chb02/chb02_04.edf (23, 921600)\n",
            "(3600,)\n"
          ],
          "name": "stdout"
        },
        {
          "output_type": "stream",
          "text": [
            "\rReading Channels:   0%|          | 0/24 [00:00<?, ?it/s]"
          ],
          "name": "stderr"
        },
        {
          "output_type": "stream",
          "text": [
            "extra (1201, 23, 256, 3) (0,)\n"
          ],
          "name": "stdout"
        },
        {
          "output_type": "stream",
          "text": [
            "Reading Channels: 100%|██████████| 24/24 [00:05<00:00,  4.12it/s]\n",
            "Reading Channels:   9%|▊         | 2/23 [00:00<00:01, 19.49it/s]"
          ],
          "name": "stderr"
        },
        {
          "output_type": "stream",
          "text": [
            "(0,)\n",
            "extra (1, 23, 256, 3) (0,)\n"
          ],
          "name": "stdout"
        },
        {
          "output_type": "stream",
          "text": [
            "Reading Channels: 100%|██████████| 23/23 [00:01<00:00, 19.14it/s]\n"
          ],
          "name": "stderr"
        },
        {
          "output_type": "stream",
          "text": [
            "/content/DESTINATION/chbmit-1.0.0.physionet.org/chb01/chb01_05.edf (23, 921600)\n",
            "(3600,)\n"
          ],
          "name": "stdout"
        },
        {
          "output_type": "stream",
          "text": [
            "Reading Channels:   9%|▊         | 2/23 [00:00<00:01, 11.25it/s]"
          ],
          "name": "stderr"
        },
        {
          "output_type": "stream",
          "text": [
            "extra (1, 23, 256, 3) (0,)\n"
          ],
          "name": "stdout"
        },
        {
          "output_type": "stream",
          "text": [
            "Reading Channels: 100%|██████████| 23/23 [00:02<00:00, 11.07it/s]\n"
          ],
          "name": "stderr"
        },
        {
          "output_type": "stream",
          "text": [
            "/content/DESTINATION/chbmit-1.0.0.physionet.org/chb03/chb03_27.edf (23, 921600)\n",
            "(3600,)\n"
          ],
          "name": "stdout"
        },
        {
          "output_type": "stream",
          "text": [
            "Reading Channels:   4%|▍         | 1/23 [00:00<00:03,  7.17it/s]"
          ],
          "name": "stderr"
        },
        {
          "output_type": "stream",
          "text": [
            "extra (1, 23, 256, 3) (0,)\n"
          ],
          "name": "stdout"
        },
        {
          "output_type": "stream",
          "text": [
            "Reading Channels: 100%|██████████| 23/23 [00:02<00:00, 11.44it/s]\n"
          ],
          "name": "stderr"
        },
        {
          "output_type": "stream",
          "text": [
            "/content/DESTINATION/chbmit-1.0.0.physionet.org/chb01/chb01_19.edf (23, 921600)\n",
            "(3600,)\n"
          ],
          "name": "stdout"
        },
        {
          "output_type": "stream",
          "text": [
            "Reading Channels:   9%|▊         | 2/23 [00:00<00:01, 14.08it/s]"
          ],
          "name": "stderr"
        },
        {
          "output_type": "stream",
          "text": [
            "extra (1, 23, 256, 3) (0,)\n"
          ],
          "name": "stdout"
        },
        {
          "output_type": "stream",
          "text": [
            "Reading Channels: 100%|██████████| 23/23 [00:02<00:00, 10.97it/s]\n"
          ],
          "name": "stderr"
        },
        {
          "output_type": "stream",
          "text": [
            "/content/DESTINATION/chbmit-1.0.0.physionet.org/chb02/chb02_29.edf (23, 921600)\n",
            "(3600,)\n"
          ],
          "name": "stdout"
        },
        {
          "output_type": "stream",
          "text": [
            "\rReading Channels:   0%|          | 0/23 [00:00<?, ?it/s]"
          ],
          "name": "stderr"
        },
        {
          "output_type": "stream",
          "text": [
            "extra (1, 23, 256, 3) (0,)\n"
          ],
          "name": "stdout"
        },
        {
          "output_type": "stream",
          "text": [
            "Reading Channels: 100%|██████████| 23/23 [00:04<00:00,  4.97it/s]\n"
          ],
          "name": "stderr"
        },
        {
          "output_type": "stream",
          "text": [
            "/content/DESTINATION/chbmit-1.0.0.physionet.org/chb03/chb03_08.edf (23, 921600)\n",
            "(3600,)\n"
          ],
          "name": "stdout"
        },
        {
          "output_type": "stream",
          "text": [
            "\rReading Channels:   0%|          | 0/23 [00:00<?, ?it/s]"
          ],
          "name": "stderr"
        },
        {
          "output_type": "stream",
          "text": [
            "extra (1, 23, 256, 3) (0,)\n"
          ],
          "name": "stdout"
        },
        {
          "output_type": "stream",
          "text": [
            "Reading Channels: 100%|██████████| 23/23 [00:02<00:00,  7.91it/s]\n",
            "Reading Channels: 100%|██████████| 23/23 [00:04<00:00,  4.87it/s]\n"
          ],
          "name": "stderr"
        },
        {
          "output_type": "stream",
          "text": [
            "/content/DESTINATION/chbmit-1.0.0.physionet.org/chb01/chb01_31.edf (23, 921600)\n",
            "(3600,)\n"
          ],
          "name": "stdout"
        },
        {
          "output_type": "stream",
          "text": [
            "\rReading Channels:   0%|          | 0/23 [00:00<?, ?it/s]"
          ],
          "name": "stderr"
        },
        {
          "output_type": "stream",
          "text": [
            "extra (1, 23, 256, 3) (0,)\n"
          ],
          "name": "stdout"
        },
        {
          "output_type": "stream",
          "text": [
            "Reading Channels: 100%|██████████| 23/23 [00:04<00:00,  4.95it/s]\n"
          ],
          "name": "stderr"
        },
        {
          "output_type": "stream",
          "text": [
            "/content/DESTINATION/chbmit-1.0.0.physionet.org/chb01/chb01_08.edf (23, 921600)\n",
            "(3600,)\n"
          ],
          "name": "stdout"
        },
        {
          "output_type": "stream",
          "text": [
            "\rReading Channels:   0%|          | 0/23 [00:00<?, ?it/s]"
          ],
          "name": "stderr"
        },
        {
          "output_type": "stream",
          "text": [
            "extra (1, 23, 256, 3) (0,)\n"
          ],
          "name": "stdout"
        },
        {
          "output_type": "stream",
          "text": [
            "Reading Channels: 100%|██████████| 23/23 [00:04<00:00,  4.88it/s]\n"
          ],
          "name": "stderr"
        },
        {
          "output_type": "stream",
          "text": [
            "/content/DESTINATION/chbmit-1.0.0.physionet.org/chb01/chb01_21.edf (23, 921600)\n",
            "(3600,)\n"
          ],
          "name": "stdout"
        },
        {
          "output_type": "stream",
          "text": [
            "\rReading Channels:   0%|          | 0/23 [00:00<?, ?it/s]"
          ],
          "name": "stderr"
        },
        {
          "output_type": "stream",
          "text": [
            "extra (1, 23, 256, 3) (0,)\n"
          ],
          "name": "stdout"
        },
        {
          "output_type": "stream",
          "text": [
            "Reading Channels: 100%|██████████| 23/23 [00:04<00:00,  5.15it/s]\n"
          ],
          "name": "stderr"
        },
        {
          "output_type": "stream",
          "text": [
            "/content/DESTINATION/chbmit-1.0.0.physionet.org/chb02/chb02_35.edf (23, 921600)\n",
            "(3600,)\n",
            "6/6 [==============================] - 124s 21s/step - loss: 1.1921e-07 - acc: 1.0000 - val_loss: 0.4329 - val_acc: 0.9731\n"
          ],
          "name": "stdout"
        },
        {
          "output_type": "stream",
          "text": [
            "Reading Channels:   4%|▍         | 1/23 [00:00<00:02,  7.67it/s]"
          ],
          "name": "stderr"
        },
        {
          "output_type": "stream",
          "text": [
            "Epoch 3/4\n",
            "extra (1, 23, 256, 3) (0,)\n"
          ],
          "name": "stdout"
        },
        {
          "output_type": "stream",
          "text": [
            "Reading Channels: 100%|██████████| 23/23 [00:02<00:00,  8.57it/s]\n"
          ],
          "name": "stderr"
        },
        {
          "output_type": "stream",
          "text": [
            "/content/DESTINATION/chbmit-1.0.0.physionet.org/chb03/chb03_08.edf (23, 921600)\n"
          ],
          "name": "stdout"
        },
        {
          "output_type": "stream",
          "text": [
            "Reading Channels: 100%|██████████| 23/23 [00:01<00:00, 15.40it/s]\n",
            "Reading Channels: 100%|██████████| 23/23 [00:01<00:00, 11.72it/s]\n"
          ],
          "name": "stderr"
        },
        {
          "output_type": "stream",
          "text": [
            "/content/DESTINATION/chbmit-1.0.0.physionet.org/chb01/chb01_31.edf (23, 921600)\n",
            "(7200,)\n",
            "1/6 [====>.........................] - ETA: 0s - loss: 1.1921e-07 - acc: 1.0000"
          ],
          "name": "stdout"
        },
        {
          "output_type": "stream",
          "text": [
            "Reading Channels:   4%|▍         | 1/23 [00:00<00:02,  7.54it/s]"
          ],
          "name": "stderr"
        },
        {
          "output_type": "stream",
          "text": [
            "extra (1, 23, 256, 3) (0,)\n"
          ],
          "name": "stdout"
        },
        {
          "output_type": "stream",
          "text": [
            "Reading Channels: 100%|██████████| 23/23 [00:02<00:00,  8.48it/s]\n",
            "Reading Channels:   0%|          | 0/23 [00:00<?, ?it/s]"
          ],
          "name": "stderr"
        },
        {
          "output_type": "stream",
          "text": [
            "/content/DESTINATION/chbmit-1.0.0.physionet.org/chb01/chb01_08.edf (23, 921600)\n"
          ],
          "name": "stdout"
        },
        {
          "output_type": "stream",
          "text": [
            "Reading Channels: 100%|██████████| 23/23 [00:02<00:00,  9.95it/s]\n"
          ],
          "name": "stderr"
        },
        {
          "output_type": "stream",
          "text": [
            "/content/DESTINATION/chbmit-1.0.0.physionet.org/chb01/chb01_21.edf (23, 921600)\n",
            "(7200,)\n",
            "2/6 [=========>....................] - ETA: 17s - loss: 1.1921e-07 - acc: 1.0000"
          ],
          "name": "stdout"
        },
        {
          "output_type": "stream",
          "text": [
            "Reading Channels:   4%|▍         | 1/23 [00:00<00:02,  8.57it/s]"
          ],
          "name": "stderr"
        },
        {
          "output_type": "stream",
          "text": [
            "extra (1, 23, 256, 3) (0,)\n"
          ],
          "name": "stdout"
        },
        {
          "output_type": "stream",
          "text": [
            "Reading Channels: 100%|██████████| 23/23 [00:02<00:00,  8.90it/s]\n",
            "Reading Channels:   0%|          | 0/23 [00:00<?, ?it/s]"
          ],
          "name": "stderr"
        },
        {
          "output_type": "stream",
          "text": [
            "/content/DESTINATION/chbmit-1.0.0.physionet.org/chb02/chb02_35.edf (23, 921600)\n"
          ],
          "name": "stdout"
        },
        {
          "output_type": "stream",
          "text": [
            "Reading Channels: 100%|██████████| 23/23 [00:05<00:00,  4.39it/s]\n"
          ],
          "name": "stderr"
        },
        {
          "output_type": "stream",
          "text": [
            "/content/DESTINATION/chbmit-1.0.0.physionet.org/chb01/chb01_13.edf (23, 921600)\n",
            "(7200,)\n",
            "3/6 [==============>...............] - ETA: 18s - loss: 1.1921e-07 - acc: 1.0000"
          ],
          "name": "stdout"
        },
        {
          "output_type": "stream",
          "text": [
            "\rReading Channels:   0%|          | 0/23 [00:00<?, ?it/s]"
          ],
          "name": "stderr"
        },
        {
          "output_type": "stream",
          "text": [
            "extra (1, 23, 256, 3) (0,)\n"
          ],
          "name": "stdout"
        },
        {
          "output_type": "stream",
          "text": [
            "Reading Channels: 100%|██████████| 23/23 [00:05<00:00,  3.91it/s]\n",
            "Reading Channels:   0%|          | 0/24 [00:00<?, ?it/s]"
          ],
          "name": "stderr"
        },
        {
          "output_type": "stream",
          "text": [
            "/content/DESTINATION/chbmit-1.0.0.physionet.org/chb02/chb02_25.edf (23, 921600)\n"
          ],
          "name": "stdout"
        },
        {
          "output_type": "stream",
          "text": [
            "Reading Channels:  46%|████▌     | 11/24 [00:03<00:04,  2.93it/s]"
          ],
          "name": "stderr"
        },
        {
          "output_type": "stream",
          "text": [
            "\b\b\b\b\b\b\b\b\b\b\b\b\b\b\b\b\b\b\b\b\b\b\b\b\b\b\b\b\b\b\b\b\b\b\b\b\b\b\b\b\b\b\b\b\b\b\b\b\b\b\b\b\b\b\b\b\b\b\b\b\b\b\b\b\b\b\b\b\b\b\b\b\b\b\b\b\b\b\b\b\r4/6 [===================>..........] - ETA: 14s - loss: 1.1921e-07 - acc: 1.0000"
          ],
          "name": "stdout"
        },
        {
          "output_type": "stream",
          "text": [
            "Reading Channels: 100%|██████████| 24/24 [00:06<00:00,  3.56it/s]\n",
            "Reading Channels: 100%|██████████| 23/23 [00:01<00:00, 19.18it/s]\n"
          ],
          "name": "stderr"
        },
        {
          "output_type": "stream",
          "text": [
            "/content/DESTINATION/chbmit-1.0.0.physionet.org/chb01/chb01_06.edf (23, 921600)\n",
            "(7200,)\n"
          ],
          "name": "stdout"
        },
        {
          "output_type": "stream",
          "text": [
            "\rReading Channels:   0%|          | 0/23 [00:00<?, ?it/s]"
          ],
          "name": "stderr"
        },
        {
          "output_type": "stream",
          "text": [
            "extra (1, 23, 256, 3) (0,)\n"
          ],
          "name": "stdout"
        },
        {
          "output_type": "stream",
          "text": [
            "Reading Channels: 100%|██████████| 23/23 [00:05<00:00,  4.49it/s]\n",
            "Reading Channels:   0%|          | 0/23 [00:00<?, ?it/s]"
          ],
          "name": "stderr"
        },
        {
          "output_type": "stream",
          "text": [
            "/content/DESTINATION/chbmit-1.0.0.physionet.org/chb03/chb03_32.edf (23, 921600)\n"
          ],
          "name": "stdout"
        },
        {
          "output_type": "stream",
          "text": [
            "Reading Channels: 100%|██████████| 23/23 [00:01<00:00, 12.40it/s]\n"
          ],
          "name": "stderr"
        },
        {
          "output_type": "stream",
          "text": [
            "/content/DESTINATION/chbmit-1.0.0.physionet.org/chb05/chb05_02.edf (23, 921600)\n",
            "(7200,)\n",
            "5/6 [========================>.....] - ETA: 8s - loss: 1.1921e-07 - acc: 1.0000 "
          ],
          "name": "stdout"
        },
        {
          "output_type": "stream",
          "text": [
            "\rReading Channels:   0%|          | 0/24 [00:00<?, ?it/s]"
          ],
          "name": "stderr"
        },
        {
          "output_type": "stream",
          "text": [
            "extra (1, 23, 256, 3) (0,)\n"
          ],
          "name": "stdout"
        },
        {
          "output_type": "stream",
          "text": [
            "Reading Channels:  17%|█▋        | 4/24 [00:09<00:59,  2.98s/it]"
          ],
          "name": "stderr"
        },
        {
          "output_type": "stream",
          "text": [
            "\b\b\b\b\b\b\b\b\b\b\b\b\b\b\b\b\b\b\b\b\b\b\b\b\b\b\b\b\b\b\b\b\b\b\b\b\b\b\b\b\b\b\b\b\b\b\b\b\b\b\b\b\b\b\b\b\b\b\b\b\b\b\b\b\b\b\b\b\b\b\b\b\b\b\b\b\b\b\b\r6/6 [==============================] - ETA: 0s - loss: 1.1921e-07 - acc: 1.0000"
          ],
          "name": "stdout"
        },
        {
          "output_type": "stream",
          "text": [
            "Reading Channels:  25%|██▌       | 6/24 [00:09<00:28,  1.57s/it]\n",
            "Reading Channels:   0%|          | 0/23 [00:00<?, ?it/s]"
          ],
          "name": "stderr"
        },
        {
          "output_type": "stream",
          "text": [
            "extra (1, 23, 256, 3) (0,)\n"
          ],
          "name": "stdout"
        },
        {
          "output_type": "stream",
          "text": [
            "Reading Channels:  29%|██▉       | 7/24 [00:10<00:19,  1.17s/it]\n",
            "Reading Channels:  33%|███▎      | 8/24 [00:10<00:14,  1.12it/s]\n",
            "Reading Channels:  38%|███▊      | 9/24 [00:10<00:10,  1.39it/s]\n",
            "Reading Channels:  42%|████▏     | 10/24 [00:11<00:08,  1.71it/s]\n",
            "Reading Channels:  46%|████▌     | 11/24 [00:11<00:06,  2.05it/s]\n",
            "Reading Channels:  50%|█████     | 12/24 [00:13<00:12,  1.06s/it]\n",
            "Reading Channels:  35%|███▍      | 8/23 [00:03<00:12,  1.23it/s]\u001b[A\n",
            "Reading Channels:  54%|█████▍    | 13/24 [00:13<00:09,  1.22it/s]\n",
            "Reading Channels:  58%|█████▊    | 14/24 [00:14<00:06,  1.53it/s]\n",
            "Reading Channels:  62%|██████▎   | 15/24 [00:14<00:04,  1.86it/s]\n",
            "Reading Channels:  67%|██████▋   | 16/24 [00:14<00:03,  2.20it/s]\n",
            "Reading Channels:  71%|███████   | 17/24 [00:15<00:02,  2.50it/s]\n",
            "Reading Channels:  75%|███████▌  | 18/24 [00:15<00:02,  2.79it/s]\n",
            "Reading Channels:  79%|███████▉  | 19/24 [00:15<00:01,  3.04it/s]\n",
            "Reading Channels:  74%|███████▍  | 17/23 [00:05<00:01,  4.30it/s]\u001b[A\n",
            "Reading Channels:  83%|████████▎ | 20/24 [00:15<00:01,  2.88it/s]\n",
            "Reading Channels:  88%|████████▊ | 21/24 [00:16<00:01,  2.98it/s]\n",
            "Reading Channels: 100%|██████████| 23/23 [00:06<00:00,  3.59it/s]\n",
            "Reading Channels: 100%|██████████| 24/24 [00:17<00:00,  1.41it/s]\n"
          ],
          "name": "stderr"
        },
        {
          "output_type": "stream",
          "text": [
            "/content/DESTINATION/chbmit-1.0.0.physionet.org/chb01/chb01_13.edf (23, 921600)\n",
            "(3600,)\n"
          ],
          "name": "stdout"
        },
        {
          "output_type": "stream",
          "text": [
            "Reading Channels:   4%|▍         | 1/23 [00:00<00:02,  9.79it/s]\n",
            "Reading Channels:  17%|█▋        | 4/23 [00:00<00:01, 10.04it/s]\n",
            "Reading Channels:   4%|▍         | 1/23 [00:00<00:02,  9.50it/s]"
          ],
          "name": "stderr"
        },
        {
          "output_type": "stream",
          "text": [
            "extra (1, 23, 256, 3) (0,)\n"
          ],
          "name": "stdout"
        },
        {
          "output_type": "stream",
          "text": [
            "Reading Channels:  26%|██▌       | 6/23 [00:00<00:01, 10.45it/s]\n",
            "Reading Channels:  35%|███▍      | 8/23 [00:00<00:01, 12.07it/s]\n",
            "Reading Channels:  43%|████▎     | 10/23 [00:00<00:01, 11.03it/s]\n",
            "Reading Channels:  17%|█▋        | 4/23 [00:00<00:02,  6.95it/s]\u001b[A\n",
            "Reading Channels:  52%|█████▏    | 12/23 [00:01<00:00, 11.40it/s]\n",
            "Reading Channels:  61%|██████    | 14/23 [00:01<00:00, 11.50it/s]\n",
            "Reading Channels:  30%|███       | 7/23 [00:00<00:02,  7.66it/s]\u001b[A\n",
            "Reading Channels:  70%|██████▉   | 16/23 [00:01<00:00, 10.66it/s]\n",
            "Reading Channels:  43%|████▎     | 10/23 [00:01<00:01,  8.08it/s]\u001b[A\n",
            "Reading Channels:  83%|████████▎ | 19/23 [00:01<00:00,  9.19it/s]\n",
            "Reading Channels:  91%|█████████▏| 21/23 [00:01<00:00, 10.86it/s]\n",
            "Reading Channels: 100%|██████████| 23/23 [00:02<00:00, 10.33it/s]\n",
            "Reading Channels:  61%|██████    | 14/23 [00:01<00:01,  7.19it/s]\u001b[A\n",
            "Reading Channels: 100%|██████████| 23/23 [00:02<00:00, 10.51it/s]\n",
            "Reading Channels: 100%|██████████| 23/23 [00:02<00:00,  9.67it/s]\n",
            "Reading Channels:   0%|          | 0/24 [00:00<?, ?it/s]"
          ],
          "name": "stderr"
        },
        {
          "output_type": "stream",
          "text": [
            "/content/DESTINATION/chbmit-1.0.0.physionet.org/chb01/chb01_22.edf (23, 921600)\n",
            "/content/DESTINATION/chbmit-1.0.0.physionet.org/chb02/chb02_25.edf (23, 921600)\n"
          ],
          "name": "stdout"
        },
        {
          "output_type": "stream",
          "text": [
            "\rReading Channels:   4%|▍         | 1/24 [00:04<01:47,  4.67s/it]"
          ],
          "name": "stderr"
        },
        {
          "output_type": "stream",
          "text": [
            "(3600,)\n"
          ],
          "name": "stdout"
        },
        {
          "output_type": "stream",
          "text": [
            "Reading Channels:  33%|███▎      | 8/24 [00:11<00:16,  1.03s/it]\n"
          ],
          "name": "stderr"
        },
        {
          "output_type": "stream",
          "text": [
            "extra (1, 23, 256, 3) (0,)\n"
          ],
          "name": "stdout"
        },
        {
          "output_type": "stream",
          "text": [
            "Reading Channels:  38%|███▊      | 9/24 [00:11<00:11,  1.27it/s]\n",
            "Reading Channels:  42%|████▏     | 10/24 [00:12<00:09,  1.48it/s]\n",
            "Reading Channels:  50%|█████     | 12/24 [00:14<00:13,  1.15s/it]\n",
            "Reading Channels:  54%|█████▍    | 13/24 [00:15<00:09,  1.15it/s]\n",
            "Reading Channels:  62%|██████▎   | 15/24 [00:15<00:05,  1.57it/s]\n",
            "Reading Channels:  67%|██████▋   | 16/24 [00:16<00:04,  1.96it/s]\n",
            "Reading Channels:  75%|███████▌  | 18/24 [00:16<00:02,  2.17it/s]\n",
            "Reading Channels:  29%|██▉       | 7/24 [00:05<00:10,  1.60it/s]\u001b[A\n",
            "Reading Channels:  83%|████████▎ | 20/24 [00:17<00:01,  2.27it/s]\n",
            "Reading Channels:  92%|█████████▏| 22/24 [00:18<00:00,  2.62it/s]\n",
            "Reading Channels:  42%|████▏     | 10/24 [00:06<00:07,  1.82it/s]\u001b[A\n",
            "Reading Channels: 100%|██████████| 24/24 [00:19<00:00,  2.48it/s]\n",
            "Reading Channels: 100%|██████████| 24/24 [00:19<00:00,  1.24it/s]\n",
            "Reading Channels: 100%|██████████| 24/24 [00:10<00:00,  2.35it/s]\n",
            "Reading Channels:  43%|████▎     | 10/23 [00:03<00:03,  3.52it/s]\n",
            "Reading Channels:  57%|█████▋    | 13/23 [00:04<00:02,  4.21it/s]\n",
            "Reading Channels:   4%|▍         | 1/23 [00:00<00:02,  9.55it/s]\u001b[A\n",
            "Reading Channels:  65%|██████▌   | 15/23 [00:04<00:01,  5.78it/s]\n",
            "Reading Channels:  13%|█▎        | 3/23 [00:00<00:02,  9.26it/s]\u001b[A\n",
            "Reading Channels:  74%|███████▍  | 17/23 [00:04<00:01,  5.90it/s]\n",
            "Reading Channels:  83%|████████▎ | 19/23 [00:04<00:00,  7.41it/s]\n",
            "Reading Channels:  30%|███       | 7/23 [00:00<00:02,  6.92it/s]\u001b[A\n",
            "Reading Channels:  91%|█████████▏| 21/23 [00:04<00:00,  7.89it/s]\n",
            "Reading Channels:  96%|█████████▌| 22/23 [00:05<00:00,  8.13it/s]\n",
            "Reading Channels: 100%|██████████| 23/23 [00:05<00:00,  8.28it/s]\n",
            "Reading Channels: 100%|██████████| 23/23 [00:05<00:00,  4.43it/s]\n",
            "Reading Channels: 100%|██████████| 23/23 [00:01<00:00, 11.83it/s]\n"
          ],
          "name": "stderr"
        },
        {
          "output_type": "stream",
          "text": [
            "/content/DESTINATION/chbmit-1.0.0.physionet.org/chb02/chb02_14.edf (23, 921600)\n",
            "/content/DESTINATION/chbmit-1.0.0.physionet.org/chb01/chb01_06.edf (23, 921600)\n",
            "(7200,)\n",
            "(3600,)\n"
          ],
          "name": "stdout"
        },
        {
          "output_type": "stream",
          "text": [
            "Reading Channels:   4%|▍         | 1/23 [00:00<00:02,  8.95it/s]"
          ],
          "name": "stderr"
        },
        {
          "output_type": "stream",
          "text": [
            "extra (1, 23, 256, 3) (0,)\n"
          ],
          "name": "stdout"
        },
        {
          "output_type": "stream",
          "text": [
            "Reading Channels: 100%|██████████| 23/23 [00:02<00:00, 11.06it/s]\n"
          ],
          "name": "stderr"
        },
        {
          "output_type": "stream",
          "text": [
            "/content/DESTINATION/chbmit-1.0.0.physionet.org/chb03/chb03_32.edf (23, 921600)\n",
            "(3600,)\n"
          ],
          "name": "stdout"
        },
        {
          "output_type": "stream",
          "text": [
            "\rReading Channels:   0%|          | 0/23 [00:00<?, ?it/s]"
          ],
          "name": "stderr"
        },
        {
          "output_type": "stream",
          "text": [
            "extra (1, 23, 256, 3) (0,)\n"
          ],
          "name": "stdout"
        },
        {
          "output_type": "stream",
          "text": [
            "Reading Channels: 100%|██████████| 23/23 [00:02<00:00, 11.25it/s]\n"
          ],
          "name": "stderr"
        },
        {
          "output_type": "stream",
          "text": [
            "/content/DESTINATION/chbmit-1.0.0.physionet.org/chb05/chb05_02.edf (23, 921600)\n",
            "(3600,)\n"
          ],
          "name": "stdout"
        },
        {
          "output_type": "stream",
          "text": [
            "\rReading Channels:   0%|          | 0/24 [00:00<?, ?it/s]"
          ],
          "name": "stderr"
        },
        {
          "output_type": "stream",
          "text": [
            "extra (1, 23, 256, 3) (0,)\n"
          ],
          "name": "stdout"
        },
        {
          "output_type": "stream",
          "text": [
            "Reading Channels: 100%|██████████| 24/24 [00:05<00:00,  4.16it/s]\n",
            "Reading Channels: 100%|██████████| 23/23 [00:01<00:00, 19.31it/s]\n"
          ],
          "name": "stderr"
        },
        {
          "output_type": "stream",
          "text": [
            "/content/DESTINATION/chbmit-1.0.0.physionet.org/chb01/chb01_22.edf (23, 921600)\n",
            "(3600,)\n"
          ],
          "name": "stdout"
        },
        {
          "output_type": "stream",
          "text": [
            "\rReading Channels:   0%|          | 0/24 [00:00<?, ?it/s]"
          ],
          "name": "stderr"
        },
        {
          "output_type": "stream",
          "text": [
            "extra (1, 23, 256, 3) (0,)\n"
          ],
          "name": "stdout"
        },
        {
          "output_type": "stream",
          "text": [
            "Reading Channels: 100%|██████████| 24/24 [00:05<00:00,  4.14it/s]\n",
            "Reading Channels: 100%|██████████| 23/23 [00:01<00:00, 19.41it/s]\n"
          ],
          "name": "stderr"
        },
        {
          "output_type": "stream",
          "text": [
            "/content/DESTINATION/chbmit-1.0.0.physionet.org/chb02/chb02_14.edf (23, 921600)\n",
            "(3600,)\n"
          ],
          "name": "stdout"
        },
        {
          "output_type": "stream",
          "text": [
            "\rReading Channels:   0%|          | 0/23 [00:00<?, ?it/s]"
          ],
          "name": "stderr"
        },
        {
          "output_type": "stream",
          "text": [
            "extra (1, 23, 256, 3) (0,)\n"
          ],
          "name": "stdout"
        },
        {
          "output_type": "stream",
          "text": [
            "Reading Channels: 100%|██████████| 23/23 [00:04<00:00,  5.27it/s]\n"
          ],
          "name": "stderr"
        },
        {
          "output_type": "stream",
          "text": [
            "/content/DESTINATION/chbmit-1.0.0.physionet.org/chb01/chb01_38.edf (23, 921600)\n",
            "(3600,)\n"
          ],
          "name": "stdout"
        },
        {
          "output_type": "stream",
          "text": [
            "\rReading Channels:   0%|          | 0/23 [00:00<?, ?it/s]"
          ],
          "name": "stderr"
        },
        {
          "output_type": "stream",
          "text": [
            "extra (1, 23, 256, 3) (0,)\n"
          ],
          "name": "stdout"
        },
        {
          "output_type": "stream",
          "text": [
            "Reading Channels: 100%|██████████| 23/23 [00:19<00:00,  1.17it/s]\n"
          ],
          "name": "stderr"
        },
        {
          "output_type": "stream",
          "text": [
            "/content/DESTINATION/chbmit-1.0.0.physionet.org/chb04/chb04_02.edf (23, 3686400)\n",
            "(3600,)\n"
          ],
          "name": "stdout"
        },
        {
          "output_type": "stream",
          "text": [
            "\rReading Channels:   0%|          | 0/24 [00:00<?, ?it/s]"
          ],
          "name": "stderr"
        },
        {
          "output_type": "stream",
          "text": [
            "extra (3601, 23, 256, 3) (0,)\n"
          ],
          "name": "stdout"
        },
        {
          "output_type": "stream",
          "text": [
            "Reading Channels: 100%|██████████| 24/24 [00:05<00:00,  4.71it/s]\n",
            "Reading Channels:   0%|          | 0/23 [00:00<?, ?it/s]"
          ],
          "name": "stderr"
        },
        {
          "output_type": "stream",
          "text": [
            "(0,)\n",
            "extra (2401, 23, 256, 3) (0,)\n"
          ],
          "name": "stdout"
        },
        {
          "output_type": "stream",
          "text": [
            "Reading Channels: 100%|██████████| 23/23 [00:04<00:00,  5.36it/s]\n"
          ],
          "name": "stderr"
        },
        {
          "output_type": "stream",
          "text": [
            "/content/DESTINATION/chbmit-1.0.0.physionet.org/chb02/chb02_12.edf (23, 921600)\n",
            "(3600,)\n"
          ],
          "name": "stdout"
        },
        {
          "output_type": "stream",
          "text": [
            "\rReading Channels:   0%|          | 0/23 [00:00<?, ?it/s]"
          ],
          "name": "stderr"
        },
        {
          "output_type": "stream",
          "text": [
            "extra (2401, 23, 256, 3) (0,)\n"
          ],
          "name": "stdout"
        },
        {
          "output_type": "stream",
          "text": [
            "Reading Channels: 100%|██████████| 23/23 [00:04<00:00,  5.35it/s]\n"
          ],
          "name": "stderr"
        },
        {
          "output_type": "stream",
          "text": [
            "/content/DESTINATION/chbmit-1.0.0.physionet.org/chb01/chb01_43.edf (23, 921600)\n",
            "(3600,)\n"
          ],
          "name": "stdout"
        },
        {
          "output_type": "stream",
          "text": [
            "\rReading Channels:   0%|          | 0/23 [00:00<?, ?it/s]"
          ],
          "name": "stderr"
        },
        {
          "output_type": "stream",
          "text": [
            "extra (2401, 23, 256, 3) (0,)\n"
          ],
          "name": "stdout"
        },
        {
          "output_type": "stream",
          "text": [
            "Reading Channels: 100%|██████████| 23/23 [00:03<00:00,  5.76it/s]\n",
            "Reading Channels:   9%|▊         | 2/23 [00:00<00:01, 19.49it/s]"
          ],
          "name": "stderr"
        },
        {
          "output_type": "stream",
          "text": [
            "(0,)\n",
            "extra (1201, 23, 256, 3) (0,)\n"
          ],
          "name": "stdout"
        },
        {
          "output_type": "stream",
          "text": [
            "Reading Channels: 100%|██████████| 23/23 [00:01<00:00, 19.23it/s]\n"
          ],
          "name": "stderr"
        },
        {
          "output_type": "stream",
          "text": [
            "/content/DESTINATION/chbmit-1.0.0.physionet.org/chb03/chb03_14.edf (23, 921600)\n",
            "(3600,)\n"
          ],
          "name": "stdout"
        },
        {
          "output_type": "stream",
          "text": [
            "\rReading Channels:   0%|          | 0/23 [00:00<?, ?it/s]"
          ],
          "name": "stderr"
        },
        {
          "output_type": "stream",
          "text": [
            "extra (1201, 23, 256, 3) (0,)\n"
          ],
          "name": "stdout"
        },
        {
          "output_type": "stream",
          "text": [
            "Reading Channels: 100%|██████████| 23/23 [00:04<00:00,  5.17it/s]\n"
          ],
          "name": "stderr"
        },
        {
          "output_type": "stream",
          "text": [
            "/content/DESTINATION/chbmit-1.0.0.physionet.org/chb03/chb03_03.edf (23, 921600)\n",
            "(3600,)\n"
          ],
          "name": "stdout"
        },
        {
          "output_type": "stream",
          "text": [
            "\rReading Channels:   0%|          | 0/23 [00:00<?, ?it/s]"
          ],
          "name": "stderr"
        },
        {
          "output_type": "stream",
          "text": [
            "extra (1201, 23, 256, 3) (0,)\n"
          ],
          "name": "stdout"
        },
        {
          "output_type": "stream",
          "text": [
            "Reading Channels: 100%|██████████| 23/23 [00:04<00:00,  5.11it/s]\n"
          ],
          "name": "stderr"
        },
        {
          "output_type": "stream",
          "text": [
            "/content/DESTINATION/chbmit-1.0.0.physionet.org/chb01/chb01_36.edf (23, 921600)\n",
            "(3600,)\n",
            "6/6 [==============================] - 168s 28s/step - loss: 1.1921e-07 - acc: 1.0000 - val_loss: 0.5166 - val_acc: 0.9679\n",
            "Epoch 4/4\n"
          ],
          "name": "stdout"
        },
        {
          "output_type": "stream",
          "text": [
            "Reading Channels:   4%|▍         | 1/23 [00:00<00:02,  8.29it/s]"
          ],
          "name": "stderr"
        },
        {
          "output_type": "stream",
          "text": [
            "extra (1, 23, 256, 3) (0,)\n"
          ],
          "name": "stdout"
        },
        {
          "output_type": "stream",
          "text": [
            "Reading Channels: 100%|██████████| 23/23 [00:02<00:00,  9.69it/s]\n"
          ],
          "name": "stderr"
        },
        {
          "output_type": "stream",
          "text": [
            "/content/DESTINATION/chbmit-1.0.0.physionet.org/chb01/chb01_38.edf (23, 921600)\n"
          ],
          "name": "stdout"
        },
        {
          "output_type": "stream",
          "text": [
            "Reading Channels:  78%|███████▊  | 18/23 [00:05<00:01,  3.29it/s]"
          ],
          "name": "stderr"
        },
        {
          "output_type": "stream",
          "text": [
            "\r1/6 [====>.........................] - ETA: 0s - loss: 1.1921e-07 - acc: 1.0000"
          ],
          "name": "stdout"
        },
        {
          "output_type": "stream",
          "text": [
            "Reading Channels: 100%|██████████| 23/23 [00:06<00:00,  3.36it/s]\n"
          ],
          "name": "stderr"
        },
        {
          "output_type": "stream",
          "text": [
            "/content/DESTINATION/chbmit-1.0.0.physionet.org/chb04/chb04_02.edf (23, 3686400)\n",
            "(7200,)\n"
          ],
          "name": "stdout"
        },
        {
          "output_type": "stream",
          "text": [
            "Reading Channels:   4%|▍         | 1/24 [00:00<00:04,  5.29it/s]"
          ],
          "name": "stderr"
        },
        {
          "output_type": "stream",
          "text": [
            "extra (3601, 23, 256, 3) (0,)\n"
          ],
          "name": "stdout"
        },
        {
          "output_type": "stream",
          "text": [
            "Reading Channels: 100%|██████████| 24/24 [00:03<00:00,  6.39it/s]\n",
            "Reading Channels:   4%|▍         | 1/23 [00:00<00:03,  6.85it/s]"
          ],
          "name": "stderr"
        },
        {
          "output_type": "stream",
          "text": [
            "(0,)\n",
            "extra (1201, 23, 256, 3) (0,)\n"
          ],
          "name": "stdout"
        },
        {
          "output_type": "stream",
          "text": [
            "Reading Channels: 100%|██████████| 23/23 [00:02<00:00, 10.27it/s]\n"
          ],
          "name": "stderr"
        },
        {
          "output_type": "stream",
          "text": [
            "/content/DESTINATION/chbmit-1.0.0.physionet.org/chb02/chb02_12.edf (23, 921600)\n",
            "(3600,)\n",
            "2/6 [=========>....................] - ETA: 23s - loss: 1.1921e-07 - acc: 1.0000"
          ],
          "name": "stdout"
        },
        {
          "output_type": "stream",
          "text": [
            "Reading Channels:   4%|▍         | 1/23 [00:00<00:02,  8.30it/s]"
          ],
          "name": "stderr"
        },
        {
          "output_type": "stream",
          "text": [
            "extra (1, 23, 256, 3) (0,)\n"
          ],
          "name": "stdout"
        },
        {
          "output_type": "stream",
          "text": [
            "Reading Channels: 100%|██████████| 23/23 [00:02<00:00,  8.62it/s]\n",
            "Reading Channels:   0%|          | 0/23 [00:00<?, ?it/s]"
          ],
          "name": "stderr"
        },
        {
          "output_type": "stream",
          "text": [
            "/content/DESTINATION/chbmit-1.0.0.physionet.org/chb01/chb01_43.edf (23, 921600)\n"
          ],
          "name": "stdout"
        },
        {
          "output_type": "stream",
          "text": [
            "Reading Channels: 100%|██████████| 23/23 [00:05<00:00,  3.86it/s]\n",
            "Reading Channels: 100%|██████████| 23/23 [00:02<00:00,  9.80it/s]\n"
          ],
          "name": "stderr"
        },
        {
          "output_type": "stream",
          "text": [
            "\b\b\b\b\b\b\b\b\b\b\b\b\b\b\b\b\b\b\b\b\b\b\b\b\b\b\b\b\b\b\b\b\b\b\b\b\b\b\b\b\b\b\b\b\b\b\b\b\b\b\b\b\b\b\b\b\b\b\b\b\b\b\b\b\b\b\b\b\b\b\b\b\b\b\b\b\b\b\b\b\r3/6 [==============>...............] - ETA: 23s - loss: 1.1921e-07 - acc: 1.0000/content/DESTINATION/chbmit-1.0.0.physionet.org/chb03/chb03_14.edf (23, 921600)\n",
            "(7200,)\n"
          ],
          "name": "stdout"
        },
        {
          "output_type": "stream",
          "text": [
            "Reading Channels:   4%|▍         | 1/23 [00:00<00:03,  6.09it/s]"
          ],
          "name": "stderr"
        },
        {
          "output_type": "stream",
          "text": [
            "extra (1, 23, 256, 3) (0,)\n"
          ],
          "name": "stdout"
        },
        {
          "output_type": "stream",
          "text": [
            "Reading Channels: 100%|██████████| 23/23 [00:05<00:00,  4.32it/s]\n",
            "Reading Channels:   0%|          | 0/23 [00:00<?, ?it/s]"
          ],
          "name": "stderr"
        },
        {
          "output_type": "stream",
          "text": [
            "/content/DESTINATION/chbmit-1.0.0.physionet.org/chb03/chb03_03.edf (23, 921600)\n"
          ],
          "name": "stdout"
        },
        {
          "output_type": "stream",
          "text": [
            "Reading Channels: 100%|██████████| 23/23 [00:02<00:00,  9.52it/s]\n"
          ],
          "name": "stderr"
        },
        {
          "output_type": "stream",
          "text": [
            "/content/DESTINATION/chbmit-1.0.0.physionet.org/chb01/chb01_36.edf (23, 921600)\n",
            "(7200,)\n",
            "4/6 [===================>..........] - ETA: 18s - loss: 1.1921e-07 - acc: 1.0000"
          ],
          "name": "stdout"
        },
        {
          "output_type": "stream",
          "text": [
            "\rReading Channels:   0%|          | 0/23 [00:00<?, ?it/s]"
          ],
          "name": "stderr"
        },
        {
          "output_type": "stream",
          "text": [
            "extra (1, 23, 256, 3) (0,)\n"
          ],
          "name": "stdout"
        },
        {
          "output_type": "stream",
          "text": [
            "Reading Channels: 100%|██████████| 23/23 [00:04<00:00,  4.71it/s]\n",
            "Reading Channels:   0%|          | 0/23 [00:00<?, ?it/s]"
          ],
          "name": "stderr"
        },
        {
          "output_type": "stream",
          "text": [
            "/content/DESTINATION/chbmit-1.0.0.physionet.org/chb03/chb03_13.edf (23, 921600)\n"
          ],
          "name": "stdout"
        },
        {
          "output_type": "stream",
          "text": [
            "Reading Channels:  43%|████▎     | 10/23 [00:03<00:03,  3.33it/s]"
          ],
          "name": "stderr"
        },
        {
          "output_type": "stream",
          "text": [
            "\b\b\b\b\b\b\b\b\b\b\b\b\b\b\b\b\b\b\b\b\b\b\b\b\b\b\b\b\b\b\b\b\b\b\b\b\b\b\b\b\b\b\b\b\b\b\b\b\b\b\b\b\b\b\b\b\b\b\b\b\b\b\b\b\b\b\b\b\b\b\b\b\b\b\b\b\b\b\b\b\r5/6 [========================>.....] - ETA: 9s - loss: 0.6716 - acc: 0.9583     "
          ],
          "name": "stdout"
        },
        {
          "output_type": "stream",
          "text": [
            "Reading Channels: 100%|██████████| 23/23 [00:04<00:00,  4.99it/s]\n"
          ],
          "name": "stderr"
        },
        {
          "output_type": "stream",
          "text": [
            "/content/DESTINATION/chbmit-1.0.0.physionet.org/chb02/chb02_23.edf (23, 921600)\n",
            "(7200,)\n"
          ],
          "name": "stdout"
        },
        {
          "output_type": "stream",
          "text": [
            "\rReading Channels:   0%|          | 0/24 [00:00<?, ?it/s]"
          ],
          "name": "stderr"
        },
        {
          "output_type": "stream",
          "text": [
            "extra (1, 23, 256, 3) (0,)\n"
          ],
          "name": "stdout"
        },
        {
          "output_type": "stream",
          "text": [
            "Reading Channels:  12%|█▎        | 3/24 [00:05<00:49,  2.36s/it]"
          ],
          "name": "stderr"
        },
        {
          "output_type": "stream",
          "text": [
            "\b\b\b\b\b\b\b\b\b\b\b\b\b\b\b\b\b\b\b\b\b\b\b\b\b\b\b\b\b\b\b\b\b\b\b\b\b\b\b\b\b\b\b\b\b\b\b\b\b\b\b\b\b\b\b\b\b\b\b\b\b\b\b\b\b\b\b\b\b\b\b\b\b\b\b\r6/6 [==============================] - ETA: 0s - loss: 0.5597 - acc: 0.9653"
          ],
          "name": "stdout"
        },
        {
          "output_type": "stream",
          "text": [
            "Reading Channels:  21%|██        | 5/24 [00:09<00:40,  2.15s/it]\n"
          ],
          "name": "stderr"
        },
        {
          "output_type": "stream",
          "text": [
            "extra (1201, 23, 256, 3) (0,)\n"
          ],
          "name": "stdout"
        },
        {
          "output_type": "stream",
          "text": [
            "Reading Channels:  25%|██▌       | 6/24 [00:10<00:28,  1.58s/it]\n",
            "Reading Channels:  29%|██▉       | 7/24 [00:10<00:20,  1.18s/it]\n",
            "Reading Channels:  38%|███▊      | 9/24 [00:10<00:10,  1.38it/s]\n",
            "Reading Channels:  13%|█▎        | 3/23 [00:00<00:05,  3.66it/s]\u001b[A\n",
            "Reading Channels:  42%|████▏     | 10/24 [00:11<00:08,  1.70it/s]\n",
            "Reading Channels:  46%|████▌     | 11/24 [00:11<00:06,  1.92it/s]\n",
            "Reading Channels:  30%|███       | 7/23 [00:01<00:03,  4.50it/s]\u001b[A\n",
            "Reading Channels:  50%|█████     | 12/24 [00:13<00:12,  1.05s/it]\n",
            "Reading Channels:  54%|█████▍    | 13/24 [00:14<00:09,  1.21it/s]\n",
            "Reading Channels:  58%|█████▊    | 14/24 [00:14<00:06,  1.52it/s]\n",
            "Reading Channels:  67%|██████▋   | 16/24 [00:14<00:03,  2.19it/s]\n",
            "Reading Channels:  71%|███████   | 17/24 [00:15<00:02,  2.62it/s]\n",
            "Reading Channels:  75%|███████▌  | 18/24 [00:15<00:02,  2.77it/s]\n",
            "Reading Channels:  65%|██████▌   | 15/23 [00:05<00:02,  3.10it/s]\u001b[A\n",
            "Reading Channels:  83%|████████▎ | 20/24 [00:15<00:01,  3.19it/s]\n",
            "Reading Channels:  88%|████████▊ | 21/24 [00:16<00:00,  3.55it/s]\n",
            "Reading Channels:  78%|███████▊  | 18/23 [00:06<00:01,  3.50it/s]\u001b[A\n",
            "Reading Channels:  96%|█████████▌| 23/24 [00:16<00:00,  3.54it/s]\n",
            "Reading Channels:  87%|████████▋ | 20/23 [00:06<00:00,  3.67it/s]\u001b[A\n",
            "Reading Channels: 100%|██████████| 24/24 [00:16<00:00,  3.63it/s]\n",
            "Reading Channels: 100%|██████████| 24/24 [00:16<00:00,  1.42it/s]\n",
            "Reading Channels: 100%|██████████| 23/23 [00:07<00:00,  3.25it/s]\n"
          ],
          "name": "stderr"
        },
        {
          "output_type": "stream",
          "text": [
            "/content/DESTINATION/chbmit-1.0.0.physionet.org/chb03/chb03_13.edf (23, 921600)\n"
          ],
          "name": "stdout"
        },
        {
          "output_type": "stream",
          "text": [
            "Reading Channels:   4%|▍         | 1/23 [00:01<00:24,  1.11s/it]"
          ],
          "name": "stderr"
        },
        {
          "output_type": "stream",
          "text": [
            "(3600,)\n"
          ],
          "name": "stdout"
        },
        {
          "output_type": "stream",
          "text": [
            "Reading Channels:  17%|█▋        | 4/23 [00:01<00:10,  1.77it/s]\n"
          ],
          "name": "stderr"
        },
        {
          "output_type": "stream",
          "text": [
            "extra (1201, 23, 256, 3) (0,)\n"
          ],
          "name": "stdout"
        },
        {
          "output_type": "stream",
          "text": [
            "Reading Channels:  22%|██▏       | 5/23 [00:02<00:08,  2.13it/s]\n",
            "Reading Channels:  26%|██▌       | 6/23 [00:02<00:07,  2.30it/s]\n",
            "Reading Channels:  30%|███       | 7/23 [00:02<00:06,  2.43it/s]\n",
            "Reading Channels:  35%|███▍      | 8/23 [00:03<00:05,  2.65it/s]\n",
            "Reading Channels:  43%|████▎     | 10/23 [00:03<00:04,  2.75it/s]\n",
            "Reading Channels:  52%|█████▏    | 12/23 [00:04<00:03,  2.99it/s]\n",
            "Reading Channels:  39%|███▉      | 9/23 [00:02<00:04,  2.85it/s]\u001b[A\n",
            "Reading Channels:  61%|██████    | 14/23 [00:04<00:02,  4.28it/s]\n",
            "Reading Channels:  70%|██████▉   | 16/23 [00:04<00:01,  5.42it/s]\n",
            "Reading Channels:  74%|███████▍  | 17/23 [00:04<00:00,  6.15it/s]\n",
            "Reading Channels:  83%|████████▎ | 19/23 [00:05<00:00,  7.35it/s]\n",
            "Reading Channels:  61%|██████    | 14/23 [00:02<00:01,  5.70it/s]\u001b[A\n",
            "Reading Channels:  91%|█████████▏| 21/23 [00:05<00:00,  8.01it/s]\n",
            "Reading Channels: 100%|██████████| 23/23 [00:05<00:00,  9.59it/s]\n",
            "Reading Channels: 100%|██████████| 23/23 [00:05<00:00,  4.18it/s]\n",
            "Reading Channels: 100%|██████████| 23/23 [00:03<00:00,  6.15it/s]\n",
            "Reading Channels:   0%|          | 0/23 [00:00<?, ?it/s]"
          ],
          "name": "stderr"
        },
        {
          "output_type": "stream",
          "text": [
            "/content/DESTINATION/chbmit-1.0.0.physionet.org/chb03/chb03_12.edf (23, 921600)\n",
            "/content/DESTINATION/chbmit-1.0.0.physionet.org/chb02/chb02_23.edf (23, 921600)\n"
          ],
          "name": "stdout"
        },
        {
          "output_type": "stream",
          "text": [
            "Reading Channels:  13%|█▎        | 3/23 [00:01<00:13,  1.48it/s]"
          ],
          "name": "stderr"
        },
        {
          "output_type": "stream",
          "text": [
            "(3600,)\n"
          ],
          "name": "stdout"
        },
        {
          "output_type": "stream",
          "text": [
            "Reading Channels:  52%|█████▏    | 12/23 [00:04<00:03,  3.30it/s]\n",
            "Reading Channels:  61%|██████    | 14/23 [00:04<00:02,  4.35it/s]"
          ],
          "name": "stderr"
        },
        {
          "output_type": "stream",
          "text": [
            "extra (1201, 23, 256, 3) (0,)\n"
          ],
          "name": "stdout"
        },
        {
          "output_type": "stream",
          "text": [
            "\n",
            "Reading Channels:  70%|██████▉   | 16/23 [00:04<00:01,  3.61it/s]\n",
            "Reading Channels:  78%|███████▊  | 18/23 [00:04<00:01,  4.74it/s]\n",
            "Reading Channels:  87%|████████▋ | 20/23 [00:05<00:00,  4.17it/s]\n",
            "Reading Channels:  17%|█▋        | 4/24 [00:01<00:06,  3.31it/s]\u001b[A\n",
            "Reading Channels:  96%|█████████▌| 22/23 [00:05<00:00,  3.92it/s]\n",
            "Reading Channels:  25%|██▌       | 6/24 [00:01<00:05,  3.50it/s]\u001b[A\n",
            "Reading Channels: 100%|██████████| 23/23 [00:06<00:00,  3.83it/s]\n",
            "Reading Channels:  46%|████▌     | 11/24 [00:02<00:03,  4.30it/s]"
          ],
          "name": "stderr"
        },
        {
          "output_type": "stream",
          "text": [
            "/content/DESTINATION/chbmit-1.0.0.physionet.org/chb02/chb02_08.edf (23, 921600)\n"
          ],
          "name": "stdout"
        },
        {
          "output_type": "stream",
          "text": [
            "Reading Channels:  54%|█████▍    | 13/24 [00:03<00:02,  4.28it/s]"
          ],
          "name": "stderr"
        },
        {
          "output_type": "stream",
          "text": [
            "(7200,)\n"
          ],
          "name": "stdout"
        },
        {
          "output_type": "stream",
          "text": [
            "Reading Channels: 100%|██████████| 24/24 [00:06<00:00,  3.56it/s]\n",
            "Reading Channels:   9%|▊         | 2/23 [00:00<00:01, 19.63it/s]"
          ],
          "name": "stderr"
        },
        {
          "output_type": "stream",
          "text": [
            "(0,)\n",
            "extra (1, 23, 256, 3) (0,)\n"
          ],
          "name": "stdout"
        },
        {
          "output_type": "stream",
          "text": [
            "Reading Channels: 100%|██████████| 23/23 [00:01<00:00, 19.03it/s]\n"
          ],
          "name": "stderr"
        },
        {
          "output_type": "stream",
          "text": [
            "/content/DESTINATION/chbmit-1.0.0.physionet.org/chb03/chb03_12.edf (23, 921600)\n",
            "(3600,)\n"
          ],
          "name": "stdout"
        },
        {
          "output_type": "stream",
          "text": [
            "Reading Channels:   4%|▍         | 1/23 [00:00<00:02,  7.52it/s]"
          ],
          "name": "stderr"
        },
        {
          "output_type": "stream",
          "text": [
            "extra (1, 23, 256, 3) (0,)\n"
          ],
          "name": "stdout"
        },
        {
          "output_type": "stream",
          "text": [
            "Reading Channels: 100%|██████████| 23/23 [00:02<00:00, 11.12it/s]\n"
          ],
          "name": "stderr"
        },
        {
          "output_type": "stream",
          "text": [
            "/content/DESTINATION/chbmit-1.0.0.physionet.org/chb02/chb02_08.edf (23, 921600)\n",
            "(3600,)\n"
          ],
          "name": "stdout"
        },
        {
          "output_type": "stream",
          "text": [
            "\rReading Channels:   0%|          | 0/24 [00:00<?, ?it/s]"
          ],
          "name": "stderr"
        },
        {
          "output_type": "stream",
          "text": [
            "extra (1, 23, 256, 3) (0,)\n"
          ],
          "name": "stdout"
        },
        {
          "output_type": "stream",
          "text": [
            "Reading Channels: 100%|██████████| 24/24 [00:06<00:00,  3.84it/s]\n",
            "Reading Channels: 100%|██████████| 23/23 [00:01<00:00, 19.03it/s]\n",
            "Reading Channels: 100%|██████████| 23/23 [00:04<00:00,  4.88it/s]\n"
          ],
          "name": "stderr"
        },
        {
          "output_type": "stream",
          "text": [
            "/content/DESTINATION/chbmit-1.0.0.physionet.org/chb01/chb01_14.edf (23, 921600)\n",
            "(3600,)\n"
          ],
          "name": "stdout"
        },
        {
          "output_type": "stream",
          "text": [
            "\rReading Channels:   0%|          | 0/23 [00:00<?, ?it/s]"
          ],
          "name": "stderr"
        },
        {
          "output_type": "stream",
          "text": [
            "extra (1, 23, 256, 3) (0,)\n"
          ],
          "name": "stdout"
        },
        {
          "output_type": "stream",
          "text": [
            "Reading Channels: 100%|██████████| 23/23 [00:03<00:00,  6.34it/s]\n",
            "Reading Channels: 100%|██████████| 23/23 [00:04<00:00,  4.89it/s]\n"
          ],
          "name": "stderr"
        },
        {
          "output_type": "stream",
          "text": [
            "/content/DESTINATION/chbmit-1.0.0.physionet.org/chb02/chb02_09.edf (23, 921600)\n",
            "(3600,)\n"
          ],
          "name": "stdout"
        },
        {
          "output_type": "stream",
          "text": [
            "\rReading Channels:   0%|          | 0/23 [00:00<?, ?it/s]"
          ],
          "name": "stderr"
        },
        {
          "output_type": "stream",
          "text": [
            "extra (1, 23, 256, 3) (0,)\n"
          ],
          "name": "stdout"
        },
        {
          "output_type": "stream",
          "text": [
            "Reading Channels: 100%|██████████| 23/23 [00:04<00:00,  4.96it/s]\n"
          ],
          "name": "stderr"
        },
        {
          "output_type": "stream",
          "text": [
            "/content/DESTINATION/chbmit-1.0.0.physionet.org/chb02/chb02_05.edf (23, 921600)\n",
            "(3600,)\n"
          ],
          "name": "stdout"
        },
        {
          "output_type": "stream",
          "text": [
            "\rReading Channels:   0%|          | 0/23 [00:00<?, ?it/s]"
          ],
          "name": "stderr"
        },
        {
          "output_type": "stream",
          "text": [
            "extra (1, 23, 256, 3) (0,)\n"
          ],
          "name": "stdout"
        },
        {
          "output_type": "stream",
          "text": [
            "Reading Channels: 100%|██████████| 23/23 [00:04<00:00,  4.96it/s]\n"
          ],
          "name": "stderr"
        },
        {
          "output_type": "stream",
          "text": [
            "/content/DESTINATION/chbmit-1.0.0.physionet.org/chb01/chb01_40.edf (23, 921600)\n",
            "(3600,)\n"
          ],
          "name": "stdout"
        },
        {
          "output_type": "stream",
          "text": [
            "\rReading Channels:   0%|          | 0/23 [00:00<?, ?it/s]"
          ],
          "name": "stderr"
        },
        {
          "output_type": "stream",
          "text": [
            "extra (1, 23, 256, 3) (0,)\n"
          ],
          "name": "stdout"
        },
        {
          "output_type": "stream",
          "text": [
            "Reading Channels: 100%|██████████| 23/23 [00:04<00:00,  5.03it/s]\n"
          ],
          "name": "stderr"
        },
        {
          "output_type": "stream",
          "text": [
            "/content/DESTINATION/chbmit-1.0.0.physionet.org/chb03/chb03_09.edf (23, 921600)\n",
            "(3600,)\n"
          ],
          "name": "stdout"
        },
        {
          "output_type": "stream",
          "text": [
            "\rReading Channels:   0%|          | 0/23 [00:00<?, ?it/s]"
          ],
          "name": "stderr"
        },
        {
          "output_type": "stream",
          "text": [
            "extra (1, 23, 256, 3) (0,)\n"
          ],
          "name": "stdout"
        },
        {
          "output_type": "stream",
          "text": [
            "Reading Channels: 100%|██████████| 23/23 [00:04<00:00,  5.00it/s]\n"
          ],
          "name": "stderr"
        },
        {
          "output_type": "stream",
          "text": [
            "/content/DESTINATION/chbmit-1.0.0.physionet.org/chb01/chb01_37.edf (23, 921600)\n",
            "(3600,)\n"
          ],
          "name": "stdout"
        },
        {
          "output_type": "stream",
          "text": [
            "\rReading Channels:   0%|          | 0/23 [00:00<?, ?it/s]"
          ],
          "name": "stderr"
        },
        {
          "output_type": "stream",
          "text": [
            "extra (1, 23, 256, 3) (0,)\n"
          ],
          "name": "stdout"
        },
        {
          "output_type": "stream",
          "text": [
            "Reading Channels: 100%|██████████| 23/23 [00:04<00:00,  5.07it/s]\n"
          ],
          "name": "stderr"
        },
        {
          "output_type": "stream",
          "text": [
            "/content/DESTINATION/chbmit-1.0.0.physionet.org/chb02/chb02_13.edf (23, 921600)\n",
            "(3600,)\n"
          ],
          "name": "stdout"
        },
        {
          "output_type": "stream",
          "text": [
            "\rReading Channels:   0%|          | 0/23 [00:00<?, ?it/s]"
          ],
          "name": "stderr"
        },
        {
          "output_type": "stream",
          "text": [
            "extra (1, 23, 256, 3) (0,)\n"
          ],
          "name": "stdout"
        },
        {
          "output_type": "stream",
          "text": [
            "Reading Channels: 100%|██████████| 23/23 [00:04<00:00,  4.86it/s]\n"
          ],
          "name": "stderr"
        },
        {
          "output_type": "stream",
          "text": [
            "/content/DESTINATION/chbmit-1.0.0.physionet.org/chb02/chb02_34.edf (23, 921600)\n",
            "(3600,)\n"
          ],
          "name": "stdout"
        },
        {
          "output_type": "stream",
          "text": [
            "\rReading Channels:   0%|          | 0/23 [00:00<?, ?it/s]"
          ],
          "name": "stderr"
        },
        {
          "output_type": "stream",
          "text": [
            "extra (1, 23, 256, 3) (0,)\n"
          ],
          "name": "stdout"
        },
        {
          "output_type": "stream",
          "text": [
            "Reading Channels: 100%|██████████| 23/23 [00:04<00:00,  4.98it/s]\n"
          ],
          "name": "stderr"
        },
        {
          "output_type": "stream",
          "text": [
            "/content/DESTINATION/chbmit-1.0.0.physionet.org/chb02/chb02_07.edf (23, 921600)\n",
            "(3600,)\n"
          ],
          "name": "stdout"
        },
        {
          "output_type": "stream",
          "text": [
            "\rReading Channels:   0%|          | 0/23 [00:00<?, ?it/s]"
          ],
          "name": "stderr"
        },
        {
          "output_type": "stream",
          "text": [
            "extra (1, 23, 256, 3) (0,)\n"
          ],
          "name": "stdout"
        },
        {
          "output_type": "stream",
          "text": [
            "Reading Channels: 100%|██████████| 23/23 [00:04<00:00,  4.79it/s]\n"
          ],
          "name": "stderr"
        },
        {
          "output_type": "stream",
          "text": [
            "/content/DESTINATION/chbmit-1.0.0.physionet.org/chb01/chb01_33.edf (23, 921600)\n",
            "(3600,)\n",
            "6/6 [==============================] - 149s 25s/step - loss: 0.5597 - acc: 0.9653 - val_loss: 1.1921e-07 - val_acc: 1.0000\n"
          ],
          "name": "stdout"
        }
      ]
    },
    {
      "cell_type": "markdown",
      "metadata": {
        "id": "cdaDH80msI01"
      },
      "source": [
        "### Results"
      ]
    },
    {
      "cell_type": "code",
      "metadata": {
        "id": "fbS3xMNqsIBs",
        "outputId": "ee976089-4f39-4cf0-b160-ad1b62e28798",
        "colab": {
          "base_uri": "https://localhost:8080/",
          "height": 573
        }
      },
      "source": [
        "import matplotlib.pyplot as pyplot\n",
        "\n",
        "loss2 = history_cnn2.history['loss']\n",
        "val_loss2 = history_cnn2.history['val_loss']\n",
        "epochs2 = range(1, len(loss2) + 1)\n",
        "pyplot.grid()\n",
        "pyplot.plot(epochs2, loss2, '*y-', label='Training loss')\n",
        "pyplot.plot(epochs2, val_loss2, '*r-', label='Validation loss')\n",
        "pyplot.title('Training and validation loss')\n",
        "pyplot.xlabel('Epochs')\n",
        "pyplot.ylabel('Loss')\n",
        "pyplot.legend()\n",
        "pyplot.show()\n",
        "\n",
        "pyplot.grid()\n",
        "acc2 = history_cnn2.history['acc']\n",
        "val_acc2 = history_cnn2.history['val_acc']\n",
        "epochs2 = range(1, len(loss2) + 1)\n",
        "pyplot.plot(epochs2, acc2, '*y-', label='Training Accuracy')\n",
        "pyplot.plot(epochs2, val_acc2, '*r-', label='Validation Accuracy')\n",
        "pyplot.title('Training and validation Accuracies')\n",
        "pyplot.xlabel('Epochs')\n",
        "pyplot.ylabel('Loss')\n",
        "pyplot.legend()\n",
        "pyplot.show()"
      ],
      "execution_count": 11,
      "outputs": [
        {
          "output_type": "display_data",
          "data": {
            "image/png": "[encoded data removed]",
            "text/plain": [
              "<Figure size 432x288 with 1 Axes>"
            ]
          },
          "metadata": {
            "tags": [],
            "needs_background": "light"
          }
        },
        {
          "output_type": "display_data",
          "data": {
            "image/png": "[encoded data removed]",
            "text/plain": [
              "<Figure size 432x288 with 1 Axes>"
            ]
          },
          "metadata": {
            "tags": [],
            "needs_background": "light"
          }
        }
      ]
    },
    {
      "cell_type": "markdown",
      "metadata": {
        "id": "GQ5yepK3ER9v"
      },
      "source": [
        "## Discussion and Conclusion"
      ]
    },
    {
      "cell_type": "markdown",
      "metadata": {
        "id": "KIXnhzJdEaJ5"
      },
      "source": [
        "Yay our implementation is successful..."
      ]
    },
    {
      "cell_type": "markdown",
      "metadata": {
        "id": "CKCAOecTCyuv"
      },
      "source": [
        "# Bibliography\n",
        "[1] CHB-MIT Scalp EEG Database, Retrieved from: https://physionet.org/content/chbmit/1.0.0/\n"
      ]
    }
  ]
}